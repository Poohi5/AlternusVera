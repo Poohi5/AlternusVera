{
  "nbformat": 4,
  "nbformat_minor": 0,
  "metadata": {
    "colab": {
      "name": "MLFinals_Pooja.ipynb",
      "provenance": [],
      "authorship_tag": "ABX9TyMvQVt4B93R16VEeoTAaQYI",
      "include_colab_link": true
    },
    "kernelspec": {
      "name": "python3",
      "display_name": "Python 3"
    },
    "accelerator": "GPU"
  },
  "cells": [
    {
      "cell_type": "markdown",
      "metadata": {
        "id": "view-in-github",
        "colab_type": "text"
      },
      "source": [
        "<a href=\"https://colab.research.google.com/github/Poohi5/AlternusVera/blob/master/MLFinals_Pooja.ipynb\" target=\"_parent\"><img src=\"https://colab.research.google.com/assets/colab-badge.svg\" alt=\"Open In Colab\"/></a>"
      ]
    },
    {
      "cell_type": "markdown",
      "metadata": {
        "id": "QeKornPziwu1",
        "colab_type": "text"
      },
      "source": [
        "#Alternus Vera\n"
      ]
    },
    {
      "cell_type": "markdown",
      "metadata": {
        "id": "s7fWhVukgW7H",
        "colab_type": "text"
      },
      "source": [
        "**Name-** Pooja Patil\n",
        "\n",
        "**SJSU ID-** 01373698\n",
        "\n",
        "**Factor-** Title vs Body\n",
        "\n"
      ]
    },
    {
      "cell_type": "markdown",
      "metadata": {
        "id": "UKx9fjNRglm9",
        "colab_type": "text"
      },
      "source": [
        "#Liar Liar Dataset"
      ]
    },
    {
      "cell_type": "markdown",
      "metadata": {
        "id": "NYfwKAWcgqVw",
        "colab_type": "text"
      },
      "source": [
        "###Applied Classification models and Neural Network LSTM Model on Liar Liar Dataset, to predict label as either one of the following:\n",
        "\n",
        "\n",
        "1.   FALSE\n",
        "2.   Pants Fire\n",
        "3.   barely-true\n",
        "4.   half-true\n",
        "5.   mostly-true\n",
        "6.   TRUE\n"
      ]
    },
    {
      "cell_type": "markdown",
      "metadata": {
        "id": "ey2X6jBjhM7P",
        "colab_type": "text"
      },
      "source": [
        "####Mount Drive"
      ]
    },
    {
      "cell_type": "code",
      "metadata": {
        "id": "nrgvkr_pv3wB",
        "colab_type": "code",
        "outputId": "b1904a70-dab4-4107-dde8-09b2de809071",
        "colab": {
          "base_uri": "https://localhost:8080/",
          "height": 122
        }
      },
      "source": [
        "from google.colab import drive\n",
        "drive.mount('/content/gdrive', force_remount=True)\n",
        "root_dir = \"/content/gdrive/My Drive/MLSpring2020/\"\n",
        "base_dir = root_dir + 'the_expendables_AirQuality_Traffic'"
      ],
      "execution_count": 1,
      "outputs": [
        {
          "output_type": "stream",
          "text": [
            "Go to this URL in a browser: https://accounts.google.com/o/oauth2/auth?client_id=947318989803-6bn6qk8qdgf4n4g3pfee6491hc0brc4i.apps.googleusercontent.com&redirect_uri=urn%3aietf%3awg%3aoauth%3a2.0%3aoob&response_type=code&scope=email%20https%3a%2f%2fwww.googleapis.com%2fauth%2fdocs.test%20https%3a%2f%2fwww.googleapis.com%2fauth%2fdrive%20https%3a%2f%2fwww.googleapis.com%2fauth%2fdrive.photos.readonly%20https%3a%2f%2fwww.googleapis.com%2fauth%2fpeopleapi.readonly\n",
            "\n",
            "Enter your authorization code:\n",
            "··········\n",
            "Mounted at /content/gdrive\n"
          ],
          "name": "stdout"
        }
      ]
    },
    {
      "cell_type": "markdown",
      "metadata": {
        "id": "2K753rdAhOpC",
        "colab_type": "text"
      },
      "source": [
        "###Set paths to get the csv files from drive and save in Pandas Dataframe"
      ]
    },
    {
      "cell_type": "code",
      "metadata": {
        "id": "2vjktK3EwAqT",
        "colab_type": "code",
        "colab": {}
      },
      "source": [
        "train = base_dir + '/Alternus_vera/liar_dataset/train_liar.csv'"
      ],
      "execution_count": 0,
      "outputs": []
    },
    {
      "cell_type": "code",
      "metadata": {
        "id": "P6tdBhhJz8vJ",
        "colab_type": "code",
        "colab": {}
      },
      "source": [
        "test = base_dir + '/Alternus_vera/liar_dataset/test_liar.csv'"
      ],
      "execution_count": 0,
      "outputs": []
    },
    {
      "cell_type": "code",
      "metadata": {
        "id": "88NKER-pz8oc",
        "colab_type": "code",
        "colab": {}
      },
      "source": [
        "valid = base_dir + '/Alternus_vera/liar_dataset/valid_liar.csv'"
      ],
      "execution_count": 0,
      "outputs": []
    },
    {
      "cell_type": "code",
      "metadata": {
        "id": "OCPpBxoZwJ67",
        "colab_type": "code",
        "colab": {}
      },
      "source": [
        "import pandas as pd\n",
        "import numpy as np"
      ],
      "execution_count": 0,
      "outputs": []
    },
    {
      "cell_type": "code",
      "metadata": {
        "id": "WSf1OFQSwMhr",
        "colab_type": "code",
        "outputId": "fdb4fcbf-75ad-4534-8424-82719a5b37f5",
        "colab": {
          "base_uri": "https://localhost:8080/",
          "height": 71
        }
      },
      "source": [
        "import matplotlib.pyplot as plt\n",
        "import seaborn as sns\n",
        "%matplotlib inline"
      ],
      "execution_count": 6,
      "outputs": [
        {
          "output_type": "stream",
          "text": [
            "/usr/local/lib/python3.6/dist-packages/statsmodels/tools/_testing.py:19: FutureWarning: pandas.util.testing is deprecated. Use the functions in the public API at pandas.testing instead.\n",
            "  import pandas.util.testing as tm\n"
          ],
          "name": "stderr"
        }
      ]
    },
    {
      "cell_type": "code",
      "metadata": {
        "id": "aV3davgq0SKd",
        "colab_type": "code",
        "colab": {}
      },
      "source": [
        "train = pd.read_csv(train, encoding='latin-1')\n",
        "val   = pd.read_csv(valid, encoding='latin-1')\n",
        "test  = pd.read_csv(test, encoding='latin-1')"
      ],
      "execution_count": 0,
      "outputs": []
    },
    {
      "cell_type": "code",
      "metadata": {
        "id": "7xBbZ_YZhg2v",
        "colab_type": "code",
        "colab": {}
      },
      "source": [
        "dataPathliar = base_dir + '/Alternus_vera/liar_1.csv'"
      ],
      "execution_count": 0,
      "outputs": []
    },
    {
      "cell_type": "code",
      "metadata": {
        "id": "DkDgeVD7h-uX",
        "colab_type": "code",
        "colab": {}
      },
      "source": [
        "df = pd.read_csv(dataPathliar)"
      ],
      "execution_count": 0,
      "outputs": []
    },
    {
      "cell_type": "code",
      "metadata": {
        "id": "p2cdwrE1iXGk",
        "colab_type": "code",
        "outputId": "2ceef4aa-f32d-40b2-f83e-ce47f1ba2314",
        "colab": {
          "base_uri": "https://localhost:8080/",
          "height": 111
        }
      },
      "source": [
        "df.head(2)"
      ],
      "execution_count": 10,
      "outputs": [
        {
          "output_type": "execute_result",
          "data": {
            "text/html": [
              "<div>\n",
              "<style scoped>\n",
              "    .dataframe tbody tr th:only-of-type {\n",
              "        vertical-align: middle;\n",
              "    }\n",
              "\n",
              "    .dataframe tbody tr th {\n",
              "        vertical-align: top;\n",
              "    }\n",
              "\n",
              "    .dataframe thead th {\n",
              "        text-align: right;\n",
              "    }\n",
              "</style>\n",
              "<table border=\"1\" class=\"dataframe\">\n",
              "  <thead>\n",
              "    <tr style=\"text-align: right;\">\n",
              "      <th></th>\n",
              "      <th>Unnamed: 0</th>\n",
              "      <th>body</th>\n",
              "      <th>author</th>\n",
              "      <th>title</th>\n",
              "      <th>fakeness</th>\n",
              "    </tr>\n",
              "  </thead>\n",
              "  <tbody>\n",
              "    <tr>\n",
              "      <th>0</th>\n",
              "      <td>0</td>\n",
              "      <td>says annies list political group supports thir...</td>\n",
              "      <td>dwayne-bohac</td>\n",
              "      <td>abortion</td>\n",
              "      <td>FALSE</td>\n",
              "    </tr>\n",
              "    <tr>\n",
              "      <th>1</th>\n",
              "      <td>1</td>\n",
              "      <td>decline coal start started natural gas took st...</td>\n",
              "      <td>scott-surovell</td>\n",
              "      <td>energy,history,job-accomplishments</td>\n",
              "      <td>half-true</td>\n",
              "    </tr>\n",
              "  </tbody>\n",
              "</table>\n",
              "</div>"
            ],
            "text/plain": [
              "   Unnamed: 0  ...   fakeness\n",
              "0           0  ...      FALSE\n",
              "1           1  ...  half-true\n",
              "\n",
              "[2 rows x 5 columns]"
            ]
          },
          "metadata": {
            "tags": []
          },
          "execution_count": 10
        }
      ]
    },
    {
      "cell_type": "code",
      "metadata": {
        "id": "k-v3uAx1pxAQ",
        "colab_type": "code",
        "colab": {}
      },
      "source": [
        "df = df.drop('Unnamed: 0', axis=1)"
      ],
      "execution_count": 0,
      "outputs": []
    },
    {
      "cell_type": "code",
      "metadata": {
        "id": "9T3qJ7dRpgQx",
        "colab_type": "code",
        "outputId": "6a76dbba-6c50-4ad9-d829-9b4e0fc224f2",
        "colab": {
          "base_uri": "https://localhost:8080/",
          "height": 34
        }
      },
      "source": [
        "df.shape"
      ],
      "execution_count": 12,
      "outputs": [
        {
          "output_type": "execute_result",
          "data": {
            "text/plain": [
              "(12791, 4)"
            ]
          },
          "metadata": {
            "tags": []
          },
          "execution_count": 12
        }
      ]
    },
    {
      "cell_type": "code",
      "metadata": {
        "id": "AsDEu52dpQyg",
        "colab_type": "code",
        "colab": {}
      },
      "source": [
        "df.dropna(inplace=True)"
      ],
      "execution_count": 0,
      "outputs": []
    },
    {
      "cell_type": "code",
      "metadata": {
        "id": "vWLRPFucpk07",
        "colab_type": "code",
        "outputId": "f6cc2362-d1d5-42a8-e2db-ec218f9fbc6f",
        "colab": {
          "base_uri": "https://localhost:8080/",
          "height": 34
        }
      },
      "source": [
        "df.shape"
      ],
      "execution_count": 14,
      "outputs": [
        {
          "output_type": "execute_result",
          "data": {
            "text/plain": [
              "(12789, 4)"
            ]
          },
          "metadata": {
            "tags": []
          },
          "execution_count": 14
        }
      ]
    },
    {
      "cell_type": "code",
      "metadata": {
        "id": "spOJRzHWrIMd",
        "colab_type": "code",
        "colab": {}
      },
      "source": [
        "X=df.drop('fakeness',axis=1)"
      ],
      "execution_count": 0,
      "outputs": []
    },
    {
      "cell_type": "code",
      "metadata": {
        "id": "kR87isozrMCR",
        "colab_type": "code",
        "colab": {}
      },
      "source": [
        "y=df['fakeness']"
      ],
      "execution_count": 0,
      "outputs": []
    },
    {
      "cell_type": "code",
      "metadata": {
        "id": "SsKuj1MMrNzU",
        "colab_type": "code",
        "colab": {}
      },
      "source": [
        "from sklearn.feature_extraction.text import CountVectorizer, TfidfVectorizer, HashingVectorizer"
      ],
      "execution_count": 0,
      "outputs": []
    },
    {
      "cell_type": "code",
      "metadata": {
        "id": "mLu7dDYBrP8e",
        "colab_type": "code",
        "colab": {}
      },
      "source": [
        "messages=df.copy()"
      ],
      "execution_count": 0,
      "outputs": []
    },
    {
      "cell_type": "code",
      "metadata": {
        "id": "Lpx8aBT9ibyc",
        "colab_type": "code",
        "outputId": "1a5d76bb-4600-443d-9922-cad48a60cb38",
        "colab": {
          "base_uri": "https://localhost:8080/",
          "height": 111
        }
      },
      "source": [
        "messages.tail(2)"
      ],
      "execution_count": 19,
      "outputs": [
        {
          "output_type": "execute_result",
          "data": {
            "text/html": [
              "<div>\n",
              "<style scoped>\n",
              "    .dataframe tbody tr th:only-of-type {\n",
              "        vertical-align: middle;\n",
              "    }\n",
              "\n",
              "    .dataframe tbody tr th {\n",
              "        vertical-align: top;\n",
              "    }\n",
              "\n",
              "    .dataframe thead th {\n",
              "        text-align: right;\n",
              "    }\n",
              "</style>\n",
              "<table border=\"1\" class=\"dataframe\">\n",
              "  <thead>\n",
              "    <tr style=\"text-align: right;\">\n",
              "      <th></th>\n",
              "      <th>body</th>\n",
              "      <th>author</th>\n",
              "      <th>title</th>\n",
              "      <th>fakeness</th>\n",
              "    </tr>\n",
              "  </thead>\n",
              "  <tbody>\n",
              "    <tr>\n",
              "      <th>12789</th>\n",
              "      <td>new poll shows percent support presidents plan...</td>\n",
              "      <td>americans-united-change</td>\n",
              "      <td>health-care</td>\n",
              "      <td>FALSE</td>\n",
              "    </tr>\n",
              "    <tr>\n",
              "      <th>12790</th>\n",
              "      <td>claims report vindicating new jersey gov chris...</td>\n",
              "      <td>rudy-giuliani</td>\n",
              "      <td>candidates-biography,infrastructure</td>\n",
              "      <td>barely-true</td>\n",
              "    </tr>\n",
              "  </tbody>\n",
              "</table>\n",
              "</div>"
            ],
            "text/plain": [
              "                                                    body  ...     fakeness\n",
              "12789  new poll shows percent support presidents plan...  ...        FALSE\n",
              "12790  claims report vindicating new jersey gov chris...  ...  barely-true\n",
              "\n",
              "[2 rows x 4 columns]"
            ]
          },
          "metadata": {
            "tags": []
          },
          "execution_count": 19
        }
      ]
    },
    {
      "cell_type": "code",
      "metadata": {
        "id": "av-Xk7Q_rVc9",
        "colab_type": "code",
        "outputId": "e392dc17-9cc5-4424-89f8-5170e0e074c0",
        "colab": {
          "base_uri": "https://localhost:8080/",
          "height": 34
        }
      },
      "source": [
        "messages['title'][12789]"
      ],
      "execution_count": 20,
      "outputs": [
        {
          "output_type": "execute_result",
          "data": {
            "text/plain": [
              "'health-care'"
            ]
          },
          "metadata": {
            "tags": []
          },
          "execution_count": 20
        }
      ]
    },
    {
      "cell_type": "code",
      "metadata": {
        "id": "XgVa5uf2ifrX",
        "colab_type": "code",
        "outputId": "9322b926-0be4-4942-a949-6f7504c2c99e",
        "colab": {
          "base_uri": "https://localhost:8080/",
          "height": 68
        }
      },
      "source": [
        "import re\n",
        "import nltk\n",
        "nltk.download('stopwords')\n",
        "  "
      ],
      "execution_count": 21,
      "outputs": [
        {
          "output_type": "stream",
          "text": [
            "[nltk_data] Downloading package stopwords to /root/nltk_data...\n",
            "[nltk_data]   Unzipping corpora/stopwords.zip.\n"
          ],
          "name": "stdout"
        },
        {
          "output_type": "execute_result",
          "data": {
            "text/plain": [
              "True"
            ]
          },
          "metadata": {
            "tags": []
          },
          "execution_count": 21
        }
      ]
    },
    {
      "cell_type": "markdown",
      "metadata": {
        "id": "CBDpMrPqik7q",
        "colab_type": "text"
      },
      "source": [
        "###Text Preprocessing"
      ]
    },
    {
      "cell_type": "code",
      "metadata": {
        "id": "YoKT3kJ1sAvA",
        "colab_type": "code",
        "outputId": "dd158207-fc63-48b9-a3ac-0d212fd335bd",
        "colab": {
          "base_uri": "https://localhost:8080/",
          "height": 34
        }
      },
      "source": [
        "messages.columns"
      ],
      "execution_count": 22,
      "outputs": [
        {
          "output_type": "execute_result",
          "data": {
            "text/plain": [
              "Index(['body', 'author', 'title', 'fakeness'], dtype='object')"
            ]
          },
          "metadata": {
            "tags": []
          },
          "execution_count": 22
        }
      ]
    },
    {
      "cell_type": "code",
      "metadata": {
        "id": "4M9HBhBhsQ4-",
        "colab_type": "code",
        "colab": {}
      },
      "source": [
        "messages.reset_index(inplace=True)"
      ],
      "execution_count": 0,
      "outputs": []
    },
    {
      "cell_type": "code",
      "metadata": {
        "id": "KVtmyqFaimyd",
        "colab_type": "code",
        "colab": {}
      },
      "source": [
        "from nltk.corpus import stopwords\n",
        "from nltk.stem.porter import PorterStemmer\n",
        "ps = PorterStemmer()\n",
        "corpus = []\n",
        "for i in range(0, len(messages)):\n",
        "    review = re.sub('[^a-zA-Z]', ' ', messages['body'][i])\n",
        "    review = review.lower()\n",
        "    review = review.split()\n",
        "    \n",
        "    review = [ps.stem(word) for word in review if not word in stopwords.words('english')]\n",
        "    review = ' '.join(review)\n",
        "    corpus.append(review)#"
      ],
      "execution_count": 0,
      "outputs": []
    },
    {
      "cell_type": "code",
      "metadata": {
        "id": "BiiFNyGxsT1k",
        "colab_type": "code",
        "outputId": "0737b277-252a-43c3-dfd9-ebaa777df2fc",
        "colab": {
          "base_uri": "https://localhost:8080/",
          "height": 34
        }
      },
      "source": [
        "corpus[4524]"
      ],
      "execution_count": 25,
      "outputs": [
        {
          "output_type": "execute_result",
          "data": {
            "text/plain": [
              "'iran deal trust iranian inspect'"
            ]
          },
          "metadata": {
            "tags": []
          },
          "execution_count": 25
        }
      ]
    },
    {
      "cell_type": "markdown",
      "metadata": {
        "id": "JvwWaF40sa_s",
        "colab_type": "text"
      },
      "source": [
        "###Count Vectorizing"
      ]
    },
    {
      "cell_type": "code",
      "metadata": {
        "id": "X-xqEUwlsdpN",
        "colab_type": "code",
        "colab": {}
      },
      "source": [
        "from sklearn.feature_extraction.text import CountVectorizer\n",
        "cv = CountVectorizer(max_features=5000,ngram_range=(1,3))\n",
        "X = cv.fit_transform(corpus).toarray()"
      ],
      "execution_count": 0,
      "outputs": []
    },
    {
      "cell_type": "code",
      "metadata": {
        "id": "ByVeVdoqsfcZ",
        "colab_type": "code",
        "colab": {}
      },
      "source": [
        "y=messages['fakeness']"
      ],
      "execution_count": 0,
      "outputs": []
    },
    {
      "cell_type": "code",
      "metadata": {
        "id": "azpBNrABtM3V",
        "colab_type": "code",
        "colab": {}
      },
      "source": [
        "from sklearn.model_selection import train_test_split\n",
        "X_train, X_test, y_train, y_test = train_test_split(X, y, test_size=0.33, random_state=0)"
      ],
      "execution_count": 0,
      "outputs": []
    },
    {
      "cell_type": "code",
      "metadata": {
        "id": "CVO9I6d3tQBi",
        "colab_type": "code",
        "outputId": "d58b2133-3e3b-42c6-957c-8195fa697f1c",
        "colab": {
          "base_uri": "https://localhost:8080/",
          "height": 357
        }
      },
      "source": [
        "cv.get_feature_names()[:20]"
      ],
      "execution_count": 29,
      "outputs": [
        {
          "output_type": "execute_result",
          "data": {
            "text/plain": [
              "['abbott',\n",
              " 'abel',\n",
              " 'abil',\n",
              " 'abl',\n",
              " 'abolish',\n",
              " 'abort',\n",
              " 'abort case',\n",
              " 'abort case rape',\n",
              " 'abort clinic',\n",
              " 'abort illeg',\n",
              " 'abort right',\n",
              " 'abraham',\n",
              " 'abraham lincoln',\n",
              " 'absolut',\n",
              " 'abus',\n",
              " 'academ',\n",
              " 'academi',\n",
              " 'accept',\n",
              " 'access',\n",
              " 'access health']"
            ]
          },
          "metadata": {
            "tags": []
          },
          "execution_count": 29
        }
      ]
    },
    {
      "cell_type": "code",
      "metadata": {
        "id": "JSRybmtRtP_Q",
        "colab_type": "code",
        "outputId": "7a5c04d2-d77c-4343-8e48-f7ba685452d8",
        "colab": {
          "base_uri": "https://localhost:8080/",
          "height": 306
        }
      },
      "source": [
        "cv.get_params()"
      ],
      "execution_count": 30,
      "outputs": [
        {
          "output_type": "execute_result",
          "data": {
            "text/plain": [
              "{'analyzer': 'word',\n",
              " 'binary': False,\n",
              " 'decode_error': 'strict',\n",
              " 'dtype': numpy.int64,\n",
              " 'encoding': 'utf-8',\n",
              " 'input': 'content',\n",
              " 'lowercase': True,\n",
              " 'max_df': 1.0,\n",
              " 'max_features': 5000,\n",
              " 'min_df': 1,\n",
              " 'ngram_range': (1, 3),\n",
              " 'preprocessor': None,\n",
              " 'stop_words': None,\n",
              " 'strip_accents': None,\n",
              " 'token_pattern': '(?u)\\\\b\\\\w\\\\w+\\\\b',\n",
              " 'tokenizer': None,\n",
              " 'vocabulary': None}"
            ]
          },
          "metadata": {
            "tags": []
          },
          "execution_count": 30
        }
      ]
    },
    {
      "cell_type": "code",
      "metadata": {
        "id": "9_kIf1UctP8z",
        "colab_type": "code",
        "colab": {}
      },
      "source": [
        "count_df = pd.DataFrame(X_train, columns=cv.get_feature_names())"
      ],
      "execution_count": 0,
      "outputs": []
    },
    {
      "cell_type": "code",
      "metadata": {
        "id": "c_479PtKtP3t",
        "colab_type": "code",
        "colab": {}
      },
      "source": [
        "import matplotlib.pyplot as plt"
      ],
      "execution_count": 0,
      "outputs": []
    },
    {
      "cell_type": "code",
      "metadata": {
        "id": "dOmWI0YutaNP",
        "colab_type": "code",
        "colab": {}
      },
      "source": [
        "def plot_confusion_matrix(cm, classes,\n",
        "                          normalize=False,\n",
        "                          title='Confusion matrix',\n",
        "                          cmap=plt.cm.Blues):\n",
        "    \"\"\"\n",
        "    See full source and example: \n",
        "    http://scikit-learn.org/stable/auto_examples/model_selection/plot_confusion_matrix.html\n",
        "    \n",
        "    This function prints and plots the confusion matrix.\n",
        "    Normalization can be applied by setting `normalize=True`.\n",
        "    \"\"\"\n",
        "    plt.imshow(cm, interpolation='nearest', cmap=cmap)\n",
        "    plt.title(title)\n",
        "    plt.colorbar()\n",
        "    tick_marks = np.arange(len(classes))\n",
        "    plt.xticks(tick_marks, classes, rotation=45)\n",
        "    plt.yticks(tick_marks, classes)\n",
        "\n",
        "    if normalize:\n",
        "        cm = cm.astype('float') / cm.sum(axis=1)[:, np.newaxis]\n",
        "        print(\"Normalized confusion matrix\")\n",
        "    else:\n",
        "        print('Confusion matrix, without normalization')\n",
        "\n",
        "    thresh = cm.max() / 2.\n",
        "    for i, j in itertools.product(range(cm.shape[0]), range(cm.shape[1])):\n",
        "        plt.text(j, i, cm[i, j],\n",
        "                 horizontalalignment=\"center\",\n",
        "                 color=\"white\" if cm[i, j] > thresh else \"black\")\n",
        "\n",
        "    plt.tight_layout()\n",
        "    plt.ylabel('True label')\n",
        "    plt.xlabel('Predicted label')\n"
      ],
      "execution_count": 0,
      "outputs": []
    },
    {
      "cell_type": "markdown",
      "metadata": {
        "id": "M2GmJR0Ctdae",
        "colab_type": "text"
      },
      "source": [
        "###Multinomial Naive Bayes"
      ]
    },
    {
      "cell_type": "code",
      "metadata": {
        "id": "oQFzfu_mtaKs",
        "colab_type": "code",
        "colab": {}
      },
      "source": [
        "from sklearn.naive_bayes import MultinomialNB\n",
        "classifier=MultinomialNB()"
      ],
      "execution_count": 0,
      "outputs": []
    },
    {
      "cell_type": "code",
      "metadata": {
        "id": "1xaK0auttaIC",
        "colab_type": "code",
        "colab": {}
      },
      "source": [
        "from sklearn import metrics\n",
        "import numpy as np\n",
        "import itertools"
      ],
      "execution_count": 0,
      "outputs": []
    },
    {
      "cell_type": "code",
      "metadata": {
        "id": "go408NwptnjZ",
        "colab_type": "code",
        "outputId": "9ca0f2e4-e83b-4bfa-faf7-8f116112d536",
        "colab": {
          "base_uri": "https://localhost:8080/",
          "height": 51
        }
      },
      "source": [
        "y.unique()"
      ],
      "execution_count": 36,
      "outputs": [
        {
          "output_type": "execute_result",
          "data": {
            "text/plain": [
              "array(['FALSE', 'half-true', 'mostly-true', 'TRUE', 'barely-true',\n",
              "       'pants-fire'], dtype=object)"
            ]
          },
          "metadata": {
            "tags": []
          },
          "execution_count": 36
        }
      ]
    },
    {
      "cell_type": "code",
      "metadata": {
        "id": "ppVZd19KtaC3",
        "colab_type": "code",
        "outputId": "399f4d32-85e3-4833-daa8-cdb6bae52055",
        "colab": {
          "base_uri": "https://localhost:8080/",
          "height": 345
        }
      },
      "source": [
        "classifier.fit(X_train, y_train)\n",
        "pred = classifier.predict(X_test)\n",
        "score = metrics.accuracy_score(y_test, pred)\n",
        "print(\"accuracy:   %0.3f\" % score)\n",
        "cm = metrics.confusion_matrix(y_test, pred)\n",
        "plot_confusion_matrix(cm, classes=['TRUE', 'pants-fire', 'barely-true', 'mostly-true', 'half-true', 'FALSE'])"
      ],
      "execution_count": 37,
      "outputs": [
        {
          "output_type": "stream",
          "text": [
            "accuracy:   0.242\n",
            "Confusion matrix, without normalization\n"
          ],
          "name": "stdout"
        },
        {
          "output_type": "display_data",
          "data": {
            "image/png": "[encoded data removed]",
            "text/plain": [
              "<Figure size 432x288 with 2 Axes>"
            ]
          },
          "metadata": {
            "tags": [],
            "needs_background": "light"
          }
        }
      ]
    },
    {
      "cell_type": "code",
      "metadata": {
        "id": "kf2lY7HltrdX",
        "colab_type": "code",
        "outputId": "26d5ccac-91e6-494d-bffe-646551b768cc",
        "colab": {
          "base_uri": "https://localhost:8080/",
          "height": 34
        }
      },
      "source": [
        "classifier.fit(X_train, y_train)\n",
        "pred = classifier.predict(X_test)\n",
        "score = metrics.accuracy_score(y_test, pred)\n",
        "score"
      ],
      "execution_count": 38,
      "outputs": [
        {
          "output_type": "execute_result",
          "data": {
            "text/plain": [
              "0.24188580904998816"
            ]
          },
          "metadata": {
            "tags": []
          },
          "execution_count": 38
        }
      ]
    },
    {
      "cell_type": "markdown",
      "metadata": {
        "id": "3SKrcRmut3w6",
        "colab_type": "text"
      },
      "source": [
        "###Multinomial NB Classifier with Hyperparameter"
      ]
    },
    {
      "cell_type": "code",
      "metadata": {
        "id": "QtzDbBfutzCT",
        "colab_type": "code",
        "colab": {}
      },
      "source": [
        "classifier=MultinomialNB(alpha=0.1)"
      ],
      "execution_count": 0,
      "outputs": []
    },
    {
      "cell_type": "code",
      "metadata": {
        "id": "ZUVfZG8bty8q",
        "colab_type": "code",
        "outputId": "eb8cf293-b915-4f16-9588-427e861956dd",
        "colab": {
          "base_uri": "https://localhost:8080/",
          "height": 241
        }
      },
      "source": [
        "previous_score=0\n",
        "for alpha in np.arange(0,1,0.1):\n",
        "    sub_classifier=MultinomialNB(alpha=alpha)\n",
        "    sub_classifier.fit(X_train,y_train)\n",
        "    y_pred=sub_classifier.predict(X_test)\n",
        "    score = metrics.accuracy_score(y_test, y_pred)\n",
        "    if score>previous_score:\n",
        "        classifier=sub_classifier\n",
        "    print(\"Alpha: {}, Score : {}\".format(alpha,score))"
      ],
      "execution_count": 40,
      "outputs": [
        {
          "output_type": "stream",
          "text": [
            "/usr/local/lib/python3.6/dist-packages/sklearn/naive_bayes.py:507: UserWarning: alpha too small will result in numeric errors, setting alpha = 1.0e-10\n",
            "  'setting alpha = %.1e' % _ALPHA_MIN)\n"
          ],
          "name": "stderr"
        },
        {
          "output_type": "stream",
          "text": [
            "Alpha: 0.0, Score : 0.22861881070836296\n",
            "Alpha: 0.1, Score : 0.2326462923477849\n",
            "Alpha: 0.2, Score : 0.23406775645581615\n",
            "Alpha: 0.30000000000000004, Score : 0.23596304193319118\n",
            "Alpha: 0.4, Score : 0.23667377398720682\n",
            "Alpha: 0.5, Score : 0.23667377398720682\n",
            "Alpha: 0.6000000000000001, Score : 0.23809523809523808\n",
            "Alpha: 0.7000000000000001, Score : 0.2390428808339256\n",
            "Alpha: 0.8, Score : 0.24117507699597251\n",
            "Alpha: 0.9, Score : 0.24235963041933192\n"
          ],
          "name": "stdout"
        }
      ]
    },
    {
      "cell_type": "code",
      "metadata": {
        "id": "0pEenKIHuwqi",
        "colab_type": "code",
        "colab": {}
      },
      "source": [
        "classifier=MultinomialNB(alpha=0.9)"
      ],
      "execution_count": 0,
      "outputs": []
    },
    {
      "cell_type": "code",
      "metadata": {
        "id": "L00Ckgzau1Ww",
        "colab_type": "code",
        "outputId": "f1c79e9c-c403-4b1c-d230-7c9c7a3effd1",
        "colab": {
          "base_uri": "https://localhost:8080/",
          "height": 345
        }
      },
      "source": [
        "classifier.fit(X_train, y_train)\n",
        "pred = classifier.predict(X_test)\n",
        "score = metrics.accuracy_score(y_test, pred)\n",
        "print(\"accuracy:   %0.3f\" % score)\n",
        "cm = metrics.confusion_matrix(y_test, pred)\n",
        "plot_confusion_matrix(cm, classes=['TRUE', 'pants-fire', 'barely-true', 'mostly-true', 'half-true', 'FALSE'])"
      ],
      "execution_count": 42,
      "outputs": [
        {
          "output_type": "stream",
          "text": [
            "accuracy:   0.242\n",
            "Confusion matrix, without normalization\n"
          ],
          "name": "stdout"
        },
        {
          "output_type": "display_data",
          "data": {
            "image/png": "[encoded data removed]",
            "text/plain": [
              "<Figure size 432x288 with 2 Axes>"
            ]
          },
          "metadata": {
            "tags": [],
            "needs_background": "light"
          }
        }
      ]
    },
    {
      "cell_type": "markdown",
      "metadata": {
        "id": "QR1ZZZKLqzEm",
        "colab_type": "text"
      },
      "source": [
        "###Random Forest"
      ]
    },
    {
      "cell_type": "code",
      "metadata": {
        "id": "-mkYvRrXr5-1",
        "colab_type": "code",
        "colab": {}
      },
      "source": [
        "from sklearn.ensemble import RandomForestClassifier"
      ],
      "execution_count": 0,
      "outputs": []
    },
    {
      "cell_type": "code",
      "metadata": {
        "id": "xvlPdFysr9wt",
        "colab_type": "code",
        "colab": {
          "base_uri": "https://localhost:8080/",
          "height": 0
        },
        "outputId": "98b3af41-60a1-4191-c85d-9d8a4c934906"
      },
      "source": [
        "classifier = RandomForestClassifier(n_estimators = 10, criterion = 'entropy',  random_state = 42)\n",
        "classifier.fit(X_train, y_train)"
      ],
      "execution_count": 44,
      "outputs": [
        {
          "output_type": "execute_result",
          "data": {
            "text/plain": [
              "RandomForestClassifier(bootstrap=True, ccp_alpha=0.0, class_weight=None,\n",
              "                       criterion='entropy', max_depth=None, max_features='auto',\n",
              "                       max_leaf_nodes=None, max_samples=None,\n",
              "                       min_impurity_decrease=0.0, min_impurity_split=None,\n",
              "                       min_samples_leaf=1, min_samples_split=2,\n",
              "                       min_weight_fraction_leaf=0.0, n_estimators=10,\n",
              "                       n_jobs=None, oob_score=False, random_state=42, verbose=0,\n",
              "                       warm_start=False)"
            ]
          },
          "metadata": {
            "tags": []
          },
          "execution_count": 44
        }
      ]
    },
    {
      "cell_type": "code",
      "metadata": {
        "id": "RYWNo-vTsMxK",
        "colab_type": "code",
        "colab": {
          "base_uri": "https://localhost:8080/",
          "height": 0
        },
        "outputId": "0a5aa342-6448-4ec2-96b5-a4d101cd3b84"
      },
      "source": [
        "y_pred = classifier.predict(X_test)\n",
        "score = metrics.accuracy_score(y_test, y_pred)\n",
        "print(\"accuracy:   %0.3f\" % score)\n",
        "cm = metrics.confusion_matrix(y_test, y_pred)\n",
        "plot_confusion_matrix(cm, classes=['TRUE', 'pants-fire', 'barely-true', 'mostly-true', 'half-true', 'FALSE'])\n"
      ],
      "execution_count": 45,
      "outputs": [
        {
          "output_type": "stream",
          "text": [
            "accuracy:   0.227\n",
            "Confusion matrix, without normalization\n"
          ],
          "name": "stdout"
        },
        {
          "output_type": "display_data",
          "data": {
            "image/png": "[encoded data removed]",
            "text/plain": [
              "<Figure size 432x288 with 2 Axes>"
            ]
          },
          "metadata": {
            "tags": [],
            "needs_background": "light"
          }
        }
      ]
    },
    {
      "cell_type": "markdown",
      "metadata": {
        "id": "MJ-VSub4seyo",
        "colab_type": "text"
      },
      "source": [
        "**From the above results we can see that the classification models isn't performing great as the amount of data in the corpus is less.**"
      ]
    },
    {
      "cell_type": "markdown",
      "metadata": {
        "id": "NS7DSIGUhWuP",
        "colab_type": "text"
      },
      "source": [
        "#LSTM"
      ]
    },
    {
      "cell_type": "code",
      "metadata": {
        "id": "_8fJoHpdyZ_D",
        "colab_type": "code",
        "colab": {
          "base_uri": "https://localhost:8080/",
          "height": 34
        },
        "outputId": "6c680135-65dc-4255-eb10-a0a1b76766eb"
      },
      "source": [
        "import tensorflow as tf\n",
        "print(tf.__version__)\n",
        "import csv\n",
        "import tensorflow as tf\n",
        "import numpy as np\n",
        "from tensorflow.keras.preprocessing.text import Tokenizer\n",
        "from tensorflow.keras.preprocessing.sequence import pad_sequences\n",
        "from nltk.corpus import stopwords\n",
        "STOPWORDS = set(stopwords.words('english'))"
      ],
      "execution_count": 46,
      "outputs": [
        {
          "output_type": "stream",
          "text": [
            "2.2.0\n"
          ],
          "name": "stdout"
        }
      ]
    },
    {
      "cell_type": "code",
      "metadata": {
        "id": "j8O4cXWV5eMG",
        "colab_type": "code",
        "colab": {}
      },
      "source": [
        "vocab_size = 25600\n",
        "embedding_dim = 64\n",
        "max_length = 25\n",
        "trunc_type = 'post'\n",
        "padding_type = 'post'\n",
        "oov_tok = '<OOV>'\n",
        "training_portion = .8"
      ],
      "execution_count": 0,
      "outputs": []
    },
    {
      "cell_type": "code",
      "metadata": {
        "id": "PuxH1y5C5eKC",
        "colab_type": "code",
        "colab": {
          "base_uri": "https://localhost:8080/",
          "height": 51
        },
        "outputId": "ff16e48f-a0b9-43f1-817e-6c7594644990"
      },
      "source": [
        "articles = []\n",
        "labels = []\n",
        "\n",
        "with open(dataPathliar,  'r') as csvfile:\n",
        "    reader = csv.reader(csvfile, delimiter=',')\n",
        "    next(reader)\n",
        "    for row in reader:\n",
        "        labels.append(row[4])\n",
        "        article = row[1]\n",
        "        for word in STOPWORDS:\n",
        "            token = ' ' + word + ' '\n",
        "            article = article.replace(token, ' ')\n",
        "            article = article.replace(' ', ' ')\n",
        "        articles.append(article)\n",
        "print(len(labels))\n",
        "print(len(articles))"
      ],
      "execution_count": 48,
      "outputs": [
        {
          "output_type": "stream",
          "text": [
            "12791\n",
            "12791\n"
          ],
          "name": "stdout"
        }
      ]
    },
    {
      "cell_type": "code",
      "metadata": {
        "id": "Zd-wmqJHIBtt",
        "colab_type": "code",
        "colab": {
          "base_uri": "https://localhost:8080/",
          "height": 34
        },
        "outputId": "5ae53ac1-f6f4-4d65-b319-bdae8b5586b1"
      },
      "source": [
        "from sklearn.preprocessing import LabelEncoder\n",
        "labelencoder = LabelEncoder()\n",
        "labels = labelencoder.fit_transform(labels)\n",
        "labels"
      ],
      "execution_count": 49,
      "outputs": [
        {
          "output_type": "execute_result",
          "data": {
            "text/plain": [
              "array([0, 3, 4, ..., 1, 0, 2])"
            ]
          },
          "metadata": {
            "tags": []
          },
          "execution_count": 49
        }
      ]
    },
    {
      "cell_type": "code",
      "metadata": {
        "id": "akUVY-oU5eH0",
        "colab_type": "code",
        "colab": {
          "base_uri": "https://localhost:8080/",
          "height": 102
        },
        "outputId": "7a4c3a7d-c76e-4c54-f9ae-f498b23c1ae9"
      },
      "source": [
        "train_size = int(len(articles) * training_portion)\n",
        "\n",
        "train_articles = articles[0: train_size]\n",
        "train_labels = labels[0: train_size]\n",
        "\n",
        "validation_articles = articles[train_size:]\n",
        "validation_labels = labels[train_size:]\n",
        "\n",
        "print(train_size)\n",
        "print(len(train_articles))\n",
        "print(len(train_labels))\n",
        "print(len(validation_articles))\n",
        "print(len(validation_labels))"
      ],
      "execution_count": 50,
      "outputs": [
        {
          "output_type": "stream",
          "text": [
            "10232\n",
            "10232\n",
            "10232\n",
            "2559\n",
            "2559\n"
          ],
          "name": "stdout"
        }
      ]
    },
    {
      "cell_type": "code",
      "metadata": {
        "id": "nLVR29dX5eF6",
        "colab_type": "code",
        "colab": {}
      },
      "source": [
        "tokenizer = Tokenizer(num_words = vocab_size, oov_token=oov_tok)\n",
        "tokenizer.fit_on_texts(train_articles)\n",
        "word_index = tokenizer.word_index"
      ],
      "execution_count": 0,
      "outputs": []
    },
    {
      "cell_type": "code",
      "metadata": {
        "id": "Qdhexop35eDq",
        "colab_type": "code",
        "colab": {
          "base_uri": "https://localhost:8080/",
          "height": 187
        },
        "outputId": "49b45677-2a4b-4489-9f92-5ceeda7cce48"
      },
      "source": [
        "dict(list(word_index.items())[0:10])"
      ],
      "execution_count": 52,
      "outputs": [
        {
          "output_type": "execute_result",
          "data": {
            "text/plain": [
              "{'<OOV>': 1,\n",
              " 'health': 8,\n",
              " 'obama': 5,\n",
              " 'people': 9,\n",
              " 'percent': 3,\n",
              " 'president': 10,\n",
              " 'says': 2,\n",
              " 'state': 4,\n",
              " 'tax': 6,\n",
              " 'years': 7}"
            ]
          },
          "metadata": {
            "tags": []
          },
          "execution_count": 52
        }
      ]
    },
    {
      "cell_type": "code",
      "metadata": {
        "id": "FWRL2uzt5eBk",
        "colab_type": "code",
        "colab": {}
      },
      "source": [
        "train_sequences = tokenizer.texts_to_sequences(train_articles)"
      ],
      "execution_count": 0,
      "outputs": []
    },
    {
      "cell_type": "code",
      "metadata": {
        "id": "s15SWAna5d-0",
        "colab_type": "code",
        "colab": {
          "base_uri": "https://localhost:8080/",
          "height": 34
        },
        "outputId": "9f8bf473-64f3-4515-c54d-725d29531448"
      },
      "source": [
        "print(train_sequences[10])"
      ],
      "execution_count": 54,
      "outputs": [
        {
          "output_type": "stream",
          "text": [
            "[37, 90, 857, 58, 649, 77, 1473, 1060, 1738, 77, 1473]\n"
          ],
          "name": "stdout"
        }
      ]
    },
    {
      "cell_type": "code",
      "metadata": {
        "id": "sMiZOBTe58e4",
        "colab_type": "code",
        "colab": {}
      },
      "source": [
        "train_padded = pad_sequences(train_sequences, maxlen=max_length, padding=padding_type, truncating=trunc_type)"
      ],
      "execution_count": 0,
      "outputs": []
    },
    {
      "cell_type": "code",
      "metadata": {
        "id": "sGnD_pmOGSgV",
        "colab_type": "code",
        "colab": {
          "base_uri": "https://localhost:8080/",
          "height": 34
        },
        "outputId": "8bc214ac-0603-413a-922d-d59fe6f9f4d5"
      },
      "source": [
        "train_padded.shape"
      ],
      "execution_count": 56,
      "outputs": [
        {
          "output_type": "execute_result",
          "data": {
            "text/plain": [
              "(10232, 25)"
            ]
          },
          "metadata": {
            "tags": []
          },
          "execution_count": 56
        }
      ]
    },
    {
      "cell_type": "code",
      "metadata": {
        "id": "JP8nzW-d58c3",
        "colab_type": "code",
        "colab": {
          "base_uri": "https://localhost:8080/",
          "height": 119
        },
        "outputId": "47ed0ace-b944-4223-afbe-6a439705867f"
      },
      "source": [
        "print(len(train_sequences[0]))\n",
        "print(len(train_padded[0]))\n",
        "\n",
        "print(len(train_sequences[1]))\n",
        "print(len(train_padded[1]))\n",
        "\n",
        "print(len(train_sequences[10]))\n",
        "print(len(train_padded[10]))"
      ],
      "execution_count": 57,
      "outputs": [
        {
          "output_type": "stream",
          "text": [
            "9\n",
            "25\n",
            "14\n",
            "25\n",
            "11\n",
            "25\n"
          ],
          "name": "stdout"
        }
      ]
    },
    {
      "cell_type": "code",
      "metadata": {
        "id": "B8G6CUlQ58ap",
        "colab_type": "code",
        "colab": {
          "base_uri": "https://localhost:8080/",
          "height": 34
        },
        "outputId": "3130832b-1dc4-4875-8d9d-5d9896852d14"
      },
      "source": [
        "print(train_sequences[10])"
      ],
      "execution_count": 58,
      "outputs": [
        {
          "output_type": "stream",
          "text": [
            "[37, 90, 857, 58, 649, 77, 1473, 1060, 1738, 77, 1473]\n"
          ],
          "name": "stdout"
        }
      ]
    },
    {
      "cell_type": "code",
      "metadata": {
        "id": "U6_nY9cL58Yc",
        "colab_type": "code",
        "colab": {
          "base_uri": "https://localhost:8080/",
          "height": 51
        },
        "outputId": "8c3788f9-516d-45e5-97a7-ad6e62d2c052"
      },
      "source": [
        "print(train_padded[10])"
      ],
      "execution_count": 59,
      "outputs": [
        {
          "output_type": "stream",
          "text": [
            "[  37   90  857   58  649   77 1473 1060 1738   77 1473    0    0    0\n",
            "    0    0    0    0    0    0    0    0    0    0    0]\n"
          ],
          "name": "stdout"
        }
      ]
    },
    {
      "cell_type": "code",
      "metadata": {
        "id": "pXak9uiS58WY",
        "colab_type": "code",
        "colab": {
          "base_uri": "https://localhost:8080/",
          "height": 34
        },
        "outputId": "c442a8e1-4731-443c-9d48-53fac14b9a90"
      },
      "source": [
        "print(train_sequences[0])"
      ],
      "execution_count": 60,
      "outputs": [
        {
          "output_type": "stream",
          "text": [
            "[2, 6441, 854, 340, 425, 222, 4609, 392, 1260]\n"
          ],
          "name": "stdout"
        }
      ]
    },
    {
      "cell_type": "code",
      "metadata": {
        "id": "rJNceJOS58T3",
        "colab_type": "code",
        "colab": {
          "base_uri": "https://localhost:8080/",
          "height": 51
        },
        "outputId": "cfc7db41-8509-437f-afaa-70875993a492"
      },
      "source": [
        "\n",
        "print(train_padded[0])"
      ],
      "execution_count": 61,
      "outputs": [
        {
          "output_type": "stream",
          "text": [
            "[   2 6441  854  340  425  222 4609  392 1260    0    0    0    0    0\n",
            "    0    0    0    0    0    0    0    0    0    0    0]\n"
          ],
          "name": "stdout"
        }
      ]
    },
    {
      "cell_type": "code",
      "metadata": {
        "id": "zWmj9Om458RT",
        "colab_type": "code",
        "colab": {
          "base_uri": "https://localhost:8080/",
          "height": 51
        },
        "outputId": "f9530bf0-0b85-4dde-ba35-d7cc010c3a1a"
      },
      "source": [
        "validation_sequences = tokenizer.texts_to_sequences(validation_articles)\n",
        "validation_padded = pad_sequences(validation_sequences, maxlen=max_length, padding=padding_type, truncating=trunc_type)\n",
        "\n",
        "print(len(validation_sequences))\n",
        "print(validation_padded.shape)"
      ],
      "execution_count": 62,
      "outputs": [
        {
          "output_type": "stream",
          "text": [
            "2559\n",
            "(2559, 25)\n"
          ],
          "name": "stdout"
        }
      ]
    },
    {
      "cell_type": "code",
      "metadata": {
        "id": "XnLiBCsQ58Om",
        "colab_type": "code",
        "colab": {
          "base_uri": "https://localhost:8080/",
          "height": 34
        },
        "outputId": "bc2f6b36-cd15-42d9-d019-9f46fbe28884"
      },
      "source": [
        "print(set(labels))"
      ],
      "execution_count": 63,
      "outputs": [
        {
          "output_type": "stream",
          "text": [
            "{0, 1, 2, 3, 4, 5}\n"
          ],
          "name": "stdout"
        }
      ]
    },
    {
      "cell_type": "code",
      "metadata": {
        "id": "SLHN7QcnyZ8c",
        "colab_type": "code",
        "colab": {}
      },
      "source": [
        "#label_tokenizer = Tokenizer()\n",
        "#label_tokenizer.fit_on_texts(labels)\n"
      ],
      "execution_count": 0,
      "outputs": []
    },
    {
      "cell_type": "code",
      "metadata": {
        "id": "6i0u3Xu2_wsY",
        "colab_type": "code",
        "colab": {}
      },
      "source": [
        "#training_label_seq = np.hstack(label_tokenizer.texts_to_sequences(train_labels))\n",
        "#validation_label_seq = np.hstack(label_tokenizer.texts_to_sequences(validation_labels))"
      ],
      "execution_count": 0,
      "outputs": []
    },
    {
      "cell_type": "code",
      "metadata": {
        "id": "nJPEHMtA6mFO",
        "colab_type": "code",
        "colab": {}
      },
      "source": [
        "#print(training_label_seq[0])\n",
        "#print(training_label_seq[1])\n",
        "#print(training_label_seq[2])\n",
        "#print(training_label_seq.shape)\n",
        "\n",
        "#print(validation_label_seq[0])\n",
        "#print(validation_label_seq[1])\n",
        "#print(validation_label_seq[2])\n",
        "#print(validation_label_seq.shape)"
      ],
      "execution_count": 0,
      "outputs": []
    },
    {
      "cell_type": "code",
      "metadata": {
        "id": "_iXOJnvm6mCy",
        "colab_type": "code",
        "colab": {
          "base_uri": "https://localhost:8080/",
          "height": 68
        },
        "outputId": "02e7fca8-65dd-4526-f76c-511e4d5723c5"
      },
      "source": [
        "reverse_word_index = dict([(value, key) for (key, value) in word_index.items()])\n",
        "\n",
        "def decode_article(text):\n",
        "    return ' '.join([reverse_word_index.get(i, '?') for i in text])\n",
        "print(decode_article(train_padded[10]))\n",
        "print('---')\n",
        "print(train_articles[10])"
      ],
      "execution_count": 67,
      "outputs": [
        {
          "output_type": "stream",
          "text": [
            "time history share national popular vote margin smaller latino vote margin ? ? ? ? ? ? ? ? ? ? ? ? ? ?\n",
            "---\n",
            "time history share national popular vote margin smaller latino vote margin\n"
          ],
          "name": "stdout"
        }
      ]
    },
    {
      "cell_type": "code",
      "metadata": {
        "id": "3PqDQ5D86l_d",
        "colab_type": "code",
        "colab": {
          "base_uri": "https://localhost:8080/",
          "height": 289
        },
        "outputId": "2ccd8eff-6100-4cab-c787-d33e3d6d9d27"
      },
      "source": [
        "model = tf.keras.Sequential([\n",
        "    # Add an Embedding layer expecting input vocab of size 25600, and output embedding dimension of size 64 we set at the top\n",
        "    tf.keras.layers.Embedding(vocab_size, embedding_dim),\n",
        "    tf.keras.layers.Bidirectional(tf.keras.layers.LSTM(embedding_dim)),\n",
        "#    tf.keras.layers.Bidirectional(tf.keras.layers.LSTM(32)),\n",
        "    # use ReLU in place of tanh function since they are very good alternatives of each other.\n",
        "    tf.keras.layers.Dense(embedding_dim, activation='relu'),\n",
        "    # Add a Dense layer with 7 units and softmax activation.\n",
        "    # When we have multiple outputs, softmax convert outputs layers into a probability distribution.\n",
        "    tf.keras.layers.Dense(7, activation='softmax')\n",
        "])\n",
        "model.summary()"
      ],
      "execution_count": 68,
      "outputs": [
        {
          "output_type": "stream",
          "text": [
            "Model: \"sequential\"\n",
            "_________________________________________________________________\n",
            "Layer (type)                 Output Shape              Param #   \n",
            "=================================================================\n",
            "embedding (Embedding)        (None, None, 64)          1638400   \n",
            "_________________________________________________________________\n",
            "bidirectional (Bidirectional (None, 128)               66048     \n",
            "_________________________________________________________________\n",
            "dense (Dense)                (None, 64)                8256      \n",
            "_________________________________________________________________\n",
            "dense_1 (Dense)              (None, 7)                 455       \n",
            "=================================================================\n",
            "Total params: 1,713,159\n",
            "Trainable params: 1,713,159\n",
            "Non-trainable params: 0\n",
            "_________________________________________________________________\n"
          ],
          "name": "stdout"
        }
      ]
    },
    {
      "cell_type": "code",
      "metadata": {
        "id": "LL9AxA676l6F",
        "colab_type": "code",
        "colab": {}
      },
      "source": [
        "model.compile(loss='sparse_categorical_crossentropy', optimizer='adam', metrics=['accuracy'])"
      ],
      "execution_count": 0,
      "outputs": []
    },
    {
      "cell_type": "code",
      "metadata": {
        "id": "4OGWY8Mj6l1O",
        "colab_type": "code",
        "colab": {
          "base_uri": "https://localhost:8080/",
          "height": 357
        },
        "outputId": "65bf6b97-b6e2-4e76-ac0e-fa0331b1e8d1"
      },
      "source": [
        "num_epochs = 10\n",
        "history = model.fit(train_padded, train_labels, epochs=num_epochs, validation_data=(validation_padded, validation_labels), verbose=2)"
      ],
      "execution_count": 70,
      "outputs": [
        {
          "output_type": "stream",
          "text": [
            "Epoch 1/10\n",
            "320/320 - 6s - loss: 1.7657 - accuracy: 0.2066 - val_loss: 1.7199 - val_accuracy: 0.2388\n",
            "Epoch 2/10\n",
            "320/320 - 6s - loss: 1.6137 - accuracy: 0.3192 - val_loss: 1.7409 - val_accuracy: 0.2427\n",
            "Epoch 3/10\n",
            "320/320 - 5s - loss: 1.2900 - accuracy: 0.5055 - val_loss: 1.9491 - val_accuracy: 0.2360\n",
            "Epoch 4/10\n",
            "320/320 - 5s - loss: 0.8930 - accuracy: 0.6812 - val_loss: 2.3754 - val_accuracy: 0.2313\n",
            "Epoch 5/10\n",
            "320/320 - 5s - loss: 0.6087 - accuracy: 0.7873 - val_loss: 2.7618 - val_accuracy: 0.2356\n",
            "Epoch 6/10\n",
            "320/320 - 6s - loss: 0.4238 - accuracy: 0.8580 - val_loss: 3.1295 - val_accuracy: 0.2286\n",
            "Epoch 7/10\n",
            "320/320 - 5s - loss: 0.3204 - accuracy: 0.8933 - val_loss: 3.5836 - val_accuracy: 0.2317\n",
            "Epoch 8/10\n",
            "320/320 - 5s - loss: 0.2519 - accuracy: 0.9166 - val_loss: 3.9134 - val_accuracy: 0.2419\n",
            "Epoch 9/10\n",
            "320/320 - 5s - loss: 0.1965 - accuracy: 0.9365 - val_loss: 4.6265 - val_accuracy: 0.2368\n",
            "Epoch 10/10\n",
            "320/320 - 5s - loss: 0.1681 - accuracy: 0.9455 - val_loss: 4.5349 - val_accuracy: 0.2438\n"
          ],
          "name": "stdout"
        }
      ]
    },
    {
      "cell_type": "markdown",
      "metadata": {
        "id": "y6IbmjtqKz9U",
        "colab_type": "text"
      },
      "source": [
        "**From above we can see that using NN LSTM model, the train accuracy is pretty good (94%), however, test accuracy is somewhat same to older classification algorithm**"
      ]
    },
    {
      "cell_type": "markdown",
      "metadata": {
        "id": "YLwB_ee8LOBf",
        "colab_type": "text"
      },
      "source": [
        "**The reason for low accuracy is unavailability of data**"
      ]
    },
    {
      "cell_type": "markdown",
      "metadata": {
        "id": "-Xenj-odLW7n",
        "colab_type": "text"
      },
      "source": [
        "**Next, we will do Data Enrichment by amalagmating with Kaggle fake news dataset and News Category dataset**"
      ]
    },
    {
      "cell_type": "markdown",
      "metadata": {
        "id": "wvyBxzA9L5Eo",
        "colab_type": "text"
      },
      "source": [
        "#Data Enrichment"
      ]
    },
    {
      "cell_type": "markdown",
      "metadata": {
        "id": "Czs5NO5-MGNU",
        "colab_type": "text"
      },
      "source": [
        "Importing Kaggle fake news data"
      ]
    },
    {
      "cell_type": "code",
      "metadata": {
        "id": "pvZf7MrqLWjp",
        "colab_type": "code",
        "colab": {}
      },
      "source": [
        "dataPathkaggle = base_dir + '/Alternus_vera/kaggle_1.csv'"
      ],
      "execution_count": 0,
      "outputs": []
    },
    {
      "cell_type": "markdown",
      "metadata": {
        "id": "fYFsln0HMKql",
        "colab_type": "text"
      },
      "source": [
        "Importing News Category data"
      ]
    },
    {
      "cell_type": "code",
      "metadata": {
        "id": "z-WKI71pL9Pr",
        "colab_type": "code",
        "colab": {}
      },
      "source": [
        "dataPathnewscat = base_dir + '/Alternus_vera/newcat_1.csv'"
      ],
      "execution_count": 0,
      "outputs": []
    },
    {
      "cell_type": "code",
      "metadata": {
        "id": "TFSS_m5HL-o7",
        "colab_type": "code",
        "colab": {
          "base_uri": "https://localhost:8080/",
          "height": 111
        },
        "outputId": "ac37f6e0-56e7-4a98-e0ca-d1ebf4962fb6"
      },
      "source": [
        "dfkaggle = pd.read_csv(dataPathkaggle)\n",
        "dfkaggle.head(2)"
      ],
      "execution_count": 73,
      "outputs": [
        {
          "output_type": "execute_result",
          "data": {
            "text/html": [
              "<div>\n",
              "<style scoped>\n",
              "    .dataframe tbody tr th:only-of-type {\n",
              "        vertical-align: middle;\n",
              "    }\n",
              "\n",
              "    .dataframe tbody tr th {\n",
              "        vertical-align: top;\n",
              "    }\n",
              "\n",
              "    .dataframe thead th {\n",
              "        text-align: right;\n",
              "    }\n",
              "</style>\n",
              "<table border=\"1\" class=\"dataframe\">\n",
              "  <thead>\n",
              "    <tr style=\"text-align: right;\">\n",
              "      <th></th>\n",
              "      <th>Unnamed: 0</th>\n",
              "      <th>body</th>\n",
              "      <th>author</th>\n",
              "      <th>title</th>\n",
              "      <th>fakeness</th>\n",
              "    </tr>\n",
              "  </thead>\n",
              "  <tbody>\n",
              "    <tr>\n",
              "      <th>0</th>\n",
              "      <td>0</td>\n",
              "      <td>Print They should pay all the back all the mon...</td>\n",
              "      <td>Barracuda Brigade</td>\n",
              "      <td>muslims busted stole millions govt benefits</td>\n",
              "      <td>False</td>\n",
              "    </tr>\n",
              "    <tr>\n",
              "      <th>1</th>\n",
              "      <td>1</td>\n",
              "      <td>Why Did Attorney General Loretta Lynch Plead T...</td>\n",
              "      <td>reasoning with facts</td>\n",
              "      <td>attorney general loretta lynch plead fifth</td>\n",
              "      <td>False</td>\n",
              "    </tr>\n",
              "  </tbody>\n",
              "</table>\n",
              "</div>"
            ],
            "text/plain": [
              "   Unnamed: 0  ... fakeness\n",
              "0           0  ...    False\n",
              "1           1  ...    False\n",
              "\n",
              "[2 rows x 5 columns]"
            ]
          },
          "metadata": {
            "tags": []
          },
          "execution_count": 73
        }
      ]
    },
    {
      "cell_type": "code",
      "metadata": {
        "id": "ncvgz7WiMRJY",
        "colab_type": "code",
        "colab": {}
      },
      "source": [
        "dfkaggle = dfkaggle.drop('Unnamed: 0', axis=1)"
      ],
      "execution_count": 0,
      "outputs": []
    },
    {
      "cell_type": "code",
      "metadata": {
        "id": "AcpyLGMQMYQI",
        "colab_type": "code",
        "colab": {
          "base_uri": "https://localhost:8080/",
          "height": 111
        },
        "outputId": "a75f64c5-5a78-4f3b-d518-a89c78b55cbc"
      },
      "source": [
        "dfkaggle.head(2)"
      ],
      "execution_count": 75,
      "outputs": [
        {
          "output_type": "execute_result",
          "data": {
            "text/html": [
              "<div>\n",
              "<style scoped>\n",
              "    .dataframe tbody tr th:only-of-type {\n",
              "        vertical-align: middle;\n",
              "    }\n",
              "\n",
              "    .dataframe tbody tr th {\n",
              "        vertical-align: top;\n",
              "    }\n",
              "\n",
              "    .dataframe thead th {\n",
              "        text-align: right;\n",
              "    }\n",
              "</style>\n",
              "<table border=\"1\" class=\"dataframe\">\n",
              "  <thead>\n",
              "    <tr style=\"text-align: right;\">\n",
              "      <th></th>\n",
              "      <th>body</th>\n",
              "      <th>author</th>\n",
              "      <th>title</th>\n",
              "      <th>fakeness</th>\n",
              "    </tr>\n",
              "  </thead>\n",
              "  <tbody>\n",
              "    <tr>\n",
              "      <th>0</th>\n",
              "      <td>Print They should pay all the back all the mon...</td>\n",
              "      <td>Barracuda Brigade</td>\n",
              "      <td>muslims busted stole millions govt benefits</td>\n",
              "      <td>False</td>\n",
              "    </tr>\n",
              "    <tr>\n",
              "      <th>1</th>\n",
              "      <td>Why Did Attorney General Loretta Lynch Plead T...</td>\n",
              "      <td>reasoning with facts</td>\n",
              "      <td>attorney general loretta lynch plead fifth</td>\n",
              "      <td>False</td>\n",
              "    </tr>\n",
              "  </tbody>\n",
              "</table>\n",
              "</div>"
            ],
            "text/plain": [
              "                                                body  ... fakeness\n",
              "0  Print They should pay all the back all the mon...  ...    False\n",
              "1  Why Did Attorney General Loretta Lynch Plead T...  ...    False\n",
              "\n",
              "[2 rows x 4 columns]"
            ]
          },
          "metadata": {
            "tags": []
          },
          "execution_count": 75
        }
      ]
    },
    {
      "cell_type": "code",
      "metadata": {
        "id": "2KJW89ntMCKL",
        "colab_type": "code",
        "colab": {
          "base_uri": "https://localhost:8080/",
          "height": 111
        },
        "outputId": "b4897c04-b62b-46e9-aa2e-d4dd92ef9a9b"
      },
      "source": [
        "dfnewcat = pd.read_csv(dataPathnewscat)\n",
        "dfnewcat.head(2)"
      ],
      "execution_count": 76,
      "outputs": [
        {
          "output_type": "execute_result",
          "data": {
            "text/html": [
              "<div>\n",
              "<style scoped>\n",
              "    .dataframe tbody tr th:only-of-type {\n",
              "        vertical-align: middle;\n",
              "    }\n",
              "\n",
              "    .dataframe tbody tr th {\n",
              "        vertical-align: top;\n",
              "    }\n",
              "\n",
              "    .dataframe thead th {\n",
              "        text-align: right;\n",
              "    }\n",
              "</style>\n",
              "<table border=\"1\" class=\"dataframe\">\n",
              "  <thead>\n",
              "    <tr style=\"text-align: right;\">\n",
              "      <th></th>\n",
              "      <th>Unnamed: 0</th>\n",
              "      <th>body</th>\n",
              "      <th>author</th>\n",
              "      <th>title</th>\n",
              "      <th>fakeness</th>\n",
              "    </tr>\n",
              "  </thead>\n",
              "  <tbody>\n",
              "    <tr>\n",
              "      <th>0</th>\n",
              "      <td>13</td>\n",
              "      <td>month health human services official revealed ...</td>\n",
              "      <td>Elise Foley and Roque Planas</td>\n",
              "      <td>Trump's Crackdown On Immigrant Parents Puts Mo...</td>\n",
              "      <td>half-true</td>\n",
              "    </tr>\n",
              "    <tr>\n",
              "      <th>1</th>\n",
              "      <td>14</td>\n",
              "      <td>wiretaps feature conversations alexander torsh...</td>\n",
              "      <td>Michael Isikoff, Yahoo News</td>\n",
              "      <td>'Trump's Son Should Be Concerned': FBI Obtaine...</td>\n",
              "      <td>half-true</td>\n",
              "    </tr>\n",
              "  </tbody>\n",
              "</table>\n",
              "</div>"
            ],
            "text/plain": [
              "   Unnamed: 0  ...   fakeness\n",
              "0          13  ...  half-true\n",
              "1          14  ...  half-true\n",
              "\n",
              "[2 rows x 5 columns]"
            ]
          },
          "metadata": {
            "tags": []
          },
          "execution_count": 76
        }
      ]
    },
    {
      "cell_type": "code",
      "metadata": {
        "id": "aZhlRfnXMOK1",
        "colab_type": "code",
        "colab": {
          "base_uri": "https://localhost:8080/",
          "height": 204
        },
        "outputId": "2160f69a-4d86-4e0f-b543-288e860bdb86"
      },
      "source": [
        "dfnewcat = dfnewcat.drop('Unnamed: 0', axis=1)\n",
        "dfnewcat.head()"
      ],
      "execution_count": 77,
      "outputs": [
        {
          "output_type": "execute_result",
          "data": {
            "text/html": [
              "<div>\n",
              "<style scoped>\n",
              "    .dataframe tbody tr th:only-of-type {\n",
              "        vertical-align: middle;\n",
              "    }\n",
              "\n",
              "    .dataframe tbody tr th {\n",
              "        vertical-align: top;\n",
              "    }\n",
              "\n",
              "    .dataframe thead th {\n",
              "        text-align: right;\n",
              "    }\n",
              "</style>\n",
              "<table border=\"1\" class=\"dataframe\">\n",
              "  <thead>\n",
              "    <tr style=\"text-align: right;\">\n",
              "      <th></th>\n",
              "      <th>body</th>\n",
              "      <th>author</th>\n",
              "      <th>title</th>\n",
              "      <th>fakeness</th>\n",
              "    </tr>\n",
              "  </thead>\n",
              "  <tbody>\n",
              "    <tr>\n",
              "      <th>0</th>\n",
              "      <td>month health human services official revealed ...</td>\n",
              "      <td>Elise Foley and Roque Planas</td>\n",
              "      <td>Trump's Crackdown On Immigrant Parents Puts Mo...</td>\n",
              "      <td>half-true</td>\n",
              "    </tr>\n",
              "    <tr>\n",
              "      <th>1</th>\n",
              "      <td>wiretaps feature conversations alexander torsh...</td>\n",
              "      <td>Michael Isikoff, Yahoo News</td>\n",
              "      <td>'Trump's Son Should Be Concerned': FBI Obtaine...</td>\n",
              "      <td>half-true</td>\n",
              "    </tr>\n",
              "    <tr>\n",
              "      <th>2</th>\n",
              "      <td>dont count robert mueller nail nsa whistleblow...</td>\n",
              "      <td>Mary Papenfuss</td>\n",
              "      <td>Edward Snowden: There's No One Trump Loves Mor...</td>\n",
              "      <td>half-true</td>\n",
              "    </tr>\n",
              "    <tr>\n",
              "      <th>3</th>\n",
              "      <td>peeping minute</td>\n",
              "      <td>Mary Papenfuss</td>\n",
              "      <td>Booyah: Obama Photographer Hilariously Trolls ...</td>\n",
              "      <td>half-true</td>\n",
              "    </tr>\n",
              "    <tr>\n",
              "      <th>4</th>\n",
              "      <td>irish women longer travel united kingdom end p...</td>\n",
              "      <td>Laura Bassett</td>\n",
              "      <td>Ireland Votes To Repeal Abortion Amendment In ...</td>\n",
              "      <td>half-true</td>\n",
              "    </tr>\n",
              "  </tbody>\n",
              "</table>\n",
              "</div>"
            ],
            "text/plain": [
              "                                                body  ...   fakeness\n",
              "0  month health human services official revealed ...  ...  half-true\n",
              "1  wiretaps feature conversations alexander torsh...  ...  half-true\n",
              "2  dont count robert mueller nail nsa whistleblow...  ...  half-true\n",
              "3                                     peeping minute  ...  half-true\n",
              "4  irish women longer travel united kingdom end p...  ...  half-true\n",
              "\n",
              "[5 rows x 4 columns]"
            ]
          },
          "metadata": {
            "tags": []
          },
          "execution_count": 77
        }
      ]
    },
    {
      "cell_type": "markdown",
      "metadata": {
        "id": "x0BaK7YSMgN1",
        "colab_type": "text"
      },
      "source": [
        "###Amalgamate Liar dataset, Kaggle Fakenews dataset, NewsCategory dataset "
      ]
    },
    {
      "cell_type": "code",
      "metadata": {
        "id": "fGhKk2AMMeL3",
        "colab_type": "code",
        "colab": {}
      },
      "source": [
        "dfconcat = pd.concat([df, dfkaggle, dfnewcat])"
      ],
      "execution_count": 0,
      "outputs": []
    },
    {
      "cell_type": "code",
      "metadata": {
        "id": "RkFjgjLYOQV5",
        "colab_type": "code",
        "colab": {
          "base_uri": "https://localhost:8080/",
          "height": 204
        },
        "outputId": "9e9a223d-fa55-45fd-9531-b3dbfba130ac"
      },
      "source": [
        "dfconcat.head()"
      ],
      "execution_count": 79,
      "outputs": [
        {
          "output_type": "execute_result",
          "data": {
            "text/html": [
              "<div>\n",
              "<style scoped>\n",
              "    .dataframe tbody tr th:only-of-type {\n",
              "        vertical-align: middle;\n",
              "    }\n",
              "\n",
              "    .dataframe tbody tr th {\n",
              "        vertical-align: top;\n",
              "    }\n",
              "\n",
              "    .dataframe thead th {\n",
              "        text-align: right;\n",
              "    }\n",
              "</style>\n",
              "<table border=\"1\" class=\"dataframe\">\n",
              "  <thead>\n",
              "    <tr style=\"text-align: right;\">\n",
              "      <th></th>\n",
              "      <th>body</th>\n",
              "      <th>author</th>\n",
              "      <th>title</th>\n",
              "      <th>fakeness</th>\n",
              "    </tr>\n",
              "  </thead>\n",
              "  <tbody>\n",
              "    <tr>\n",
              "      <th>0</th>\n",
              "      <td>says annies list political group supports thir...</td>\n",
              "      <td>dwayne-bohac</td>\n",
              "      <td>abortion</td>\n",
              "      <td>FALSE</td>\n",
              "    </tr>\n",
              "    <tr>\n",
              "      <th>1</th>\n",
              "      <td>decline coal start started natural gas took st...</td>\n",
              "      <td>scott-surovell</td>\n",
              "      <td>energy,history,job-accomplishments</td>\n",
              "      <td>half-true</td>\n",
              "    </tr>\n",
              "    <tr>\n",
              "      <th>2</th>\n",
              "      <td>hillary clinton agrees john mccain voting geor...</td>\n",
              "      <td>barack-obama</td>\n",
              "      <td>foreign-policy</td>\n",
              "      <td>mostly-true</td>\n",
              "    </tr>\n",
              "    <tr>\n",
              "      <th>3</th>\n",
              "      <td>health care reform legislation likely mandate ...</td>\n",
              "      <td>blog-posting</td>\n",
              "      <td>health-care</td>\n",
              "      <td>FALSE</td>\n",
              "    </tr>\n",
              "    <tr>\n",
              "      <th>4</th>\n",
              "      <td>economic turnaround started end term</td>\n",
              "      <td>charlie-crist</td>\n",
              "      <td>economy,jobs</td>\n",
              "      <td>half-true</td>\n",
              "    </tr>\n",
              "  </tbody>\n",
              "</table>\n",
              "</div>"
            ],
            "text/plain": [
              "                                                body  ...     fakeness\n",
              "0  says annies list political group supports thir...  ...        FALSE\n",
              "1  decline coal start started natural gas took st...  ...    half-true\n",
              "2  hillary clinton agrees john mccain voting geor...  ...  mostly-true\n",
              "3  health care reform legislation likely mandate ...  ...        FALSE\n",
              "4               economic turnaround started end term  ...    half-true\n",
              "\n",
              "[5 rows x 4 columns]"
            ]
          },
          "metadata": {
            "tags": []
          },
          "execution_count": 79
        }
      ]
    },
    {
      "cell_type": "code",
      "metadata": {
        "id": "SRWzFnCXPAoW",
        "colab_type": "code",
        "colab": {}
      },
      "source": [
        "dfconcat.dropna(inplace=True)"
      ],
      "execution_count": 0,
      "outputs": []
    },
    {
      "cell_type": "markdown",
      "metadata": {
        "id": "4pWvJ4iZOktA",
        "colab_type": "text"
      },
      "source": [
        "#Latent Dirichlet Allocation [LDA] on Amagamated Dataset, to get better results\n"
      ]
    },
    {
      "cell_type": "code",
      "metadata": {
        "id": "sj6vUum-ORtv",
        "colab_type": "code",
        "colab": {}
      },
      "source": [
        "from sklearn.feature_extraction.text import CountVectorizer\n",
        "import numpy as np"
      ],
      "execution_count": 0,
      "outputs": []
    },
    {
      "cell_type": "code",
      "metadata": {
        "id": "qVNuWZaIOvWL",
        "colab_type": "code",
        "colab": {}
      },
      "source": [
        "import matplotlib.pyplot as plt\n",
        "%matplotlib inline"
      ],
      "execution_count": 0,
      "outputs": []
    },
    {
      "cell_type": "markdown",
      "metadata": {
        "id": "WH10ZpUGOx1o",
        "colab_type": "text"
      },
      "source": [
        "###Plot top Common Words in the Amagamated Dataset"
      ]
    },
    {
      "cell_type": "code",
      "metadata": {
        "id": "OYUOD5mbOwdD",
        "colab_type": "code",
        "colab": {
          "base_uri": "https://localhost:8080/",
          "height": 619
        },
        "outputId": "f16c28e1-5e5f-43ea-b44f-cbc046e683c3"
      },
      "source": [
        "def Plot(count_data, count_vectorizer):\n",
        "    import matplotlib.pyplot as plt\n",
        "    words = count_vectorizer.get_feature_names()\n",
        "    total_counts = np.zeros(len(words))\n",
        "    for t in count_data:\n",
        "        total_counts+=t.toarray()[0]\n",
        "    \n",
        "    count_dict = (zip(words, total_counts))\n",
        "    count_dict = sorted(count_dict, key=lambda x:x[1], reverse=True)[0:10]\n",
        "    words = [w[0] for w in count_dict]\n",
        "    counts = [w[1] for w in count_dict]\n",
        "    x_pos = np.arange(len(words)) \n",
        "    \n",
        "    plt.figure(2, figsize=(15, 15/1.6180))\n",
        "    plt.subplot(title='10 most common words')\n",
        "    plt.bar(x_pos, counts,align='center')\n",
        "    plt.xticks(x_pos, words, rotation=90) \n",
        "    plt.xlabel('words')\n",
        "    plt.ylabel('counts')\n",
        "    plt.show()\n",
        "\n",
        "count_vectorizer = CountVectorizer(stop_words='english') #count vectorizer with stop words\n",
        "count_data = count_vectorizer.fit_transform(dfconcat['body'])\n",
        "Plot(count_data, count_vectorizer)\n"
      ],
      "execution_count": 83,
      "outputs": [
        {
          "output_type": "display_data",
          "data": {
            "image/png": "[encoded data removed]",
            "text/plain": [
              "<Figure size 1080x667.491 with 1 Axes>"
            ]
          },
          "metadata": {
            "tags": [],
            "needs_background": "light"
          }
        }
      ]
    },
    {
      "cell_type": "code",
      "metadata": {
        "id": "FY8krv0eO4vc",
        "colab_type": "code",
        "colab": {
          "base_uri": "https://localhost:8080/",
          "height": 544
        },
        "outputId": "7741a39d-7db3-41c8-863e-fe1cd4ce2b29"
      },
      "source": [
        "from sklearn.decomposition import LatentDirichletAllocation as LDA\n",
        "l = []\n",
        "def print_topics(model, count_vectorizer, n_top_words):\n",
        "    words = count_vectorizer.get_feature_names()\n",
        "    for topic_idx, topic in enumerate(model.components_):\n",
        "        print(\"\\nTopic #%d:\" % topic_idx)\n",
        "        print(\" \".join([words[i]\n",
        "                        for i in topic.argsort()[:-n_top_words - 1:-1]]))\n",
        "        l.append(\" \".join([words[i]\n",
        "                        for i in topic.argsort()[:-n_top_words - 1:-1]]))\n",
        "        \n",
        "number_topics = 10 #We will have 10 topics from these articles\n",
        "number_words = 10 #Number of words per Topic = 10\n",
        "lda = LDA(n_components=number_topics, n_jobs=-1, random_state=42)\n",
        "lda.fit(count_data)\n",
        "print(\"Topics found via LDA for the articles:\")\n",
        "print_topics(lda, count_vectorizer, number_words)"
      ],
      "execution_count": 84,
      "outputs": [
        {
          "output_type": "stream",
          "text": [
            "Topics found via LDA for the articles:\n",
            "\n",
            "Topic #0:\n",
            "war russia government world states military president united american russian\n",
            "\n",
            "Topic #1:\n",
            "says jewish state new israel veterans jobs said million jews\n",
            "\n",
            "Topic #2:\n",
            "police said law pipeline 2016 federal water people dakota state\n",
            "\n",
            "Topic #3:\n",
            "clinton campaign president trump hillary obama said white party people\n",
            "\n",
            "Topic #4:\n",
            "obama says white state new force com president house infowars\n",
            "\n",
            "Topic #5:\n",
            "people said god just like al children world country time\n",
            "\n",
            "Topic #6:\n",
            "health percent care medical cancer food study people women children\n",
            "\n",
            "Topic #7:\n",
            "people world time like just new money gold way years\n",
            "\n",
            "Topic #8:\n",
            "trump election hillary donald clinton vote people like said president\n",
            "\n",
            "Topic #9:\n",
            "clinton fbi hillary emails investigation comey email said information campaign\n"
          ],
          "name": "stdout"
        }
      ]
    },
    {
      "cell_type": "markdown",
      "metadata": {
        "id": "tESXnBbVYWOI",
        "colab_type": "text"
      },
      "source": [
        "##Based on the words in the topics above, manually labelled the topics and saved as a csv file in a shared folder in Google Drive\n",
        "####Link to the Manually Labelled topics"
      ]
    },
    {
      "cell_type": "code",
      "metadata": {
        "id": "QHaey-6xY46s",
        "colab_type": "code",
        "colab": {}
      },
      "source": [
        "!pip install -U -q PyDrive\n",
        "from pydrive.auth import GoogleAuth\n",
        "from pydrive.drive import GoogleDrive\n",
        "from google.colab import auth\n",
        "from oauth2client.client import GoogleCredentials"
      ],
      "execution_count": 0,
      "outputs": []
    },
    {
      "cell_type": "code",
      "metadata": {
        "id": "51S8nG5vY7Kw",
        "colab_type": "code",
        "colab": {}
      },
      "source": [
        "auth.authenticate_user()\n",
        "gauth = GoogleAuth()\n",
        "gauth.credentials = GoogleCredentials.get_application_default()\n",
        "drive = GoogleDrive(gauth)"
      ],
      "execution_count": 0,
      "outputs": []
    },
    {
      "cell_type": "code",
      "metadata": {
        "id": "hvwF_bx4PgXq",
        "colab_type": "code",
        "colab": {}
      },
      "source": [
        "link = 'https://drive.google.com/open?id=1OkH1rDNs7HpiXXFetgdKv6cNLne-pq1H'"
      ],
      "execution_count": 0,
      "outputs": []
    },
    {
      "cell_type": "code",
      "metadata": {
        "id": "-gELgVtvYaye",
        "colab_type": "code",
        "colab": {}
      },
      "source": [
        "downloaded = drive.CreateFile({'id':\"1OkH1rDNs7HpiXXFetgdKv6cNLne-pq1H\"}) \n",
        "downloaded.GetContentFile('LDALabels.csv')"
      ],
      "execution_count": 0,
      "outputs": []
    },
    {
      "cell_type": "code",
      "metadata": {
        "id": "6cm7-Ak8Y0wg",
        "colab_type": "code",
        "colab": {}
      },
      "source": [
        "df_new =pd.read_csv('LDALabels.csv')"
      ],
      "execution_count": 0,
      "outputs": []
    },
    {
      "cell_type": "code",
      "metadata": {
        "id": "1-tING0OZiWO",
        "colab_type": "code",
        "colab": {
          "base_uri": "https://localhost:8080/",
          "height": 111
        },
        "outputId": "0b39990b-8687-42a6-8c86-4f980b8cacda"
      },
      "source": [
        "df_new.head(2)"
      ],
      "execution_count": 90,
      "outputs": [
        {
          "output_type": "execute_result",
          "data": {
            "text/html": [
              "<div>\n",
              "<style scoped>\n",
              "    .dataframe tbody tr th:only-of-type {\n",
              "        vertical-align: middle;\n",
              "    }\n",
              "\n",
              "    .dataframe tbody tr th {\n",
              "        vertical-align: top;\n",
              "    }\n",
              "\n",
              "    .dataframe thead th {\n",
              "        text-align: right;\n",
              "    }\n",
              "</style>\n",
              "<table border=\"1\" class=\"dataframe\">\n",
              "  <thead>\n",
              "    <tr style=\"text-align: right;\">\n",
              "      <th></th>\n",
              "      <th>Label</th>\n",
              "      <th>Word1</th>\n",
              "      <th>Word2</th>\n",
              "      <th>Word3</th>\n",
              "      <th>Word4</th>\n",
              "      <th>Word5</th>\n",
              "      <th>Word6</th>\n",
              "      <th>Word7</th>\n",
              "      <th>Word8</th>\n",
              "      <th>Word9</th>\n",
              "      <th>Word10</th>\n",
              "    </tr>\n",
              "  </thead>\n",
              "  <tbody>\n",
              "    <tr>\n",
              "      <th>0</th>\n",
              "      <td>War</td>\n",
              "      <td>war</td>\n",
              "      <td>russia</td>\n",
              "      <td>government</td>\n",
              "      <td>world</td>\n",
              "      <td>states</td>\n",
              "      <td>military</td>\n",
              "      <td>president</td>\n",
              "      <td>united</td>\n",
              "      <td>american</td>\n",
              "      <td>russian</td>\n",
              "    </tr>\n",
              "    <tr>\n",
              "      <th>1</th>\n",
              "      <td>Veterans jobs</td>\n",
              "      <td>says</td>\n",
              "      <td>jewish</td>\n",
              "      <td>state</td>\n",
              "      <td>new</td>\n",
              "      <td>israel</td>\n",
              "      <td>veterans</td>\n",
              "      <td>jobs</td>\n",
              "      <td>said</td>\n",
              "      <td>million</td>\n",
              "      <td>jews</td>\n",
              "    </tr>\n",
              "  </tbody>\n",
              "</table>\n",
              "</div>"
            ],
            "text/plain": [
              "           Label Word1   Word2  ...   Word8     Word9   Word10\n",
              "0            War   war  russia  ...  united  american  russian\n",
              "1  Veterans jobs  says  jewish  ...    said   million     jews\n",
              "\n",
              "[2 rows x 11 columns]"
            ]
          },
          "metadata": {
            "tags": []
          },
          "execution_count": 90
        }
      ]
    },
    {
      "cell_type": "code",
      "metadata": {
        "id": "68aBkUcQZkv3",
        "colab_type": "code",
        "colab": {
          "base_uri": "https://localhost:8080/",
          "height": 360
        },
        "outputId": "424c8e07-dda2-4562-c8a7-b674ba442c52"
      },
      "source": [
        "!pip install nltk\n",
        "!pip install gensim"
      ],
      "execution_count": 91,
      "outputs": [
        {
          "output_type": "stream",
          "text": [
            "Requirement already satisfied: nltk in /usr/local/lib/python3.6/dist-packages (3.2.5)\n",
            "Requirement already satisfied: six in /usr/local/lib/python3.6/dist-packages (from nltk) (1.12.0)\n",
            "Requirement already satisfied: gensim in /usr/local/lib/python3.6/dist-packages (3.6.0)\n",
            "Requirement already satisfied: numpy>=1.11.3 in /usr/local/lib/python3.6/dist-packages (from gensim) (1.18.4)\n",
            "Requirement already satisfied: scipy>=0.18.1 in /usr/local/lib/python3.6/dist-packages (from gensim) (1.4.1)\n",
            "Requirement already satisfied: smart-open>=1.2.1 in /usr/local/lib/python3.6/dist-packages (from gensim) (2.0.0)\n",
            "Requirement already satisfied: six>=1.5.0 in /usr/local/lib/python3.6/dist-packages (from gensim) (1.12.0)\n",
            "Requirement already satisfied: boto in /usr/local/lib/python3.6/dist-packages (from smart-open>=1.2.1->gensim) (2.49.0)\n",
            "Requirement already satisfied: boto3 in /usr/local/lib/python3.6/dist-packages (from smart-open>=1.2.1->gensim) (1.13.4)\n",
            "Requirement already satisfied: requests in /usr/local/lib/python3.6/dist-packages (from smart-open>=1.2.1->gensim) (2.23.0)\n",
            "Requirement already satisfied: s3transfer<0.4.0,>=0.3.0 in /usr/local/lib/python3.6/dist-packages (from boto3->smart-open>=1.2.1->gensim) (0.3.3)\n",
            "Requirement already satisfied: botocore<1.17.0,>=1.16.4 in /usr/local/lib/python3.6/dist-packages (from boto3->smart-open>=1.2.1->gensim) (1.16.4)\n",
            "Requirement already satisfied: jmespath<1.0.0,>=0.7.1 in /usr/local/lib/python3.6/dist-packages (from boto3->smart-open>=1.2.1->gensim) (0.9.5)\n",
            "Requirement already satisfied: idna<3,>=2.5 in /usr/local/lib/python3.6/dist-packages (from requests->smart-open>=1.2.1->gensim) (2.9)\n",
            "Requirement already satisfied: chardet<4,>=3.0.2 in /usr/local/lib/python3.6/dist-packages (from requests->smart-open>=1.2.1->gensim) (3.0.4)\n",
            "Requirement already satisfied: urllib3!=1.25.0,!=1.25.1,<1.26,>=1.21.1 in /usr/local/lib/python3.6/dist-packages (from requests->smart-open>=1.2.1->gensim) (1.24.3)\n",
            "Requirement already satisfied: certifi>=2017.4.17 in /usr/local/lib/python3.6/dist-packages (from requests->smart-open>=1.2.1->gensim) (2020.4.5.1)\n",
            "Requirement already satisfied: docutils<0.16,>=0.10 in /usr/local/lib/python3.6/dist-packages (from botocore<1.17.0,>=1.16.4->boto3->smart-open>=1.2.1->gensim) (0.15.2)\n",
            "Requirement already satisfied: python-dateutil<3.0.0,>=2.1 in /usr/local/lib/python3.6/dist-packages (from botocore<1.17.0,>=1.16.4->boto3->smart-open>=1.2.1->gensim) (2.8.1)\n"
          ],
          "name": "stdout"
        }
      ]
    },
    {
      "cell_type": "code",
      "metadata": {
        "id": "lKMBmlWkaCVK",
        "colab_type": "code",
        "colab": {}
      },
      "source": [
        "df_new['LDA_Labels']=df_new.Word1 + ' ' + df_new.Word2 +' ' + df_new.Word3 +' ' + df_new.Word4 +' ' + df_new.Word5 +' ' + df_new.Word6 +' ' + df_new.Word7 +' ' + df_new.Word8 +' ' + df_new.Word9 +' ' + df_new.Word10"
      ],
      "execution_count": 0,
      "outputs": []
    },
    {
      "cell_type": "code",
      "metadata": {
        "id": "tXWuuFVZaHVr",
        "colab_type": "code",
        "colab": {
          "base_uri": "https://localhost:8080/",
          "height": 238
        },
        "outputId": "4d5089ed-8027-4083-e198-573283756600"
      },
      "source": [
        "df_new.head()"
      ],
      "execution_count": 93,
      "outputs": [
        {
          "output_type": "execute_result",
          "data": {
            "text/html": [
              "<div>\n",
              "<style scoped>\n",
              "    .dataframe tbody tr th:only-of-type {\n",
              "        vertical-align: middle;\n",
              "    }\n",
              "\n",
              "    .dataframe tbody tr th {\n",
              "        vertical-align: top;\n",
              "    }\n",
              "\n",
              "    .dataframe thead th {\n",
              "        text-align: right;\n",
              "    }\n",
              "</style>\n",
              "<table border=\"1\" class=\"dataframe\">\n",
              "  <thead>\n",
              "    <tr style=\"text-align: right;\">\n",
              "      <th></th>\n",
              "      <th>Label</th>\n",
              "      <th>Word1</th>\n",
              "      <th>Word2</th>\n",
              "      <th>Word3</th>\n",
              "      <th>Word4</th>\n",
              "      <th>Word5</th>\n",
              "      <th>Word6</th>\n",
              "      <th>Word7</th>\n",
              "      <th>Word8</th>\n",
              "      <th>Word9</th>\n",
              "      <th>Word10</th>\n",
              "      <th>LDA_Labels</th>\n",
              "    </tr>\n",
              "  </thead>\n",
              "  <tbody>\n",
              "    <tr>\n",
              "      <th>0</th>\n",
              "      <td>War</td>\n",
              "      <td>war</td>\n",
              "      <td>russia</td>\n",
              "      <td>government</td>\n",
              "      <td>world</td>\n",
              "      <td>states</td>\n",
              "      <td>military</td>\n",
              "      <td>president</td>\n",
              "      <td>united</td>\n",
              "      <td>american</td>\n",
              "      <td>russian</td>\n",
              "      <td>war russia government world states military pr...</td>\n",
              "    </tr>\n",
              "    <tr>\n",
              "      <th>1</th>\n",
              "      <td>Veterans jobs</td>\n",
              "      <td>says</td>\n",
              "      <td>jewish</td>\n",
              "      <td>state</td>\n",
              "      <td>new</td>\n",
              "      <td>israel</td>\n",
              "      <td>veterans</td>\n",
              "      <td>jobs</td>\n",
              "      <td>said</td>\n",
              "      <td>million</td>\n",
              "      <td>jews</td>\n",
              "      <td>says jewish state new israel veterans jobs sai...</td>\n",
              "    </tr>\n",
              "    <tr>\n",
              "      <th>2</th>\n",
              "      <td>Law</td>\n",
              "      <td>police</td>\n",
              "      <td>said</td>\n",
              "      <td>law</td>\n",
              "      <td>pipeline</td>\n",
              "      <td>2016</td>\n",
              "      <td>federal</td>\n",
              "      <td>water</td>\n",
              "      <td>people</td>\n",
              "      <td>dakota</td>\n",
              "      <td>state</td>\n",
              "      <td>police said law pipeline 2016 federal water pe...</td>\n",
              "    </tr>\n",
              "    <tr>\n",
              "      <th>3</th>\n",
              "      <td>Election campaign</td>\n",
              "      <td>clinton</td>\n",
              "      <td>campaign</td>\n",
              "      <td>president</td>\n",
              "      <td>trump</td>\n",
              "      <td>hillary</td>\n",
              "      <td>obama</td>\n",
              "      <td>said</td>\n",
              "      <td>white</td>\n",
              "      <td>party</td>\n",
              "      <td>people</td>\n",
              "      <td>clinton campaign president trump hillary obama...</td>\n",
              "    </tr>\n",
              "    <tr>\n",
              "      <th>4</th>\n",
              "      <td>New Force</td>\n",
              "      <td>obama</td>\n",
              "      <td>says</td>\n",
              "      <td>white</td>\n",
              "      <td>state</td>\n",
              "      <td>new</td>\n",
              "      <td>force</td>\n",
              "      <td>com</td>\n",
              "      <td>president</td>\n",
              "      <td>house</td>\n",
              "      <td>infowars</td>\n",
              "      <td>obama says white state new force com president...</td>\n",
              "    </tr>\n",
              "  </tbody>\n",
              "</table>\n",
              "</div>"
            ],
            "text/plain": [
              "               Label  ...                                         LDA_Labels\n",
              "0                War  ...  war russia government world states military pr...\n",
              "1      Veterans jobs  ...  says jewish state new israel veterans jobs sai...\n",
              "2                Law  ...  police said law pipeline 2016 federal water pe...\n",
              "3  Election campaign  ...  clinton campaign president trump hillary obama...\n",
              "4          New Force  ...  obama says white state new force com president...\n",
              "\n",
              "[5 rows x 12 columns]"
            ]
          },
          "metadata": {
            "tags": []
          },
          "execution_count": 93
        }
      ]
    },
    {
      "cell_type": "code",
      "metadata": {
        "id": "AIaL14uEaJMy",
        "colab_type": "code",
        "colab": {
          "base_uri": "https://localhost:8080/",
          "height": 68
        },
        "outputId": "3bb71096-9002-4611-bd7d-a0824fdcf885"
      },
      "source": [
        "df_new.columns"
      ],
      "execution_count": 94,
      "outputs": [
        {
          "output_type": "execute_result",
          "data": {
            "text/plain": [
              "Index(['Label', 'Word1', 'Word2', 'Word3', 'Word4', 'Word5', 'Word6', 'Word7',\n",
              "       'Word8', 'Word9', 'Word10', 'LDA_Labels'],\n",
              "      dtype='object')"
            ]
          },
          "metadata": {
            "tags": []
          },
          "execution_count": 94
        }
      ]
    },
    {
      "cell_type": "markdown",
      "metadata": {
        "id": "7H-4mZ8AaOIp",
        "colab_type": "text"
      },
      "source": [
        "###Tokenizing the words and converting the words into Lower Case"
      ]
    },
    {
      "cell_type": "code",
      "metadata": {
        "id": "yBfBuRjdaTD4",
        "colab_type": "code",
        "colab": {
          "base_uri": "https://localhost:8080/",
          "height": 68
        },
        "outputId": "d9afe5ad-4b62-4b19-eea7-3a33c6913dc7"
      },
      "source": [
        "import nltk\n",
        "import gensim\n",
        "nltk.download('punkt')"
      ],
      "execution_count": 95,
      "outputs": [
        {
          "output_type": "stream",
          "text": [
            "[nltk_data] Downloading package punkt to /root/nltk_data...\n",
            "[nltk_data]   Unzipping tokenizers/punkt.zip.\n"
          ],
          "name": "stdout"
        },
        {
          "output_type": "execute_result",
          "data": {
            "text/plain": [
              "True"
            ]
          },
          "metadata": {
            "tags": []
          },
          "execution_count": 95
        }
      ]
    },
    {
      "cell_type": "code",
      "metadata": {
        "id": "IB0HfWfSaLsr",
        "colab_type": "code",
        "colab": {}
      },
      "source": [
        "from nltk.tokenize import word_tokenize, sent_tokenize\n",
        "tokens = [[w.lower() for w in word_tokenize(text)] for text in df_new.LDA_Labels]"
      ],
      "execution_count": 0,
      "outputs": []
    },
    {
      "cell_type": "code",
      "metadata": {
        "id": "nb6Ps32yaQqM",
        "colab_type": "code",
        "colab": {
          "base_uri": "https://localhost:8080/",
          "height": 1000
        },
        "outputId": "f99ead35-0301-4d5d-b09f-e4e2ee98dbfe"
      },
      "source": [
        "tokens"
      ],
      "execution_count": 97,
      "outputs": [
        {
          "output_type": "execute_result",
          "data": {
            "text/plain": [
              "[['war',\n",
              "  'russia',\n",
              "  'government',\n",
              "  'world',\n",
              "  'states',\n",
              "  'military',\n",
              "  'president',\n",
              "  'united',\n",
              "  'american',\n",
              "  'russian'],\n",
              " ['says',\n",
              "  'jewish',\n",
              "  'state',\n",
              "  'new',\n",
              "  'israel',\n",
              "  'veterans',\n",
              "  'jobs',\n",
              "  'said',\n",
              "  'million',\n",
              "  'jews'],\n",
              " ['police',\n",
              "  'said',\n",
              "  'law',\n",
              "  'pipeline',\n",
              "  '2016',\n",
              "  'federal',\n",
              "  'water',\n",
              "  'people',\n",
              "  'dakota',\n",
              "  'state'],\n",
              " ['clinton',\n",
              "  'campaign',\n",
              "  'president',\n",
              "  'trump',\n",
              "  'hillary',\n",
              "  'obama',\n",
              "  'said',\n",
              "  'white',\n",
              "  'party',\n",
              "  'people'],\n",
              " ['obama',\n",
              "  'says',\n",
              "  'white',\n",
              "  'state',\n",
              "  'new',\n",
              "  'force',\n",
              "  'com',\n",
              "  'president',\n",
              "  'house',\n",
              "  'infowars'],\n",
              " ['peope',\n",
              "  'said',\n",
              "  'god',\n",
              "  'just',\n",
              "  'like',\n",
              "  'al',\n",
              "  'children',\n",
              "  'world',\n",
              "  'country',\n",
              "  'time'],\n",
              " ['health',\n",
              "  'percent',\n",
              "  'care',\n",
              "  'medical',\n",
              "  'cancer',\n",
              "  'food',\n",
              "  'study',\n",
              "  'people',\n",
              "  'women',\n",
              "  'children'],\n",
              " ['people',\n",
              "  'world',\n",
              "  'time',\n",
              "  'like',\n",
              "  'just',\n",
              "  'new',\n",
              "  'money',\n",
              "  'gold',\n",
              "  'way',\n",
              "  'years'],\n",
              " ['trump',\n",
              "  'election',\n",
              "  'hillary',\n",
              "  'donald',\n",
              "  'clinton',\n",
              "  'vote',\n",
              "  'people',\n",
              "  'like',\n",
              "  'said',\n",
              "  'president'],\n",
              " ['clinton',\n",
              "  'fbi',\n",
              "  'hillary',\n",
              "  'emails',\n",
              "  'investigation',\n",
              "  'comey',\n",
              "  'email',\n",
              "  'said',\n",
              "  'information',\n",
              "  'campaign']]"
            ]
          },
          "metadata": {
            "tags": []
          },
          "execution_count": 97
        }
      ]
    },
    {
      "cell_type": "code",
      "metadata": {
        "id": "yZKeaK0ZaXBV",
        "colab_type": "code",
        "colab": {}
      },
      "source": [
        "dict = gensim.corpora.Dictionary(tokens)"
      ],
      "execution_count": 0,
      "outputs": []
    },
    {
      "cell_type": "code",
      "metadata": {
        "id": "2vE2vSOXaZQV",
        "colab_type": "code",
        "colab": {
          "base_uri": "https://localhost:8080/",
          "height": 54
        },
        "outputId": "e6e86ba7-bcad-4d59-c440-6e785b4e0d4e"
      },
      "source": [
        "print(dict.token2id)"
      ],
      "execution_count": 99,
      "outputs": [
        {
          "output_type": "stream",
          "text": [
            "{'american': 0, 'government': 1, 'military': 2, 'president': 3, 'russia': 4, 'russian': 5, 'states': 6, 'united': 7, 'war': 8, 'world': 9, 'israel': 10, 'jewish': 11, 'jews': 12, 'jobs': 13, 'million': 14, 'new': 15, 'said': 16, 'says': 17, 'state': 18, 'veterans': 19, '2016': 20, 'dakota': 21, 'federal': 22, 'law': 23, 'people': 24, 'pipeline': 25, 'police': 26, 'water': 27, 'campaign': 28, 'clinton': 29, 'hillary': 30, 'obama': 31, 'party': 32, 'trump': 33, 'white': 34, 'com': 35, 'force': 36, 'house': 37, 'infowars': 38, 'al': 39, 'children': 40, 'country': 41, 'god': 42, 'just': 43, 'like': 44, 'peope': 45, 'time': 46, 'cancer': 47, 'care': 48, 'food': 49, 'health': 50, 'medical': 51, 'percent': 52, 'study': 53, 'women': 54, 'gold': 55, 'money': 56, 'way': 57, 'years': 58, 'donald': 59, 'election': 60, 'vote': 61, 'comey': 62, 'email': 63, 'emails': 64, 'fbi': 65, 'information': 66, 'investigation': 67}\n"
          ],
          "name": "stdout"
        }
      ]
    },
    {
      "cell_type": "markdown",
      "metadata": {
        "id": "0Lb1fKRCaeBD",
        "colab_type": "text"
      },
      "source": [
        "###To convert tokenized topics to vectors to use for Finding Cosine similarity and TF_IDF"
      ]
    },
    {
      "cell_type": "code",
      "metadata": {
        "id": "EZRVQV02aaXt",
        "colab_type": "code",
        "colab": {}
      },
      "source": [
        "corpus = [dict.doc2bow(tokens) for tokens in tokens]\n"
      ],
      "execution_count": 0,
      "outputs": []
    },
    {
      "cell_type": "markdown",
      "metadata": {
        "id": "Lkko8kyKai3H",
        "colab_type": "text"
      },
      "source": [
        "###TF-IDF [Term Frequency and Inverse Document Frequency]"
      ]
    },
    {
      "cell_type": "code",
      "metadata": {
        "id": "Y9SWfuVJagq-",
        "colab_type": "code",
        "colab": {
          "base_uri": "https://localhost:8080/",
          "height": 207
        },
        "outputId": "17ac4858-c19a-44ed-86e1-f86470f84ff4"
      },
      "source": [
        "tf_idf = gensim.models.TfidfModel(corpus)\n",
        "for doc in tf_idf[corpus]:\n",
        "    print([[dict[id], np.around(freq, decimals=2)] for id, freq in doc])"
      ],
      "execution_count": 101,
      "outputs": [
        {
          "output_type": "stream",
          "text": [
            "[['american', 0.34], ['government', 0.34], ['military', 0.34], ['president', 0.14], ['russia', 0.34], ['russian', 0.34], ['states', 0.34], ['united', 0.34], ['war', 0.34], ['world', 0.18]]\n",
            "[['israel', 0.38], ['jewish', 0.38], ['jews', 0.38], ['jobs', 0.38], ['million', 0.38], ['new', 0.2], ['said', 0.08], ['says', 0.26], ['state', 0.2], ['veterans', 0.38]]\n",
            "[['said', 0.08], ['state', 0.19], ['2016', 0.37], ['dakota', 0.37], ['federal', 0.37], ['law', 0.37], ['people', 0.11], ['pipeline', 0.37], ['police', 0.37], ['water', 0.37]]\n",
            "[['president', 0.2], ['said', 0.11], ['people', 0.15], ['campaign', 0.36], ['clinton', 0.27], ['hillary', 0.27], ['obama', 0.36], ['party', 0.51], ['trump', 0.36], ['white', 0.36]]\n",
            "[['president', 0.16], ['new', 0.21], ['says', 0.28], ['state', 0.21], ['obama', 0.28], ['white', 0.28], ['com', 0.4], ['force', 0.4], ['house', 0.4], ['infowars', 0.4]]\n",
            "[['world', 0.21], ['said', 0.09], ['al', 0.41], ['children', 0.28], ['country', 0.41], ['god', 0.41], ['just', 0.28], ['like', 0.21], ['peope', 0.41], ['time', 0.28]]\n",
            "[['people', 0.1], ['children', 0.24], ['cancer', 0.34], ['care', 0.34], ['food', 0.34], ['health', 0.34], ['medical', 0.34], ['percent', 0.34], ['study', 0.34], ['women', 0.34]]\n",
            "[['world', 0.22], ['new', 0.22], ['people', 0.12], ['just', 0.29], ['like', 0.22], ['time', 0.29], ['gold', 0.41], ['money', 0.41], ['way', 0.41], ['years', 0.41]]\n",
            "[['president', 0.19], ['said', 0.1], ['people', 0.14], ['clinton', 0.24], ['hillary', 0.24], ['trump', 0.33], ['like', 0.24], ['donald', 0.47], ['election', 0.47], ['vote', 0.47]]\n",
            "[['said', 0.08], ['campaign', 0.26], ['clinton', 0.2], ['hillary', 0.2], ['comey', 0.38], ['email', 0.38], ['emails', 0.38], ['fbi', 0.38], ['information', 0.38], ['investigation', 0.38]]\n"
          ],
          "name": "stdout"
        }
      ]
    },
    {
      "cell_type": "markdown",
      "metadata": {
        "id": "E9q2H_6Qamwe",
        "colab_type": "text"
      },
      "source": [
        "Using Gensim library to find similarity between the labels and the words generated from LDA Topic Modeling"
      ]
    },
    {
      "cell_type": "code",
      "metadata": {
        "id": "mJrG5dUAakfP",
        "colab_type": "code",
        "colab": {
          "base_uri": "https://localhost:8080/",
          "height": 71
        },
        "outputId": "b15bd238-3c8d-46f9-ef8f-5514dff711ec"
      },
      "source": [
        "sims = gensim.similarities.Similarity('.',tf_idf[corpus],\n",
        "                                        num_features=len(dict))"
      ],
      "execution_count": 102,
      "outputs": [
        {
          "output_type": "stream",
          "text": [
            "/usr/local/lib/python3.6/dist-packages/gensim/matutils.py:718: FutureWarning: Conversion of the second argument of issubdtype from `int` to `np.signedinteger` is deprecated. In future, it will be treated as `np.int64 == np.dtype(int).type`.\n",
            "  if np.issubdtype(vec.dtype, np.int):\n"
          ],
          "name": "stderr"
        }
      ]
    },
    {
      "cell_type": "markdown",
      "metadata": {
        "id": "-LqeYQqNaqwI",
        "colab_type": "text"
      },
      "source": [
        "###Feeding some sentences from the test article and finding the TF-IDF "
      ]
    },
    {
      "cell_type": "code",
      "metadata": {
        "id": "xZVIjtrAaoyI",
        "colab_type": "code",
        "colab": {}
      },
      "source": [
        "mat = []\n",
        "\n",
        "file1=['Thank you very much. Mr. Speaker, Mr. Vice President, members of Congress, the first lady of the United States']\n",
        "file2=['I am here tonight to deliver a message of unity and strength, and it is a message deeply delivered from my heart']\n",
        "file3=['But then the quiet voices became a loud chorus, as thousands of citizens now spoke out together, from cities small and large, all across our country']\n",
        "file=[file1,file2,file3]\n",
        "def IsSimilarText(sentences):\n",
        "  for sentence in sentences:\n",
        "    tokens = sent_tokenize(sentence)\n",
        "    for line in tokens:\n",
        "        mat.append(line)\n",
        "  print(\"\\nNumber of documents:\",len(mat))  \n",
        "  for line in mat:\n",
        "      query_doc = [w.lower() for w in word_tokenize(line)]\n",
        "      query_doc_bow = dict.doc2bow(query_doc) \n",
        "  query_doc_tf_idf = tf_idf[query_doc_bow]\n",
        "  max_number = float('-inf')\n",
        "  label=-1\n",
        "  for i,j in enumerate(sims[query_doc_tf_idf]):\n",
        "    print('Similarity with ',i,'the Label is',j)\n",
        "    if j > max_number:\n",
        "      label = i\n",
        "      max_number = j\n",
        "  print(\"\\nLabel for this Topic is:\",df_new.Label[label])"
      ],
      "execution_count": 0,
      "outputs": []
    },
    {
      "cell_type": "markdown",
      "metadata": {
        "id": "5Rd6xyNMa0E1",
        "colab_type": "text"
      },
      "source": [
        "#Topic Naming"
      ]
    },
    {
      "cell_type": "code",
      "metadata": {
        "id": "oEQ2H91_atNa",
        "colab_type": "code",
        "colab": {
          "base_uri": "https://localhost:8080/",
          "height": 1000
        },
        "outputId": "63f57812-2464-42f5-94c3-b8874bc33c5b"
      },
      "source": [
        "print(\"Printing all labels:\\n\",df_new.Label)\n",
        "for i in file:\n",
        "  print(\"\\n\",i,\"\\n\")\n",
        "  IsSimilarText(i)"
      ],
      "execution_count": 104,
      "outputs": [
        {
          "output_type": "stream",
          "text": [
            "Printing all labels:\n",
            " 0                   War\n",
            "1         Veterans jobs\n",
            "2                   Law\n",
            "3     Election campaign\n",
            "4             New Force\n",
            "5    Positive Sentiment\n",
            "6                Health\n",
            "7               Economy\n",
            "8     Election campaign\n",
            "9         Investigation\n",
            "Name: Label, dtype: object\n",
            "\n",
            " ['Thank you very much. Mr. Speaker, Mr. Vice President, members of Congress, the first lady of the United States'] \n",
            "\n",
            "\n",
            "Number of documents: 2\n",
            "Similarity with  0 the Label is 0.505944\n",
            "Similarity with  1 the Label is 0.0\n",
            "Similarity with  2 the Label is 0.0\n",
            "Similarity with  3 the Label is 0.05530007\n",
            "Similarity with  4 the Label is 0.04339119\n",
            "Similarity with  5 the Label is 0.0\n",
            "Similarity with  6 the Label is 0.0\n",
            "Similarity with  7 the Label is 0.0\n",
            "Similarity with  8 the Label is 0.05021882\n",
            "Similarity with  9 the Label is 0.0\n",
            "\n",
            "Label for this Topic is: War\n",
            "\n",
            " ['I am here tonight to deliver a message of unity and strength, and it is a message deeply delivered from my heart'] \n",
            "\n",
            "\n",
            "Number of documents: 3\n",
            "Similarity with  0 the Label is 0.0\n",
            "Similarity with  1 the Label is 0.0\n",
            "Similarity with  2 the Label is 0.0\n",
            "Similarity with  3 the Label is 0.0\n",
            "Similarity with  4 the Label is 0.0\n",
            "Similarity with  5 the Label is 0.0\n",
            "Similarity with  6 the Label is 0.0\n",
            "Similarity with  7 the Label is 0.0\n",
            "Similarity with  8 the Label is 0.0\n",
            "Similarity with  9 the Label is 0.0\n",
            "\n",
            "Label for this Topic is: War\n",
            "\n",
            " ['But then the quiet voices became a loud chorus, as thousands of citizens now spoke out together, from cities small and large, all across our country'] \n",
            "\n",
            "\n",
            "Number of documents: 4\n",
            "Similarity with  0 the Label is 0.0\n",
            "Similarity with  1 the Label is 0.0\n",
            "Similarity with  2 the Label is 0.0\n",
            "Similarity with  3 the Label is 0.0\n",
            "Similarity with  4 the Label is 0.0\n",
            "Similarity with  5 the Label is 0.40616533\n",
            "Similarity with  6 the Label is 0.0\n",
            "Similarity with  7 the Label is 0.0\n",
            "Similarity with  8 the Label is 0.0\n",
            "Similarity with  9 the Label is 0.0\n",
            "\n",
            "Label for this Topic is: Positive Sentiment\n"
          ],
          "name": "stdout"
        },
        {
          "output_type": "stream",
          "text": [
            "/usr/local/lib/python3.6/dist-packages/smart_open/smart_open_lib.py:253: UserWarning: This function is deprecated, use smart_open.open instead. See the migration notes for details: https://github.com/RaRe-Technologies/smart_open/blob/master/README.rst#migrating-to-the-new-open-function\n",
            "  'See the migration notes for details: %s' % _MIGRATION_NOTES_URL\n",
            "/usr/local/lib/python3.6/dist-packages/gensim/similarities/docsim.py:518: FutureWarning: arrays to stack must be passed as a \"sequence\" type such as list or tuple. Support for non-sequence iterables such as generators is deprecated as of NumPy 1.16 and will raise an error in the future.\n",
            "  result = numpy.hstack(shard_results)\n"
          ],
          "name": "stderr"
        }
      ]
    },
    {
      "cell_type": "markdown",
      "metadata": {
        "id": "xbNlDaIBgVNL",
        "colab_type": "text"
      },
      "source": [
        "###Calculating the Similarity Between Title and Body to detect Fake news using Topics Generated"
      ]
    },
    {
      "cell_type": "code",
      "metadata": {
        "id": "x01t0V9beykR",
        "colab_type": "code",
        "colab": {}
      },
      "source": [
        "def cosine_sim(statement):\n",
        "    statement=statement.split('@@')\n",
        "    text1,text2=statement[0],statement[1]\n",
        "    vectorizer = TfidfVectorizer(stop_words='english')\n",
        "    tfidf = vectorizer.fit_transform([text1, text2])\n",
        "    similarity_score=((tfidf * tfidf.T).A)[0,1]\n",
        "    return similarity_score"
      ],
      "execution_count": 0,
      "outputs": []
    },
    {
      "cell_type": "code",
      "metadata": {
        "id": "M8uiIvHafFsT",
        "colab_type": "code",
        "colab": {}
      },
      "source": [
        "dfconcat['title_body'] = dfconcat['title'] +'@@'+dfconcat['body']"
      ],
      "execution_count": 0,
      "outputs": []
    },
    {
      "cell_type": "code",
      "metadata": {
        "id": "wgUQpJPie1CQ",
        "colab_type": "code",
        "colab": {}
      },
      "source": [
        "dfconcat['Similarity']=dfconcat['title_body'].apply(lambda x: cosine_sim(x))"
      ],
      "execution_count": 0,
      "outputs": []
    },
    {
      "cell_type": "code",
      "metadata": {
        "id": "2NO1EB5eg3V8",
        "colab_type": "code",
        "colab": {
          "base_uri": "https://localhost:8080/",
          "height": 306
        },
        "outputId": "738f3791-8c7a-4454-c8ff-3a1eb74b5f8c"
      },
      "source": [
        "dfconcat.tail()"
      ],
      "execution_count": 108,
      "outputs": [
        {
          "output_type": "execute_result",
          "data": {
            "text/html": [
              "<div>\n",
              "<style scoped>\n",
              "    .dataframe tbody tr th:only-of-type {\n",
              "        vertical-align: middle;\n",
              "    }\n",
              "\n",
              "    .dataframe tbody tr th {\n",
              "        vertical-align: top;\n",
              "    }\n",
              "\n",
              "    .dataframe thead th {\n",
              "        text-align: right;\n",
              "    }\n",
              "</style>\n",
              "<table border=\"1\" class=\"dataframe\">\n",
              "  <thead>\n",
              "    <tr style=\"text-align: right;\">\n",
              "      <th></th>\n",
              "      <th>body</th>\n",
              "      <th>author</th>\n",
              "      <th>title</th>\n",
              "      <th>fakeness</th>\n",
              "      <th>title_body</th>\n",
              "      <th>Similarity</th>\n",
              "    </tr>\n",
              "  </thead>\n",
              "  <tbody>\n",
              "    <tr>\n",
              "      <th>26908</th>\n",
              "      <td>tom cotton medicare doubly dead sweet words go...</td>\n",
              "      <td>Paul Abrams, ContributorLast person on Earth n...</td>\n",
              "      <td>Tom Cotton Wants to Make Medicare Doubly Dead....</td>\n",
              "      <td>mostly-true</td>\n",
              "      <td>Tom Cotton Wants to Make Medicare Doubly Dead....</td>\n",
              "      <td>0.171044</td>\n",
              "    </tr>\n",
              "    <tr>\n",
              "      <th>26909</th>\n",
              "      <td>november democrats chance reconnect ethnic vot...</td>\n",
              "      <td>James Zogby, ContributorPresident, Arab Americ...</td>\n",
              "      <td>What Democrats Must Do to Win in November</td>\n",
              "      <td>half-true</td>\n",
              "      <td>What Democrats Must Do to Win in November@@nov...</td>\n",
              "      <td>0.363110</td>\n",
              "    </tr>\n",
              "    <tr>\n",
              "      <th>26910</th>\n",
              "      <td>apparently thats way play politics new jersey ...</td>\n",
              "      <td>Al Eisele, ContributorEditor-at-Large, The Hill</td>\n",
              "      <td>Why Chris Christie Should NOT Be President</td>\n",
              "      <td>half-true</td>\n",
              "      <td>Why Chris Christie Should NOT Be President@@ap...</td>\n",
              "      <td>0.000000</td>\n",
              "    </tr>\n",
              "    <tr>\n",
              "      <th>26911</th>\n",
              "      <td>baiting assault obama uglier wont change hard ...</td>\n",
              "      <td>Earl Ofari Hutchinson, ContributorAuthor and p...</td>\n",
              "      <td>GOP's Old Ploy: Tag President Obama as the Rac...</td>\n",
              "      <td>half-true</td>\n",
              "      <td>GOP's Old Ploy: Tag President Obama as the Rac...</td>\n",
              "      <td>0.146356</td>\n",
              "    </tr>\n",
              "    <tr>\n",
              "      <th>26912</th>\n",
              "      <td>im assuming aware issue president obama fact d...</td>\n",
              "      <td>Robin Amos Kahn, ContributorWriter, Speaker, L...</td>\n",
              "      <td>Dear President Obama</td>\n",
              "      <td>half-true</td>\n",
              "      <td>Dear President Obama@@im assuming aware issue ...</td>\n",
              "      <td>0.178358</td>\n",
              "    </tr>\n",
              "  </tbody>\n",
              "</table>\n",
              "</div>"
            ],
            "text/plain": [
              "                                                    body  ... Similarity\n",
              "26908  tom cotton medicare doubly dead sweet words go...  ...   0.171044\n",
              "26909  november democrats chance reconnect ethnic vot...  ...   0.363110\n",
              "26910  apparently thats way play politics new jersey ...  ...   0.000000\n",
              "26911  baiting assault obama uglier wont change hard ...  ...   0.146356\n",
              "26912  im assuming aware issue president obama fact d...  ...   0.178358\n",
              "\n",
              "[5 rows x 6 columns]"
            ]
          },
          "metadata": {
            "tags": []
          },
          "execution_count": 108
        }
      ]
    },
    {
      "cell_type": "code",
      "metadata": {
        "id": "PT9LTUGDxbEy",
        "colab_type": "code",
        "colab": {}
      },
      "source": [
        "X=dfconcat.drop('fakeness',axis=1)"
      ],
      "execution_count": 0,
      "outputs": []
    },
    {
      "cell_type": "code",
      "metadata": {
        "id": "WFaAFPZ4yemm",
        "colab_type": "code",
        "colab": {}
      },
      "source": [
        "X=dfconcat.drop('title_body',axis=1)"
      ],
      "execution_count": 0,
      "outputs": []
    },
    {
      "cell_type": "code",
      "metadata": {
        "id": "VldcFKeWxmC_",
        "colab_type": "code",
        "colab": {}
      },
      "source": [
        "y=dfconcat['fakeness']"
      ],
      "execution_count": 0,
      "outputs": []
    },
    {
      "cell_type": "code",
      "metadata": {
        "id": "co9R6HYq5OA-",
        "colab_type": "code",
        "colab": {}
      },
      "source": [
        "dfconcat.reset_index(inplace=True)"
      ],
      "execution_count": 0,
      "outputs": []
    },
    {
      "cell_type": "code",
      "metadata": {
        "id": "jfCOJNf50Gpj",
        "colab_type": "code",
        "colab": {}
      },
      "source": [
        "y = y.astype(np.str)"
      ],
      "execution_count": 0,
      "outputs": []
    },
    {
      "cell_type": "code",
      "metadata": {
        "id": "sw-CN8kCzs_X",
        "colab_type": "code",
        "colab": {
          "base_uri": "https://localhost:8080/",
          "height": 34
        },
        "outputId": "6475f097-9388-4913-b430-d2d19e8ca5c1"
      },
      "source": [
        "labelencoder = LabelEncoder()\n",
        "labels = labelencoder.fit_transform(y)\n",
        "labels"
      ],
      "execution_count": 114,
      "outputs": [
        {
          "output_type": "execute_result",
          "data": {
            "text/plain": [
              "array([0, 4, 5, ..., 4, 4, 4])"
            ]
          },
          "metadata": {
            "tags": []
          },
          "execution_count": 114
        }
      ]
    },
    {
      "cell_type": "code",
      "metadata": {
        "id": "aZY3jztOyl_c",
        "colab_type": "code",
        "colab": {}
      },
      "source": [
        "from nltk.corpus import stopwords\n",
        "from nltk.stem.porter import PorterStemmer\n",
        "ps = PorterStemmer()\n",
        "corpus = []\n",
        "for i in range(0, len(dfconcat)):\n",
        "    review = re.sub('[^a-zA-Z]', ' ', dfconcat['title'][i])\n",
        "    review = review.lower()\n",
        "    review = review.split()\n",
        "    \n",
        "    review = [ps.stem(word) for word in review if not word in stopwords.words('english')]\n",
        "    review = ' '.join(review)\n",
        "    corpus.append(review)#"
      ],
      "execution_count": 0,
      "outputs": []
    },
    {
      "cell_type": "code",
      "metadata": {
        "id": "AohQ97hLy6EO",
        "colab_type": "code",
        "colab": {}
      },
      "source": [
        "from sklearn.feature_extraction.text import CountVectorizer\n",
        "cv = CountVectorizer(max_features=5000,ngram_range=(1,3))\n",
        "X = cv.fit_transform(corpus).toarray()"
      ],
      "execution_count": 0,
      "outputs": []
    },
    {
      "cell_type": "code",
      "metadata": {
        "id": "TgsF-f5_y6hU",
        "colab_type": "code",
        "colab": {}
      },
      "source": [
        "from sklearn.model_selection import train_test_split\n",
        "X_train, X_test, y_train, y_test = train_test_split(X, y, test_size=0.33, random_state=0)"
      ],
      "execution_count": 0,
      "outputs": []
    },
    {
      "cell_type": "code",
      "metadata": {
        "id": "12lOxqmPzCCf",
        "colab_type": "code",
        "colab": {
          "base_uri": "https://localhost:8080/",
          "height": 68
        },
        "outputId": "5905e440-3969-42ec-f8c2-eaede44df4fd"
      },
      "source": [
        "y_train.head(2)"
      ],
      "execution_count": 118,
      "outputs": [
        {
          "output_type": "execute_result",
          "data": {
            "text/plain": [
              "7032     half-true\n",
              "13206    half-true\n",
              "Name: fakeness, dtype: object"
            ]
          },
          "metadata": {
            "tags": []
          },
          "execution_count": 118
        }
      ]
    },
    {
      "cell_type": "code",
      "metadata": {
        "id": "9rLHOUkwznFI",
        "colab_type": "code",
        "colab": {
          "base_uri": "https://localhost:8080/",
          "height": 136
        },
        "outputId": "d1ab0cb7-2103-419d-a1a2-ab0ae02318a9"
      },
      "source": [
        "X_train"
      ],
      "execution_count": 119,
      "outputs": [
        {
          "output_type": "execute_result",
          "data": {
            "text/plain": [
              "array([[0, 0, 0, ..., 0, 0, 0],\n",
              "       [0, 0, 0, ..., 0, 0, 0],\n",
              "       [0, 0, 0, ..., 0, 0, 0],\n",
              "       ...,\n",
              "       [0, 0, 0, ..., 0, 0, 0],\n",
              "       [0, 0, 0, ..., 0, 0, 0],\n",
              "       [0, 0, 0, ..., 0, 0, 0]])"
            ]
          },
          "metadata": {
            "tags": []
          },
          "execution_count": 119
        }
      ]
    },
    {
      "cell_type": "code",
      "metadata": {
        "id": "8LFcbTwI0otN",
        "colab_type": "code",
        "colab": {
          "base_uri": "https://localhost:8080/",
          "height": 221
        },
        "outputId": "90988cbe-4579-4694-832c-b7756ce34136"
      },
      "source": [
        "y_train"
      ],
      "execution_count": 120,
      "outputs": [
        {
          "output_type": "execute_result",
          "data": {
            "text/plain": [
              "7032       half-true\n",
              "13206      half-true\n",
              "8516       half-true\n",
              "10574    mostly-true\n",
              "26449      half-true\n",
              "            ...     \n",
              "11146          False\n",
              "23685      half-true\n",
              "20387      half-true\n",
              "21347      half-true\n",
              "2733     mostly-true\n",
              "Name: fakeness, Length: 32908, dtype: object"
            ]
          },
          "metadata": {
            "tags": []
          },
          "execution_count": 120
        }
      ]
    },
    {
      "cell_type": "markdown",
      "metadata": {
        "colab_type": "text",
        "id": "Pz-Chi0MznaU"
      },
      "source": [
        "###Random Forest"
      ]
    },
    {
      "cell_type": "code",
      "metadata": {
        "colab_type": "code",
        "id": "eofjgxBJznaV",
        "colab": {}
      },
      "source": [
        "from sklearn.ensemble import RandomForestClassifier"
      ],
      "execution_count": 0,
      "outputs": []
    },
    {
      "cell_type": "code",
      "metadata": {
        "colab_type": "code",
        "outputId": "10684186-69ac-4fbe-8f06-13d69d47cf15",
        "id": "_tlhrITvznaY",
        "colab": {
          "base_uri": "https://localhost:8080/",
          "height": 153
        }
      },
      "source": [
        "classifier = RandomForestClassifier(n_estimators = 10, criterion = 'entropy',  random_state = 42)\n",
        "classifier.fit(X_train, y_train)"
      ],
      "execution_count": 122,
      "outputs": [
        {
          "output_type": "execute_result",
          "data": {
            "text/plain": [
              "RandomForestClassifier(bootstrap=True, ccp_alpha=0.0, class_weight=None,\n",
              "                       criterion='entropy', max_depth=None, max_features='auto',\n",
              "                       max_leaf_nodes=None, max_samples=None,\n",
              "                       min_impurity_decrease=0.0, min_impurity_split=None,\n",
              "                       min_samples_leaf=1, min_samples_split=2,\n",
              "                       min_weight_fraction_leaf=0.0, n_estimators=10,\n",
              "                       n_jobs=None, oob_score=False, random_state=42, verbose=0,\n",
              "                       warm_start=False)"
            ]
          },
          "metadata": {
            "tags": []
          },
          "execution_count": 122
        }
      ]
    },
    {
      "cell_type": "code",
      "metadata": {
        "colab_type": "code",
        "outputId": "e1f2c7cc-2258-4a5a-b622-2d5a2dc157cc",
        "id": "45wad_0Tznaa",
        "colab": {
          "base_uri": "https://localhost:8080/",
          "height": 345
        }
      },
      "source": [
        "y_pred = classifier.predict(X_test)\n",
        "score = metrics.accuracy_score(y_test, y_pred)\n",
        "print(\"accuracy:   %0.3f\" % score)\n",
        "cm = metrics.confusion_matrix(y_test, y_pred)\n",
        "plot_confusion_matrix(cm, classes=['TRUE', 'pants-fire', 'barely-true', 'mostly-true', 'half-true', 'FALSE'])\n"
      ],
      "execution_count": 123,
      "outputs": [
        {
          "output_type": "stream",
          "text": [
            "accuracy:   0.660\n",
            "Confusion matrix, without normalization\n"
          ],
          "name": "stdout"
        },
        {
          "output_type": "display_data",
          "data": {
            "image/png": "[encoded data removed]",
            "text/plain": [
              "<Figure size 432x288 with 2 Axes>"
            ]
          },
          "metadata": {
            "tags": [],
            "needs_background": "light"
          }
        }
      ]
    },
    {
      "cell_type": "markdown",
      "metadata": {
        "colab_type": "text",
        "id": "SqOkEJhfznac"
      },
      "source": [
        "**From the above results we can see that the Accuracy improved from 24% to 66% after adding the LDA Topic Similarity.**"
      ]
    },
    {
      "cell_type": "markdown",
      "metadata": {
        "id": "NLJbu5Be1G9B",
        "colab_type": "text"
      },
      "source": [
        "#BERT"
      ]
    },
    {
      "cell_type": "code",
      "metadata": {
        "id": "blufOoNPqNe8",
        "colab_type": "code",
        "colab": {
          "base_uri": "https://localhost:8080/",
          "height": 411
        },
        "outputId": "85f974b8-3d8f-49d9-b49b-591015a88001"
      },
      "source": [
        "!pip install bert-for-tf2\n",
        "\n",
        "import tensorflow as tf\n",
        "import tensorflow_hub as hub\n",
        "from tensorflow.keras import layers\n",
        "import bert"
      ],
      "execution_count": 129,
      "outputs": [
        {
          "output_type": "stream",
          "text": [
            "Collecting bert-for-tf2\n",
            "\u001b[?25l  Downloading https://files.pythonhosted.org/packages/35/5c/6439134ecd17b33fe0396fb0b7d6ce3c5a120c42a4516ba0e9a2d6e43b25/bert-for-tf2-0.14.4.tar.gz (40kB)\n",
            "\r\u001b[K     |████████                        | 10kB 28.2MB/s eta 0:00:01\r\u001b[K     |████████████████▏               | 20kB 5.6MB/s eta 0:00:01\r\u001b[K     |████████████████████████▎       | 30kB 7.0MB/s eta 0:00:01\r\u001b[K     |████████████████████████████████| 40kB 3.8MB/s \n",
            "\u001b[?25hCollecting py-params>=0.9.6\n",
            "  Downloading https://files.pythonhosted.org/packages/a4/bf/c1c70d5315a8677310ea10a41cfc41c5970d9b37c31f9c90d4ab98021fd1/py-params-0.9.7.tar.gz\n",
            "Collecting params-flow>=0.8.0\n",
            "  Downloading https://files.pythonhosted.org/packages/a9/95/ff49f5ebd501f142a6f0aaf42bcfd1c192dc54909d1d9eb84ab031d46056/params-flow-0.8.2.tar.gz\n",
            "Requirement already satisfied: numpy in /usr/local/lib/python3.6/dist-packages (from params-flow>=0.8.0->bert-for-tf2) (1.18.4)\n",
            "Requirement already satisfied: tqdm in /usr/local/lib/python3.6/dist-packages (from params-flow>=0.8.0->bert-for-tf2) (4.41.1)\n",
            "Building wheels for collected packages: bert-for-tf2, py-params, params-flow\n",
            "  Building wheel for bert-for-tf2 (setup.py) ... \u001b[?25l\u001b[?25hdone\n",
            "  Created wheel for bert-for-tf2: filename=bert_for_tf2-0.14.4-cp36-none-any.whl size=30114 sha256=2f80661eeda1498b326d2ae82e53c069985dabafe349ebc0d444adc842dfbfb9\n",
            "  Stored in directory: /root/.cache/pip/wheels/cf/3f/4d/79d7735015a5f523648df90d871ce8e89a7df8185f7703eeab\n",
            "  Building wheel for py-params (setup.py) ... \u001b[?25l\u001b[?25hdone\n",
            "  Created wheel for py-params: filename=py_params-0.9.7-cp36-none-any.whl size=7302 sha256=f40945171303e1692de5502490d3a40764c7d100b27bdab108fc3b56acaf93ca\n",
            "  Stored in directory: /root/.cache/pip/wheels/67/f5/19/b461849a50aefdf4bab47c4756596e82ee2118b8278e5a1980\n",
            "  Building wheel for params-flow (setup.py) ... \u001b[?25l\u001b[?25hdone\n",
            "  Created wheel for params-flow: filename=params_flow-0.8.2-cp36-none-any.whl size=19473 sha256=eb73954898571a6cf0b3746bf86e7e6d8cb67990f4123956071a6308304ab6f4\n",
            "  Stored in directory: /root/.cache/pip/wheels/08/c8/7f/81c86b9ff2b86e2c477e3914175be03e679e596067dc630c06\n",
            "Successfully built bert-for-tf2 py-params params-flow\n",
            "Installing collected packages: py-params, params-flow, bert-for-tf2\n",
            "Successfully installed bert-for-tf2-0.14.4 params-flow-0.8.2 py-params-0.9.7\n"
          ],
          "name": "stdout"
        }
      ]
    },
    {
      "cell_type": "code",
      "metadata": {
        "id": "TtrMt6DuqObx",
        "colab_type": "code",
        "colab": {}
      },
      "source": [
        "BertTokenizer = bert.bert_tokenization.FullTokenizer\n",
        "bert_layer = hub.KerasLayer(\"https://tfhub.dev/tensorflow/bert_en_uncased_L-12_H-768_A-12/1\",trainable=False)"
      ],
      "execution_count": 0,
      "outputs": []
    },
    {
      "cell_type": "code",
      "metadata": {
        "id": "4awILyLWqQ_R",
        "colab_type": "code",
        "colab": {}
      },
      "source": [
        "vocab_file = bert_layer.resolved_object.vocab_file.asset_path.numpy()\n",
        "do_lower_case = bert_layer.resolved_object.do_lower_case.numpy()\n",
        "tokenizer = BertTokenizer(vocab_file, do_lower_case)"
      ],
      "execution_count": 0,
      "outputs": []
    },
    {
      "cell_type": "code",
      "metadata": {
        "id": "Ipy9CEmAqUWj",
        "colab_type": "code",
        "colab": {}
      },
      "source": [
        "import numpy as np\n",
        "def bert_encode(texts, tokenizer, max_len=512):\n",
        "    all_tokens = []\n",
        "    all_masks = []\n",
        "    all_segments = []\n",
        "    \n",
        "    for text in texts:\n",
        "        text = tokenizer.tokenize(text)\n",
        "            \n",
        "        text = text[:max_len-2]\n",
        "        input_sequence = [\"[CLS]\"] + text + [\"[SEP]\"]\n",
        "        pad_len = max_len - len(input_sequence)\n",
        "        \n",
        "        tokens = tokenizer.convert_tokens_to_ids(input_sequence)\n",
        "        tokens += [0] * pad_len\n",
        "        pad_masks = [1] * len(input_sequence) + [0] * pad_len\n",
        "        segment_ids = [0] * max_len\n",
        "        \n",
        "        all_tokens.append(tokens)\n",
        "        all_masks.append(pad_masks)\n",
        "        all_segments.append(segment_ids)\n",
        "    \n",
        "    return np.array(all_tokens), np.array(all_masks), np.array(all_segments)"
      ],
      "execution_count": 0,
      "outputs": []
    },
    {
      "cell_type": "code",
      "metadata": {
        "id": "RwNblIMfsI23",
        "colab_type": "code",
        "colab": {
          "base_uri": "https://localhost:8080/",
          "height": 34
        },
        "outputId": "e8fee69c-9ead-4182-c8ff-bc0334ca20b9"
      },
      "source": [
        "labelencoder = LabelEncoder()\n",
        "labels = labelencoder.fit_transform(y)\n",
        "labels"
      ],
      "execution_count": 139,
      "outputs": [
        {
          "output_type": "execute_result",
          "data": {
            "text/plain": [
              "array([0, 4, 5, ..., 4, 4, 4])"
            ]
          },
          "metadata": {
            "tags": []
          },
          "execution_count": 139
        }
      ]
    },
    {
      "cell_type": "code",
      "metadata": {
        "id": "vRNt4xuFqXCb",
        "colab_type": "code",
        "colab": {}
      },
      "source": [
        "MAX_LEN = 64\n",
        "train_input = bert_encode(dfconcat.title_body.values, tokenizer, max_len=MAX_LEN)\n",
        "train_labels = labels"
      ],
      "execution_count": 0,
      "outputs": []
    },
    {
      "cell_type": "code",
      "metadata": {
        "id": "gTEfggyjqaDt",
        "colab_type": "code",
        "colab": {
          "base_uri": "https://localhost:8080/",
          "height": 479
        },
        "outputId": "03a5d668-151c-469b-923e-be3eb5f07993"
      },
      "source": [
        "from tensorflow.keras.layers import  Input\n",
        "input_word_ids = Input(shape=(MAX_LEN,), dtype=tf.int32, name=\"input_word_ids\")\n",
        "input_mask = Input(shape=(MAX_LEN,), dtype=tf.int32, name=\"input_mask\")\n",
        "segment_ids = Input(shape=(MAX_LEN,), dtype=tf.int32, name=\"segment_ids\")\n",
        "\n",
        "#  output  \n",
        "from tensorflow.keras.layers import Dense\n",
        "pooled_output, sequence_output = bert_layer([input_word_ids, input_mask, segment_ids])  \n",
        "clf_output = sequence_output[:, 0, :]\n",
        "out = Dense(1, activation='sigmoid')(clf_output)   \n",
        "\n",
        "# intilize model\n",
        "from tensorflow.keras.models import Model\n",
        "from tensorflow.keras.optimizers import Adam\n",
        "model = Model(inputs=[input_word_ids, input_mask, segment_ids], outputs=out)\n",
        "model.compile(Adam(lr=2e-6), loss='categorical_crossentropy', metrics=['accuracy'])\n",
        "model.summary()\n",
        "\n",
        "# train\n",
        "train_history = model.fit(\n",
        "    train_input, train_labels,\n",
        "    validation_split=0.2,\n",
        "    epochs=2,\n",
        "    batch_size=64\n",
        ")"
      ],
      "execution_count": 146,
      "outputs": [
        {
          "output_type": "stream",
          "text": [
            "Model: \"model_3\"\n",
            "__________________________________________________________________________________________________\n",
            "Layer (type)                    Output Shape         Param #     Connected to                     \n",
            "==================================================================================================\n",
            "input_word_ids (InputLayer)     [(None, 64)]         0                                            \n",
            "__________________________________________________________________________________________________\n",
            "input_mask (InputLayer)         [(None, 64)]         0                                            \n",
            "__________________________________________________________________________________________________\n",
            "segment_ids (InputLayer)        [(None, 64)]         0                                            \n",
            "__________________________________________________________________________________________________\n",
            "keras_layer (KerasLayer)        [(None, 768), (None, 109482241   input_word_ids[0][0]             \n",
            "                                                                 input_mask[0][0]                 \n",
            "                                                                 segment_ids[0][0]                \n",
            "__________________________________________________________________________________________________\n",
            "tf_op_layer_strided_slice_3 (Te [(None, 768)]        0           keras_layer[3][1]                \n",
            "__________________________________________________________________________________________________\n",
            "dense_5 (Dense)                 (None, 1)            769         tf_op_layer_strided_slice_3[0][0]\n",
            "==================================================================================================\n",
            "Total params: 109,483,010\n",
            "Trainable params: 769\n",
            "Non-trainable params: 109,482,241\n",
            "__________________________________________________________________________________________________\n",
            "Epoch 1/2\n",
            "614/614 [==============================] - 255s 415ms/step - loss: 3.5546e-07 - accuracy: 0.2312 - val_loss: 4.7835e-07 - val_accuracy: 0.0000e+00\n",
            "Epoch 2/2\n",
            "614/614 [==============================] - 255s 415ms/step - loss: 3.5546e-07 - accuracy: 0.2312 - val_loss: 4.7835e-07 - val_accuracy: 0.0000e+00\n"
          ],
          "name": "stdout"
        }
      ]
    },
    {
      "cell_type": "markdown",
      "metadata": {
        "id": "s-u8ibWgzSBt",
        "colab_type": "text"
      },
      "source": [
        "**Conclusion**\n",
        "\n",
        "\n",
        "1.   For predicting the Fake News, I did Inital EDA on the Liar Liar \n",
        "dataset, Kaggle fake news dataset and Kaggle News Category   Dataset in initial sprints. \n",
        "2.   Different classification algorithms are applied to Liar Liar dataset, however due to less text in the Corpus the Accuracy is pretty low, around 22% - 24%.\n",
        "\n",
        "3. Then Neural Network LSTM model is trained on Liar Liar Dataset, here the Train Accuracy was around 94% - 98%, however Validation Accuracy remained the same as classification algorithms.\n",
        "\n",
        "4. Next, BERT model is applied to the model, however considering the corpus size, the training needed more time, so the model is trained only on 2 epochs.\n",
        "\n",
        "5. Topic Naming using LDA, firstly I labelled the topics generated by the LDA and saved it in a csv files. Using this CSV file, Similarity score between the topics and the dataset is generated. And using the Topic Naming LDA, the accuracy increased from 24% to 66%, which is a great sign of improved.\n",
        "\n",
        "![Accuracy before applying LDA](https://drive.google.com/uc?id=1PqF6-4nWEDqpwGUlny41XXFjEJ11nFzu) \n",
        "\n",
        "![Accuracy after applying LDA](https://drive.google.com/uc?id=1fTmXAiOzLpFX8MbIuAb1MlpYFCEWkaC_)\n",
        "\n"
      ]
    },
    {
      "cell_type": "code",
      "metadata": {
        "id": "evrGfdLUzUVL",
        "colab_type": "code",
        "colab": {}
      },
      "source": [
        ""
      ],
      "execution_count": 0,
      "outputs": []
    }
  ]
}