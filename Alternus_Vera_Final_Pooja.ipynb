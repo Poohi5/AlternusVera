{
  "nbformat": 4,
  "nbformat_minor": 0,
  "metadata": {
    "colab": {
      "name": "Alternus_Vera_Final_Pooja.ipynb",
      "provenance": [],
      "machine_shape": "hm",
      "include_colab_link": true
    },
    "kernelspec": {
      "name": "python3",
      "display_name": "Python 3"
    },
    "accelerator": "GPU"
  },
  "cells": [
    {
      "cell_type": "markdown",
      "metadata": {
        "id": "view-in-github",
        "colab_type": "text"
      },
      "source": [
        "<a href=\"https://colab.research.google.com/github/Poohi5/AlternusVera/blob/master/Alternus_Vera_Final_Pooja.ipynb\" target=\"_parent\"><img src=\"https://colab.research.google.com/assets/colab-badge.svg\" alt=\"Open In Colab\"/></a>"
      ]
    },
    {
      "cell_type": "code",
      "metadata": {
        "id": "okjLPpfI6uyU",
        "colab_type": "code",
        "outputId": "f6be9d1a-a026-44bb-8558-acba2163f77f",
        "colab": {
          "base_uri": "https://localhost:8080/",
          "height": 124
        }
      },
      "source": [
        "from google.colab import drive\n",
        "drive.mount('/content/gdrive', force_remount=True)\n",
        "root_dir = \"/content/gdrive/My Drive/MLSpring2020/\"\n",
        "base_dir = root_dir + 'the_expendables_AirQuality_Traffic'"
      ],
      "execution_count": 0,
      "outputs": [
        {
          "output_type": "stream",
          "text": [
            "Go to this URL in a browser: https://accounts.google.com/o/oauth2/auth?client_id=947318989803-6bn6qk8qdgf4n4g3pfee6491hc0brc4i.apps.googleusercontent.com&redirect_uri=urn%3aietf%3awg%3aoauth%3a2.0%3aoob&response_type=code&scope=email%20https%3a%2f%2fwww.googleapis.com%2fauth%2fdocs.test%20https%3a%2f%2fwww.googleapis.com%2fauth%2fdrive%20https%3a%2f%2fwww.googleapis.com%2fauth%2fdrive.photos.readonly%20https%3a%2f%2fwww.googleapis.com%2fauth%2fpeopleapi.readonly\n",
            "\n",
            "Enter your authorization code:\n",
            "··········\n",
            "Mounted at /content/gdrive\n"
          ],
          "name": "stdout"
        }
      ]
    },
    {
      "cell_type": "code",
      "metadata": {
        "id": "tiz7CtKp6vui",
        "colab_type": "code",
        "colab": {}
      },
      "source": [
        "dataPathliar = base_dir + '/Alternus_vera/liar_1.csv'"
      ],
      "execution_count": 0,
      "outputs": []
    },
    {
      "cell_type": "code",
      "metadata": {
        "id": "jNcbvTgp7C0a",
        "colab_type": "code",
        "colab": {}
      },
      "source": [
        "import pandas as pd\n",
        "import numpy as np"
      ],
      "execution_count": 0,
      "outputs": []
    },
    {
      "cell_type": "code",
      "metadata": {
        "id": "S8JrnKvC7EGr",
        "colab_type": "code",
        "outputId": "a6affa32-954e-4c85-e3be-8f9c3a852e01",
        "colab": {
          "base_uri": "https://localhost:8080/",
          "height": 72
        }
      },
      "source": [
        "import matplotlib.pyplot as plt\n",
        "import seaborn as sns\n",
        "%matplotlib inline"
      ],
      "execution_count": 0,
      "outputs": [
        {
          "output_type": "stream",
          "text": [
            "/usr/local/lib/python3.6/dist-packages/statsmodels/tools/_testing.py:19: FutureWarning: pandas.util.testing is deprecated. Use the functions in the public API at pandas.testing instead.\n",
            "  import pandas.util.testing as tm\n"
          ],
          "name": "stderr"
        }
      ]
    },
    {
      "cell_type": "code",
      "metadata": {
        "id": "8D7M99Nc7FXy",
        "colab_type": "code",
        "colab": {}
      },
      "source": [
        "dfliar = pd.read_csv(dataPathliar)\n"
      ],
      "execution_count": 0,
      "outputs": []
    },
    {
      "cell_type": "code",
      "metadata": {
        "id": "4LPKGDVp3Hdk",
        "colab_type": "code",
        "outputId": "7a43167e-96f3-43bc-cfd2-14fc15374015",
        "colab": {
          "base_uri": "https://localhost:8080/",
          "height": 206
        }
      },
      "source": [
        "dfliar.head()"
      ],
      "execution_count": 0,
      "outputs": [
        {
          "output_type": "execute_result",
          "data": {
            "text/html": [
              "<div>\n",
              "<style scoped>\n",
              "    .dataframe tbody tr th:only-of-type {\n",
              "        vertical-align: middle;\n",
              "    }\n",
              "\n",
              "    .dataframe tbody tr th {\n",
              "        vertical-align: top;\n",
              "    }\n",
              "\n",
              "    .dataframe thead th {\n",
              "        text-align: right;\n",
              "    }\n",
              "</style>\n",
              "<table border=\"1\" class=\"dataframe\">\n",
              "  <thead>\n",
              "    <tr style=\"text-align: right;\">\n",
              "      <th></th>\n",
              "      <th>Unnamed: 0</th>\n",
              "      <th>body</th>\n",
              "      <th>author</th>\n",
              "      <th>title</th>\n",
              "      <th>fakeness</th>\n",
              "    </tr>\n",
              "  </thead>\n",
              "  <tbody>\n",
              "    <tr>\n",
              "      <th>0</th>\n",
              "      <td>0</td>\n",
              "      <td>says annies list political group supports thir...</td>\n",
              "      <td>dwayne-bohac</td>\n",
              "      <td>abortion</td>\n",
              "      <td>FALSE</td>\n",
              "    </tr>\n",
              "    <tr>\n",
              "      <th>1</th>\n",
              "      <td>1</td>\n",
              "      <td>decline coal start started natural gas took st...</td>\n",
              "      <td>scott-surovell</td>\n",
              "      <td>energy,history,job-accomplishments</td>\n",
              "      <td>half-true</td>\n",
              "    </tr>\n",
              "    <tr>\n",
              "      <th>2</th>\n",
              "      <td>2</td>\n",
              "      <td>hillary clinton agrees john mccain voting geor...</td>\n",
              "      <td>barack-obama</td>\n",
              "      <td>foreign-policy</td>\n",
              "      <td>mostly-true</td>\n",
              "    </tr>\n",
              "    <tr>\n",
              "      <th>3</th>\n",
              "      <td>3</td>\n",
              "      <td>health care reform legislation likely mandate ...</td>\n",
              "      <td>blog-posting</td>\n",
              "      <td>health-care</td>\n",
              "      <td>FALSE</td>\n",
              "    </tr>\n",
              "    <tr>\n",
              "      <th>4</th>\n",
              "      <td>4</td>\n",
              "      <td>economic turnaround started end term</td>\n",
              "      <td>charlie-crist</td>\n",
              "      <td>economy,jobs</td>\n",
              "      <td>half-true</td>\n",
              "    </tr>\n",
              "  </tbody>\n",
              "</table>\n",
              "</div>"
            ],
            "text/plain": [
              "   Unnamed: 0  ...     fakeness\n",
              "0           0  ...        FALSE\n",
              "1           1  ...    half-true\n",
              "2           2  ...  mostly-true\n",
              "3           3  ...        FALSE\n",
              "4           4  ...    half-true\n",
              "\n",
              "[5 rows x 5 columns]"
            ]
          },
          "metadata": {
            "tags": []
          },
          "execution_count": 6
        }
      ]
    },
    {
      "cell_type": "code",
      "metadata": {
        "id": "ZEL-OoYc3KNd",
        "colab_type": "code",
        "colab": {}
      },
      "source": [
        "dataPathkaggle = base_dir + '/Alternus_vera/kaggle_1.csv'"
      ],
      "execution_count": 0,
      "outputs": []
    },
    {
      "cell_type": "code",
      "metadata": {
        "id": "7FvgC7m3xD9v",
        "colab_type": "code",
        "colab": {}
      },
      "source": [
        "\n",
        "dfkaggle = pd.read_csv(dataPathkaggle)\n"
      ],
      "execution_count": 0,
      "outputs": []
    },
    {
      "cell_type": "code",
      "metadata": {
        "id": "BH4CfbkMw3Kz",
        "colab_type": "code",
        "outputId": "1954ae26-5cbf-497e-8b91-bd3bf3b71860",
        "colab": {
          "base_uri": "https://localhost:8080/",
          "height": 164
        }
      },
      "source": [
        "dfkaggle.head(2)"
      ],
      "execution_count": 0,
      "outputs": [
        {
          "output_type": "execute_result",
          "data": {
            "text/html": [
              "<div>\n",
              "<style scoped>\n",
              "    .dataframe tbody tr th:only-of-type {\n",
              "        vertical-align: middle;\n",
              "    }\n",
              "\n",
              "    .dataframe tbody tr th {\n",
              "        vertical-align: top;\n",
              "    }\n",
              "\n",
              "    .dataframe thead th {\n",
              "        text-align: right;\n",
              "    }\n",
              "</style>\n",
              "<table border=\"1\" class=\"dataframe\">\n",
              "  <thead>\n",
              "    <tr style=\"text-align: right;\">\n",
              "      <th></th>\n",
              "      <th>Unnamed: 0</th>\n",
              "      <th>body</th>\n",
              "      <th>author</th>\n",
              "      <th>title</th>\n",
              "      <th>fakeness</th>\n",
              "    </tr>\n",
              "  </thead>\n",
              "  <tbody>\n",
              "    <tr>\n",
              "      <th>0</th>\n",
              "      <td>0</td>\n",
              "      <td>Print They should pay all the back all the mon...</td>\n",
              "      <td>Barracuda Brigade</td>\n",
              "      <td>muslims busted stole millions govt benefits</td>\n",
              "      <td>False</td>\n",
              "    </tr>\n",
              "    <tr>\n",
              "      <th>1</th>\n",
              "      <td>1</td>\n",
              "      <td>Why Did Attorney General Loretta Lynch Plead T...</td>\n",
              "      <td>reasoning with facts</td>\n",
              "      <td>attorney general loretta lynch plead fifth</td>\n",
              "      <td>False</td>\n",
              "    </tr>\n",
              "  </tbody>\n",
              "</table>\n",
              "</div>"
            ],
            "text/plain": [
              "   Unnamed: 0  ... fakeness\n",
              "0           0  ...    False\n",
              "1           1  ...    False\n",
              "\n",
              "[2 rows x 5 columns]"
            ]
          },
          "metadata": {
            "tags": []
          },
          "execution_count": 9
        }
      ]
    },
    {
      "cell_type": "code",
      "metadata": {
        "id": "u_QL_FY93Utb",
        "colab_type": "code",
        "colab": {}
      },
      "source": [
        "dataPathnewscat = base_dir + '/Alternus_vera/newcat_1.csv'"
      ],
      "execution_count": 0,
      "outputs": []
    },
    {
      "cell_type": "code",
      "metadata": {
        "id": "ptH-12Fr3Unj",
        "colab_type": "code",
        "colab": {}
      },
      "source": [
        "dfnewcat = pd.read_csv(dataPathnewscat)"
      ],
      "execution_count": 0,
      "outputs": []
    },
    {
      "cell_type": "code",
      "metadata": {
        "id": "LVxYZcG03UhP",
        "colab_type": "code",
        "outputId": "02bf9b1a-e240-4720-e8ba-12ab3ce0c2c6",
        "colab": {
          "base_uri": "https://localhost:8080/",
          "height": 310
        }
      },
      "source": [
        "dfnewcat.head()"
      ],
      "execution_count": 0,
      "outputs": [
        {
          "output_type": "execute_result",
          "data": {
            "text/html": [
              "<div>\n",
              "<style scoped>\n",
              "    .dataframe tbody tr th:only-of-type {\n",
              "        vertical-align: middle;\n",
              "    }\n",
              "\n",
              "    .dataframe tbody tr th {\n",
              "        vertical-align: top;\n",
              "    }\n",
              "\n",
              "    .dataframe thead th {\n",
              "        text-align: right;\n",
              "    }\n",
              "</style>\n",
              "<table border=\"1\" class=\"dataframe\">\n",
              "  <thead>\n",
              "    <tr style=\"text-align: right;\">\n",
              "      <th></th>\n",
              "      <th>Unnamed: 0</th>\n",
              "      <th>body</th>\n",
              "      <th>author</th>\n",
              "      <th>title</th>\n",
              "      <th>fakeness</th>\n",
              "    </tr>\n",
              "  </thead>\n",
              "  <tbody>\n",
              "    <tr>\n",
              "      <th>0</th>\n",
              "      <td>13</td>\n",
              "      <td>month health human services official revealed ...</td>\n",
              "      <td>Elise Foley and Roque Planas</td>\n",
              "      <td>Trump's Crackdown On Immigrant Parents Puts Mo...</td>\n",
              "      <td>half-true</td>\n",
              "    </tr>\n",
              "    <tr>\n",
              "      <th>1</th>\n",
              "      <td>14</td>\n",
              "      <td>wiretaps feature conversations alexander torsh...</td>\n",
              "      <td>Michael Isikoff, Yahoo News</td>\n",
              "      <td>'Trump's Son Should Be Concerned': FBI Obtaine...</td>\n",
              "      <td>half-true</td>\n",
              "    </tr>\n",
              "    <tr>\n",
              "      <th>2</th>\n",
              "      <td>15</td>\n",
              "      <td>dont count robert mueller nail nsa whistleblow...</td>\n",
              "      <td>Mary Papenfuss</td>\n",
              "      <td>Edward Snowden: There's No One Trump Loves Mor...</td>\n",
              "      <td>half-true</td>\n",
              "    </tr>\n",
              "    <tr>\n",
              "      <th>3</th>\n",
              "      <td>16</td>\n",
              "      <td>peeping minute</td>\n",
              "      <td>Mary Papenfuss</td>\n",
              "      <td>Booyah: Obama Photographer Hilariously Trolls ...</td>\n",
              "      <td>half-true</td>\n",
              "    </tr>\n",
              "    <tr>\n",
              "      <th>4</th>\n",
              "      <td>17</td>\n",
              "      <td>irish women longer travel united kingdom end p...</td>\n",
              "      <td>Laura Bassett</td>\n",
              "      <td>Ireland Votes To Repeal Abortion Amendment In ...</td>\n",
              "      <td>half-true</td>\n",
              "    </tr>\n",
              "  </tbody>\n",
              "</table>\n",
              "</div>"
            ],
            "text/plain": [
              "   Unnamed: 0  ...   fakeness\n",
              "0          13  ...  half-true\n",
              "1          14  ...  half-true\n",
              "2          15  ...  half-true\n",
              "3          16  ...  half-true\n",
              "4          17  ...  half-true\n",
              "\n",
              "[5 rows x 5 columns]"
            ]
          },
          "metadata": {
            "tags": []
          },
          "execution_count": 12
        }
      ]
    },
    {
      "cell_type": "code",
      "metadata": {
        "id": "algnND9y3UQT",
        "colab_type": "code",
        "colab": {}
      },
      "source": [
        "df = pd.concat([dfliar, dfkaggle, dfnewcat])"
      ],
      "execution_count": 0,
      "outputs": []
    },
    {
      "cell_type": "code",
      "metadata": {
        "id": "CWu_uDO34JmG",
        "colab_type": "code",
        "outputId": "7cf4c1f7-fdf4-487f-d09f-e7d79952447a",
        "colab": {
          "base_uri": "https://localhost:8080/",
          "height": 206
        }
      },
      "source": [
        "df.head()"
      ],
      "execution_count": 0,
      "outputs": [
        {
          "output_type": "execute_result",
          "data": {
            "text/html": [
              "<div>\n",
              "<style scoped>\n",
              "    .dataframe tbody tr th:only-of-type {\n",
              "        vertical-align: middle;\n",
              "    }\n",
              "\n",
              "    .dataframe tbody tr th {\n",
              "        vertical-align: top;\n",
              "    }\n",
              "\n",
              "    .dataframe thead th {\n",
              "        text-align: right;\n",
              "    }\n",
              "</style>\n",
              "<table border=\"1\" class=\"dataframe\">\n",
              "  <thead>\n",
              "    <tr style=\"text-align: right;\">\n",
              "      <th></th>\n",
              "      <th>Unnamed: 0</th>\n",
              "      <th>body</th>\n",
              "      <th>author</th>\n",
              "      <th>title</th>\n",
              "      <th>fakeness</th>\n",
              "    </tr>\n",
              "  </thead>\n",
              "  <tbody>\n",
              "    <tr>\n",
              "      <th>0</th>\n",
              "      <td>0</td>\n",
              "      <td>says annies list political group supports thir...</td>\n",
              "      <td>dwayne-bohac</td>\n",
              "      <td>abortion</td>\n",
              "      <td>FALSE</td>\n",
              "    </tr>\n",
              "    <tr>\n",
              "      <th>1</th>\n",
              "      <td>1</td>\n",
              "      <td>decline coal start started natural gas took st...</td>\n",
              "      <td>scott-surovell</td>\n",
              "      <td>energy,history,job-accomplishments</td>\n",
              "      <td>half-true</td>\n",
              "    </tr>\n",
              "    <tr>\n",
              "      <th>2</th>\n",
              "      <td>2</td>\n",
              "      <td>hillary clinton agrees john mccain voting geor...</td>\n",
              "      <td>barack-obama</td>\n",
              "      <td>foreign-policy</td>\n",
              "      <td>mostly-true</td>\n",
              "    </tr>\n",
              "    <tr>\n",
              "      <th>3</th>\n",
              "      <td>3</td>\n",
              "      <td>health care reform legislation likely mandate ...</td>\n",
              "      <td>blog-posting</td>\n",
              "      <td>health-care</td>\n",
              "      <td>FALSE</td>\n",
              "    </tr>\n",
              "    <tr>\n",
              "      <th>4</th>\n",
              "      <td>4</td>\n",
              "      <td>economic turnaround started end term</td>\n",
              "      <td>charlie-crist</td>\n",
              "      <td>economy,jobs</td>\n",
              "      <td>half-true</td>\n",
              "    </tr>\n",
              "  </tbody>\n",
              "</table>\n",
              "</div>"
            ],
            "text/plain": [
              "   Unnamed: 0  ...     fakeness\n",
              "0           0  ...        FALSE\n",
              "1           1  ...    half-true\n",
              "2           2  ...  mostly-true\n",
              "3           3  ...        FALSE\n",
              "4           4  ...    half-true\n",
              "\n",
              "[5 rows x 5 columns]"
            ]
          },
          "metadata": {
            "tags": []
          },
          "execution_count": 14
        }
      ]
    },
    {
      "cell_type": "code",
      "metadata": {
        "id": "49rMxogTH1fT",
        "colab_type": "code",
        "colab": {}
      },
      "source": [
        "dftrain = dfliar"
      ],
      "execution_count": 0,
      "outputs": []
    },
    {
      "cell_type": "code",
      "metadata": {
        "id": "gDm6fEpBQP0o",
        "colab_type": "code",
        "outputId": "54fb890d-cd06-434b-ee3e-2e35ca02771a",
        "colab": {
          "base_uri": "https://localhost:8080/",
          "height": 206
        }
      },
      "source": [
        "dftrain.head()"
      ],
      "execution_count": 0,
      "outputs": [
        {
          "output_type": "execute_result",
          "data": {
            "text/html": [
              "<div>\n",
              "<style scoped>\n",
              "    .dataframe tbody tr th:only-of-type {\n",
              "        vertical-align: middle;\n",
              "    }\n",
              "\n",
              "    .dataframe tbody tr th {\n",
              "        vertical-align: top;\n",
              "    }\n",
              "\n",
              "    .dataframe thead th {\n",
              "        text-align: right;\n",
              "    }\n",
              "</style>\n",
              "<table border=\"1\" class=\"dataframe\">\n",
              "  <thead>\n",
              "    <tr style=\"text-align: right;\">\n",
              "      <th></th>\n",
              "      <th>Unnamed: 0</th>\n",
              "      <th>body</th>\n",
              "      <th>author</th>\n",
              "      <th>title</th>\n",
              "      <th>fakeness</th>\n",
              "    </tr>\n",
              "  </thead>\n",
              "  <tbody>\n",
              "    <tr>\n",
              "      <th>0</th>\n",
              "      <td>0</td>\n",
              "      <td>says annies list political group supports thir...</td>\n",
              "      <td>dwayne-bohac</td>\n",
              "      <td>abortion</td>\n",
              "      <td>FALSE</td>\n",
              "    </tr>\n",
              "    <tr>\n",
              "      <th>1</th>\n",
              "      <td>1</td>\n",
              "      <td>decline coal start started natural gas took st...</td>\n",
              "      <td>scott-surovell</td>\n",
              "      <td>energy,history,job-accomplishments</td>\n",
              "      <td>half-true</td>\n",
              "    </tr>\n",
              "    <tr>\n",
              "      <th>2</th>\n",
              "      <td>2</td>\n",
              "      <td>hillary clinton agrees john mccain voting geor...</td>\n",
              "      <td>barack-obama</td>\n",
              "      <td>foreign-policy</td>\n",
              "      <td>mostly-true</td>\n",
              "    </tr>\n",
              "    <tr>\n",
              "      <th>3</th>\n",
              "      <td>3</td>\n",
              "      <td>health care reform legislation likely mandate ...</td>\n",
              "      <td>blog-posting</td>\n",
              "      <td>health-care</td>\n",
              "      <td>FALSE</td>\n",
              "    </tr>\n",
              "    <tr>\n",
              "      <th>4</th>\n",
              "      <td>4</td>\n",
              "      <td>economic turnaround started end term</td>\n",
              "      <td>charlie-crist</td>\n",
              "      <td>economy,jobs</td>\n",
              "      <td>half-true</td>\n",
              "    </tr>\n",
              "  </tbody>\n",
              "</table>\n",
              "</div>"
            ],
            "text/plain": [
              "   Unnamed: 0  ...     fakeness\n",
              "0           0  ...        FALSE\n",
              "1           1  ...    half-true\n",
              "2           2  ...  mostly-true\n",
              "3           3  ...        FALSE\n",
              "4           4  ...    half-true\n",
              "\n",
              "[5 rows x 5 columns]"
            ]
          },
          "metadata": {
            "tags": []
          },
          "execution_count": 16
        }
      ]
    },
    {
      "cell_type": "code",
      "metadata": {
        "id": "YmRS2a_mX-IJ",
        "colab_type": "code",
        "colab": {}
      },
      "source": [
        "dftrain = dftrain[['body', 'author', 'title', 'fakeness']].copy()"
      ],
      "execution_count": 0,
      "outputs": []
    },
    {
      "cell_type": "code",
      "metadata": {
        "id": "-TP74glYYgje",
        "colab_type": "code",
        "outputId": "7de7aca7-4a30-4c93-d578-b958e71d46f1",
        "colab": {
          "base_uri": "https://localhost:8080/",
          "height": 206
        }
      },
      "source": [
        "dftrain.head()"
      ],
      "execution_count": 0,
      "outputs": [
        {
          "output_type": "execute_result",
          "data": {
            "text/html": [
              "<div>\n",
              "<style scoped>\n",
              "    .dataframe tbody tr th:only-of-type {\n",
              "        vertical-align: middle;\n",
              "    }\n",
              "\n",
              "    .dataframe tbody tr th {\n",
              "        vertical-align: top;\n",
              "    }\n",
              "\n",
              "    .dataframe thead th {\n",
              "        text-align: right;\n",
              "    }\n",
              "</style>\n",
              "<table border=\"1\" class=\"dataframe\">\n",
              "  <thead>\n",
              "    <tr style=\"text-align: right;\">\n",
              "      <th></th>\n",
              "      <th>body</th>\n",
              "      <th>author</th>\n",
              "      <th>title</th>\n",
              "      <th>fakeness</th>\n",
              "    </tr>\n",
              "  </thead>\n",
              "  <tbody>\n",
              "    <tr>\n",
              "      <th>0</th>\n",
              "      <td>says annies list political group supports thir...</td>\n",
              "      <td>dwayne-bohac</td>\n",
              "      <td>abortion</td>\n",
              "      <td>FALSE</td>\n",
              "    </tr>\n",
              "    <tr>\n",
              "      <th>1</th>\n",
              "      <td>decline coal start started natural gas took st...</td>\n",
              "      <td>scott-surovell</td>\n",
              "      <td>energy,history,job-accomplishments</td>\n",
              "      <td>half-true</td>\n",
              "    </tr>\n",
              "    <tr>\n",
              "      <th>2</th>\n",
              "      <td>hillary clinton agrees john mccain voting geor...</td>\n",
              "      <td>barack-obama</td>\n",
              "      <td>foreign-policy</td>\n",
              "      <td>mostly-true</td>\n",
              "    </tr>\n",
              "    <tr>\n",
              "      <th>3</th>\n",
              "      <td>health care reform legislation likely mandate ...</td>\n",
              "      <td>blog-posting</td>\n",
              "      <td>health-care</td>\n",
              "      <td>FALSE</td>\n",
              "    </tr>\n",
              "    <tr>\n",
              "      <th>4</th>\n",
              "      <td>economic turnaround started end term</td>\n",
              "      <td>charlie-crist</td>\n",
              "      <td>economy,jobs</td>\n",
              "      <td>half-true</td>\n",
              "    </tr>\n",
              "  </tbody>\n",
              "</table>\n",
              "</div>"
            ],
            "text/plain": [
              "                                                body  ...     fakeness\n",
              "0  says annies list political group supports thir...  ...        FALSE\n",
              "1  decline coal start started natural gas took st...  ...    half-true\n",
              "2  hillary clinton agrees john mccain voting geor...  ...  mostly-true\n",
              "3  health care reform legislation likely mandate ...  ...        FALSE\n",
              "4               economic turnaround started end term  ...    half-true\n",
              "\n",
              "[5 rows x 4 columns]"
            ]
          },
          "metadata": {
            "tags": []
          },
          "execution_count": 18
        }
      ]
    },
    {
      "cell_type": "code",
      "metadata": {
        "id": "9r9sZZ6a4U5F",
        "colab_type": "code",
        "outputId": "cb5fb999-f93f-48f8-cc6f-7648dde1ef4e",
        "colab": {
          "base_uri": "https://localhost:8080/",
          "height": 34
        }
      },
      "source": [
        "dftrain.shape"
      ],
      "execution_count": 0,
      "outputs": [
        {
          "output_type": "execute_result",
          "data": {
            "text/plain": [
              "(12791, 4)"
            ]
          },
          "metadata": {
            "tags": []
          },
          "execution_count": 19
        }
      ]
    },
    {
      "cell_type": "code",
      "metadata": {
        "id": "_ZBxSl3XDOex",
        "colab_type": "code",
        "colab": {}
      },
      "source": [
        "from sklearn.feature_extraction.text import CountVectorizer, TfidfVectorizer, HashingVectorizer"
      ],
      "execution_count": 0,
      "outputs": []
    },
    {
      "cell_type": "code",
      "metadata": {
        "id": "wuUCBUCkDOtH",
        "colab_type": "code",
        "colab": {}
      },
      "source": [
        "\n",
        "dftrain=dftrain.dropna()"
      ],
      "execution_count": 0,
      "outputs": []
    },
    {
      "cell_type": "code",
      "metadata": {
        "id": "C7tER4DmDPHG",
        "colab_type": "code",
        "outputId": "a59dfc7d-aa74-422e-fc76-a1800ab18826",
        "colab": {
          "base_uri": "https://localhost:8080/",
          "height": 34
        }
      },
      "source": [
        "dftrain.shape"
      ],
      "execution_count": 0,
      "outputs": [
        {
          "output_type": "execute_result",
          "data": {
            "text/plain": [
              "(12789, 4)"
            ]
          },
          "metadata": {
            "tags": []
          },
          "execution_count": 22
        }
      ]
    },
    {
      "cell_type": "markdown",
      "metadata": {
        "id": "q218kMMZY1kf",
        "colab_type": "text"
      },
      "source": [
        "###Import Nltk"
      ]
    },
    {
      "cell_type": "code",
      "metadata": {
        "id": "81NoW-uaYnPT",
        "colab_type": "code",
        "outputId": "e981414c-a2c7-48b8-c387-702468ae1abc",
        "colab": {
          "base_uri": "https://localhost:8080/",
          "height": 69
        }
      },
      "source": [
        "import re\n",
        "import nltk\n",
        "nltk.download('stopwords')\n",
        "  "
      ],
      "execution_count": 0,
      "outputs": [
        {
          "output_type": "stream",
          "text": [
            "[nltk_data] Downloading package stopwords to /root/nltk_data...\n",
            "[nltk_data]   Unzipping corpora/stopwords.zip.\n"
          ],
          "name": "stdout"
        },
        {
          "output_type": "execute_result",
          "data": {
            "text/plain": [
              "True"
            ]
          },
          "metadata": {
            "tags": []
          },
          "execution_count": 23
        }
      ]
    },
    {
      "cell_type": "markdown",
      "metadata": {
        "id": "rUtR0drMM0Dc",
        "colab_type": "text"
      },
      "source": [
        "##Part 3"
      ]
    },
    {
      "cell_type": "code",
      "metadata": {
        "id": "8rQa-psaQVGP",
        "colab_type": "code",
        "colab": {}
      },
      "source": [
        "#!pip install gensim"
      ],
      "execution_count": 0,
      "outputs": []
    },
    {
      "cell_type": "code",
      "metadata": {
        "id": "6wZSBJDQcG9N",
        "colab_type": "code",
        "outputId": "52426643-286c-42ba-8c09-664eb81b32cb",
        "colab": {
          "base_uri": "https://localhost:8080/",
          "height": 69
        }
      },
      "source": [
        "import nltk\n",
        "nltk.download('punkt')\n",
        "  "
      ],
      "execution_count": 0,
      "outputs": [
        {
          "output_type": "stream",
          "text": [
            "[nltk_data] Downloading package punkt to /root/nltk_data...\n",
            "[nltk_data]   Unzipping tokenizers/punkt.zip.\n"
          ],
          "name": "stdout"
        },
        {
          "output_type": "execute_result",
          "data": {
            "text/plain": [
              "True"
            ]
          },
          "metadata": {
            "tags": []
          },
          "execution_count": 25
        }
      ]
    },
    {
      "cell_type": "code",
      "metadata": {
        "id": "6hlMdfBl-4-M",
        "colab_type": "code",
        "colab": {}
      },
      "source": [
        "messages=dftrain.copy()"
      ],
      "execution_count": 0,
      "outputs": []
    },
    {
      "cell_type": "code",
      "metadata": {
        "id": "vlaq2m0e-41I",
        "colab_type": "code",
        "outputId": "9aed8393-9f7b-4ecf-f4c8-4e68d10dbaf1",
        "colab": {
          "base_uri": "https://localhost:8080/",
          "height": 206
        }
      },
      "source": [
        "messages.head()"
      ],
      "execution_count": 0,
      "outputs": [
        {
          "output_type": "execute_result",
          "data": {
            "text/html": [
              "<div>\n",
              "<style scoped>\n",
              "    .dataframe tbody tr th:only-of-type {\n",
              "        vertical-align: middle;\n",
              "    }\n",
              "\n",
              "    .dataframe tbody tr th {\n",
              "        vertical-align: top;\n",
              "    }\n",
              "\n",
              "    .dataframe thead th {\n",
              "        text-align: right;\n",
              "    }\n",
              "</style>\n",
              "<table border=\"1\" class=\"dataframe\">\n",
              "  <thead>\n",
              "    <tr style=\"text-align: right;\">\n",
              "      <th></th>\n",
              "      <th>body</th>\n",
              "      <th>author</th>\n",
              "      <th>title</th>\n",
              "      <th>fakeness</th>\n",
              "    </tr>\n",
              "  </thead>\n",
              "  <tbody>\n",
              "    <tr>\n",
              "      <th>0</th>\n",
              "      <td>says annies list political group supports thir...</td>\n",
              "      <td>dwayne-bohac</td>\n",
              "      <td>abortion</td>\n",
              "      <td>FALSE</td>\n",
              "    </tr>\n",
              "    <tr>\n",
              "      <th>1</th>\n",
              "      <td>decline coal start started natural gas took st...</td>\n",
              "      <td>scott-surovell</td>\n",
              "      <td>energy,history,job-accomplishments</td>\n",
              "      <td>half-true</td>\n",
              "    </tr>\n",
              "    <tr>\n",
              "      <th>2</th>\n",
              "      <td>hillary clinton agrees john mccain voting geor...</td>\n",
              "      <td>barack-obama</td>\n",
              "      <td>foreign-policy</td>\n",
              "      <td>mostly-true</td>\n",
              "    </tr>\n",
              "    <tr>\n",
              "      <th>3</th>\n",
              "      <td>health care reform legislation likely mandate ...</td>\n",
              "      <td>blog-posting</td>\n",
              "      <td>health-care</td>\n",
              "      <td>FALSE</td>\n",
              "    </tr>\n",
              "    <tr>\n",
              "      <th>4</th>\n",
              "      <td>economic turnaround started end term</td>\n",
              "      <td>charlie-crist</td>\n",
              "      <td>economy,jobs</td>\n",
              "      <td>half-true</td>\n",
              "    </tr>\n",
              "  </tbody>\n",
              "</table>\n",
              "</div>"
            ],
            "text/plain": [
              "                                                body  ...     fakeness\n",
              "0  says annies list political group supports thir...  ...        FALSE\n",
              "1  decline coal start started natural gas took st...  ...    half-true\n",
              "2  hillary clinton agrees john mccain voting geor...  ...  mostly-true\n",
              "3  health care reform legislation likely mandate ...  ...        FALSE\n",
              "4               economic turnaround started end term  ...    half-true\n",
              "\n",
              "[5 rows x 4 columns]"
            ]
          },
          "metadata": {
            "tags": []
          },
          "execution_count": 27
        }
      ]
    },
    {
      "cell_type": "code",
      "metadata": {
        "id": "efovAaUtKxfh",
        "colab_type": "code",
        "outputId": "8b92d128-c530-4c8a-81ca-203d89b1bbec",
        "colab": {
          "base_uri": "https://localhost:8080/",
          "height": 34
        }
      },
      "source": [
        "messages.shape"
      ],
      "execution_count": 0,
      "outputs": [
        {
          "output_type": "execute_result",
          "data": {
            "text/plain": [
              "(12789, 4)"
            ]
          },
          "metadata": {
            "tags": []
          },
          "execution_count": 28
        }
      ]
    },
    {
      "cell_type": "code",
      "metadata": {
        "id": "69OzLFZG-4sI",
        "colab_type": "code",
        "outputId": "de5be644-8734-481b-d986-f2b55151bb07",
        "colab": {
          "base_uri": "https://localhost:8080/",
          "height": 206
        }
      },
      "source": [
        "messages.head()"
      ],
      "execution_count": 0,
      "outputs": [
        {
          "output_type": "execute_result",
          "data": {
            "text/html": [
              "<div>\n",
              "<style scoped>\n",
              "    .dataframe tbody tr th:only-of-type {\n",
              "        vertical-align: middle;\n",
              "    }\n",
              "\n",
              "    .dataframe tbody tr th {\n",
              "        vertical-align: top;\n",
              "    }\n",
              "\n",
              "    .dataframe thead th {\n",
              "        text-align: right;\n",
              "    }\n",
              "</style>\n",
              "<table border=\"1\" class=\"dataframe\">\n",
              "  <thead>\n",
              "    <tr style=\"text-align: right;\">\n",
              "      <th></th>\n",
              "      <th>body</th>\n",
              "      <th>author</th>\n",
              "      <th>title</th>\n",
              "      <th>fakeness</th>\n",
              "    </tr>\n",
              "  </thead>\n",
              "  <tbody>\n",
              "    <tr>\n",
              "      <th>0</th>\n",
              "      <td>says annies list political group supports thir...</td>\n",
              "      <td>dwayne-bohac</td>\n",
              "      <td>abortion</td>\n",
              "      <td>FALSE</td>\n",
              "    </tr>\n",
              "    <tr>\n",
              "      <th>1</th>\n",
              "      <td>decline coal start started natural gas took st...</td>\n",
              "      <td>scott-surovell</td>\n",
              "      <td>energy,history,job-accomplishments</td>\n",
              "      <td>half-true</td>\n",
              "    </tr>\n",
              "    <tr>\n",
              "      <th>2</th>\n",
              "      <td>hillary clinton agrees john mccain voting geor...</td>\n",
              "      <td>barack-obama</td>\n",
              "      <td>foreign-policy</td>\n",
              "      <td>mostly-true</td>\n",
              "    </tr>\n",
              "    <tr>\n",
              "      <th>3</th>\n",
              "      <td>health care reform legislation likely mandate ...</td>\n",
              "      <td>blog-posting</td>\n",
              "      <td>health-care</td>\n",
              "      <td>FALSE</td>\n",
              "    </tr>\n",
              "    <tr>\n",
              "      <th>4</th>\n",
              "      <td>economic turnaround started end term</td>\n",
              "      <td>charlie-crist</td>\n",
              "      <td>economy,jobs</td>\n",
              "      <td>half-true</td>\n",
              "    </tr>\n",
              "  </tbody>\n",
              "</table>\n",
              "</div>"
            ],
            "text/plain": [
              "                                                body  ...     fakeness\n",
              "0  says annies list political group supports thir...  ...        FALSE\n",
              "1  decline coal start started natural gas took st...  ...    half-true\n",
              "2  hillary clinton agrees john mccain voting geor...  ...  mostly-true\n",
              "3  health care reform legislation likely mandate ...  ...        FALSE\n",
              "4               economic turnaround started end term  ...    half-true\n",
              "\n",
              "[5 rows x 4 columns]"
            ]
          },
          "metadata": {
            "tags": []
          },
          "execution_count": 29
        }
      ]
    },
    {
      "cell_type": "code",
      "metadata": {
        "id": "RL0zG0z5AsVb",
        "colab_type": "code",
        "outputId": "f768e33e-47d1-44be-a8d6-de39c0428b1c",
        "colab": {
          "base_uri": "https://localhost:8080/",
          "height": 238
        }
      },
      "source": [
        "messages.head(6)"
      ],
      "execution_count": 0,
      "outputs": [
        {
          "output_type": "execute_result",
          "data": {
            "text/html": [
              "<div>\n",
              "<style scoped>\n",
              "    .dataframe tbody tr th:only-of-type {\n",
              "        vertical-align: middle;\n",
              "    }\n",
              "\n",
              "    .dataframe tbody tr th {\n",
              "        vertical-align: top;\n",
              "    }\n",
              "\n",
              "    .dataframe thead th {\n",
              "        text-align: right;\n",
              "    }\n",
              "</style>\n",
              "<table border=\"1\" class=\"dataframe\">\n",
              "  <thead>\n",
              "    <tr style=\"text-align: right;\">\n",
              "      <th></th>\n",
              "      <th>body</th>\n",
              "      <th>author</th>\n",
              "      <th>title</th>\n",
              "      <th>fakeness</th>\n",
              "    </tr>\n",
              "  </thead>\n",
              "  <tbody>\n",
              "    <tr>\n",
              "      <th>0</th>\n",
              "      <td>says annies list political group supports thir...</td>\n",
              "      <td>dwayne-bohac</td>\n",
              "      <td>abortion</td>\n",
              "      <td>FALSE</td>\n",
              "    </tr>\n",
              "    <tr>\n",
              "      <th>1</th>\n",
              "      <td>decline coal start started natural gas took st...</td>\n",
              "      <td>scott-surovell</td>\n",
              "      <td>energy,history,job-accomplishments</td>\n",
              "      <td>half-true</td>\n",
              "    </tr>\n",
              "    <tr>\n",
              "      <th>2</th>\n",
              "      <td>hillary clinton agrees john mccain voting geor...</td>\n",
              "      <td>barack-obama</td>\n",
              "      <td>foreign-policy</td>\n",
              "      <td>mostly-true</td>\n",
              "    </tr>\n",
              "    <tr>\n",
              "      <th>3</th>\n",
              "      <td>health care reform legislation likely mandate ...</td>\n",
              "      <td>blog-posting</td>\n",
              "      <td>health-care</td>\n",
              "      <td>FALSE</td>\n",
              "    </tr>\n",
              "    <tr>\n",
              "      <th>4</th>\n",
              "      <td>economic turnaround started end term</td>\n",
              "      <td>charlie-crist</td>\n",
              "      <td>economy,jobs</td>\n",
              "      <td>half-true</td>\n",
              "    </tr>\n",
              "    <tr>\n",
              "      <th>5</th>\n",
              "      <td>chicago bears starting quarterbacks years tota...</td>\n",
              "      <td>robin-vos</td>\n",
              "      <td>education</td>\n",
              "      <td>TRUE</td>\n",
              "    </tr>\n",
              "  </tbody>\n",
              "</table>\n",
              "</div>"
            ],
            "text/plain": [
              "                                                body  ...     fakeness\n",
              "0  says annies list political group supports thir...  ...        FALSE\n",
              "1  decline coal start started natural gas took st...  ...    half-true\n",
              "2  hillary clinton agrees john mccain voting geor...  ...  mostly-true\n",
              "3  health care reform legislation likely mandate ...  ...        FALSE\n",
              "4               economic turnaround started end term  ...    half-true\n",
              "5  chicago bears starting quarterbacks years tota...  ...         TRUE\n",
              "\n",
              "[6 rows x 4 columns]"
            ]
          },
          "metadata": {
            "tags": []
          },
          "execution_count": 30
        }
      ]
    },
    {
      "cell_type": "code",
      "metadata": {
        "id": "vGd2Xs5eYKke",
        "colab_type": "code",
        "outputId": "42bf9988-ab9e-464c-fd91-7aef9a74a5e8",
        "colab": {
          "base_uri": "https://localhost:8080/",
          "height": 106
        }
      },
      "source": [
        "!pip install pyjarowinkler"
      ],
      "execution_count": 0,
      "outputs": [
        {
          "output_type": "stream",
          "text": [
            "Collecting pyjarowinkler\n",
            "  Downloading https://files.pythonhosted.org/packages/b9/58/b89073047b447e02b08d4f64fbb984e5a4dfef4134477350b256c625c779/pyjarowinkler-1.8-py2.py3-none-any.whl\n",
            "Installing collected packages: pyjarowinkler\n",
            "Successfully installed pyjarowinkler-1.8\n"
          ],
          "name": "stdout"
        }
      ]
    },
    {
      "cell_type": "code",
      "metadata": {
        "id": "CvYhKZ8aX8bH",
        "colab_type": "code",
        "colab": {}
      },
      "source": [
        "from pyjarowinkler.distance import get_jaro_distance"
      ],
      "execution_count": 0,
      "outputs": []
    },
    {
      "cell_type": "code",
      "metadata": {
        "id": "SpQCgAfsYcs-",
        "colab_type": "code",
        "colab": {}
      },
      "source": [
        "messages['similarity'] = [get_jaro_distance(x, y) for x, y in zip(messages['body'], messages['title'])]"
      ],
      "execution_count": 0,
      "outputs": []
    },
    {
      "cell_type": "code",
      "metadata": {
        "id": "YGo1PPxQYrok",
        "colab_type": "code",
        "outputId": "2b03fc57-07d5-4fbe-83a4-514a9d92973a",
        "colab": {
          "base_uri": "https://localhost:8080/",
          "height": 206
        }
      },
      "source": [
        "messages.head()"
      ],
      "execution_count": 0,
      "outputs": [
        {
          "output_type": "execute_result",
          "data": {
            "text/html": [
              "<div>\n",
              "<style scoped>\n",
              "    .dataframe tbody tr th:only-of-type {\n",
              "        vertical-align: middle;\n",
              "    }\n",
              "\n",
              "    .dataframe tbody tr th {\n",
              "        vertical-align: top;\n",
              "    }\n",
              "\n",
              "    .dataframe thead th {\n",
              "        text-align: right;\n",
              "    }\n",
              "</style>\n",
              "<table border=\"1\" class=\"dataframe\">\n",
              "  <thead>\n",
              "    <tr style=\"text-align: right;\">\n",
              "      <th></th>\n",
              "      <th>body</th>\n",
              "      <th>author</th>\n",
              "      <th>title</th>\n",
              "      <th>fakeness</th>\n",
              "      <th>similarity</th>\n",
              "    </tr>\n",
              "  </thead>\n",
              "  <tbody>\n",
              "    <tr>\n",
              "      <th>0</th>\n",
              "      <td>says annies list political group supports thir...</td>\n",
              "      <td>dwayne-bohac</td>\n",
              "      <td>abortion</td>\n",
              "      <td>FALSE</td>\n",
              "      <td>0.36</td>\n",
              "    </tr>\n",
              "    <tr>\n",
              "      <th>1</th>\n",
              "      <td>decline coal start started natural gas took st...</td>\n",
              "      <td>scott-surovell</td>\n",
              "      <td>energy,history,job-accomplishments</td>\n",
              "      <td>half-true</td>\n",
              "      <td>0.44</td>\n",
              "    </tr>\n",
              "    <tr>\n",
              "      <th>2</th>\n",
              "      <td>hillary clinton agrees john mccain voting geor...</td>\n",
              "      <td>barack-obama</td>\n",
              "      <td>foreign-policy</td>\n",
              "      <td>mostly-true</td>\n",
              "      <td>0.44</td>\n",
              "    </tr>\n",
              "    <tr>\n",
              "      <th>3</th>\n",
              "      <td>health care reform legislation likely mandate ...</td>\n",
              "      <td>blog-posting</td>\n",
              "      <td>health-care</td>\n",
              "      <td>FALSE</td>\n",
              "      <td>0.81</td>\n",
              "    </tr>\n",
              "    <tr>\n",
              "      <th>4</th>\n",
              "      <td>economic turnaround started end term</td>\n",
              "      <td>charlie-crist</td>\n",
              "      <td>economy,jobs</td>\n",
              "      <td>half-true</td>\n",
              "      <td>0.76</td>\n",
              "    </tr>\n",
              "  </tbody>\n",
              "</table>\n",
              "</div>"
            ],
            "text/plain": [
              "                                                body  ... similarity\n",
              "0  says annies list political group supports thir...  ...       0.36\n",
              "1  decline coal start started natural gas took st...  ...       0.44\n",
              "2  hillary clinton agrees john mccain voting geor...  ...       0.44\n",
              "3  health care reform legislation likely mandate ...  ...       0.81\n",
              "4               economic turnaround started end term  ...       0.76\n",
              "\n",
              "[5 rows x 5 columns]"
            ]
          },
          "metadata": {
            "tags": []
          },
          "execution_count": 34
        }
      ]
    },
    {
      "cell_type": "code",
      "metadata": {
        "id": "TPSJahjnZY6c",
        "colab_type": "code",
        "outputId": "dfb0087f-f5fd-452b-bef5-ca65a7a0371b",
        "colab": {
          "base_uri": "https://localhost:8080/",
          "height": 293
        }
      },
      "source": [
        "messages.tail()"
      ],
      "execution_count": 0,
      "outputs": [
        {
          "output_type": "execute_result",
          "data": {
            "text/html": [
              "<div>\n",
              "<style scoped>\n",
              "    .dataframe tbody tr th:only-of-type {\n",
              "        vertical-align: middle;\n",
              "    }\n",
              "\n",
              "    .dataframe tbody tr th {\n",
              "        vertical-align: top;\n",
              "    }\n",
              "\n",
              "    .dataframe thead th {\n",
              "        text-align: right;\n",
              "    }\n",
              "</style>\n",
              "<table border=\"1\" class=\"dataframe\">\n",
              "  <thead>\n",
              "    <tr style=\"text-align: right;\">\n",
              "      <th></th>\n",
              "      <th>body</th>\n",
              "      <th>author</th>\n",
              "      <th>title</th>\n",
              "      <th>fakeness</th>\n",
              "      <th>similarity</th>\n",
              "    </tr>\n",
              "  </thead>\n",
              "  <tbody>\n",
              "    <tr>\n",
              "      <th>12786</th>\n",
              "      <td>time decade imports accounted half oil consumed</td>\n",
              "      <td>barack-obama</td>\n",
              "      <td>energy,oil-spill,trade</td>\n",
              "      <td>half-true</td>\n",
              "      <td>0.46</td>\n",
              "    </tr>\n",
              "    <tr>\n",
              "      <th>12787</th>\n",
              "      <td>says donald trump bankrupted companies twice t...</td>\n",
              "      <td>hillary-clinton</td>\n",
              "      <td>candidates-biography</td>\n",
              "      <td>mostly-true</td>\n",
              "      <td>0.47</td>\n",
              "    </tr>\n",
              "    <tr>\n",
              "      <th>12788</th>\n",
              "      <td>john mccain george bush absolutely plan univer...</td>\n",
              "      <td>campaign-defend-america</td>\n",
              "      <td>health-care</td>\n",
              "      <td>TRUE</td>\n",
              "      <td>0.48</td>\n",
              "    </tr>\n",
              "    <tr>\n",
              "      <th>12789</th>\n",
              "      <td>new poll shows percent support presidents plan...</td>\n",
              "      <td>americans-united-change</td>\n",
              "      <td>health-care</td>\n",
              "      <td>FALSE</td>\n",
              "      <td>0.43</td>\n",
              "    </tr>\n",
              "    <tr>\n",
              "      <th>12790</th>\n",
              "      <td>claims report vindicating new jersey gov chris...</td>\n",
              "      <td>rudy-giuliani</td>\n",
              "      <td>candidates-biography,infrastructure</td>\n",
              "      <td>barely-true</td>\n",
              "      <td>0.57</td>\n",
              "    </tr>\n",
              "  </tbody>\n",
              "</table>\n",
              "</div>"
            ],
            "text/plain": [
              "                                                    body  ... similarity\n",
              "12786    time decade imports accounted half oil consumed  ...       0.46\n",
              "12787  says donald trump bankrupted companies twice t...  ...       0.47\n",
              "12788  john mccain george bush absolutely plan univer...  ...       0.48\n",
              "12789  new poll shows percent support presidents plan...  ...       0.43\n",
              "12790  claims report vindicating new jersey gov chris...  ...       0.57\n",
              "\n",
              "[5 rows x 5 columns]"
            ]
          },
          "metadata": {
            "tags": []
          },
          "execution_count": 35
        }
      ]
    },
    {
      "cell_type": "code",
      "metadata": {
        "id": "r_ZHJFZp49nQ",
        "colab_type": "code",
        "outputId": "a6583997-c757-4216-cadc-ed6313eb97f6",
        "colab": {
          "base_uri": "https://localhost:8080/",
          "height": 34
        }
      },
      "source": [
        "messages.fakeness.dtype"
      ],
      "execution_count": 0,
      "outputs": [
        {
          "output_type": "execute_result",
          "data": {
            "text/plain": [
              "dtype('O')"
            ]
          },
          "metadata": {
            "tags": []
          },
          "execution_count": 36
        }
      ]
    },
    {
      "cell_type": "code",
      "metadata": {
        "id": "fY4pCRnP5E1Y",
        "colab_type": "code",
        "colab": {}
      },
      "source": [
        "messages['fakeness'] = messages.fakeness.astype(str)"
      ],
      "execution_count": 0,
      "outputs": []
    },
    {
      "cell_type": "code",
      "metadata": {
        "id": "bRjsVDTXab_i",
        "colab_type": "code",
        "outputId": "1cbc07f8-6594-4490-fc58-89a39177fa82",
        "colab": {
          "base_uri": "https://localhost:8080/",
          "height": 206
        }
      },
      "source": [
        "dftest = df.iloc[:3000]\n",
        "dftest.head()"
      ],
      "execution_count": 0,
      "outputs": [
        {
          "output_type": "execute_result",
          "data": {
            "text/html": [
              "<div>\n",
              "<style scoped>\n",
              "    .dataframe tbody tr th:only-of-type {\n",
              "        vertical-align: middle;\n",
              "    }\n",
              "\n",
              "    .dataframe tbody tr th {\n",
              "        vertical-align: top;\n",
              "    }\n",
              "\n",
              "    .dataframe thead th {\n",
              "        text-align: right;\n",
              "    }\n",
              "</style>\n",
              "<table border=\"1\" class=\"dataframe\">\n",
              "  <thead>\n",
              "    <tr style=\"text-align: right;\">\n",
              "      <th></th>\n",
              "      <th>Unnamed: 0</th>\n",
              "      <th>body</th>\n",
              "      <th>author</th>\n",
              "      <th>title</th>\n",
              "      <th>fakeness</th>\n",
              "    </tr>\n",
              "  </thead>\n",
              "  <tbody>\n",
              "    <tr>\n",
              "      <th>0</th>\n",
              "      <td>0</td>\n",
              "      <td>says annies list political group supports thir...</td>\n",
              "      <td>dwayne-bohac</td>\n",
              "      <td>abortion</td>\n",
              "      <td>FALSE</td>\n",
              "    </tr>\n",
              "    <tr>\n",
              "      <th>1</th>\n",
              "      <td>1</td>\n",
              "      <td>decline coal start started natural gas took st...</td>\n",
              "      <td>scott-surovell</td>\n",
              "      <td>energy,history,job-accomplishments</td>\n",
              "      <td>half-true</td>\n",
              "    </tr>\n",
              "    <tr>\n",
              "      <th>2</th>\n",
              "      <td>2</td>\n",
              "      <td>hillary clinton agrees john mccain voting geor...</td>\n",
              "      <td>barack-obama</td>\n",
              "      <td>foreign-policy</td>\n",
              "      <td>mostly-true</td>\n",
              "    </tr>\n",
              "    <tr>\n",
              "      <th>3</th>\n",
              "      <td>3</td>\n",
              "      <td>health care reform legislation likely mandate ...</td>\n",
              "      <td>blog-posting</td>\n",
              "      <td>health-care</td>\n",
              "      <td>FALSE</td>\n",
              "    </tr>\n",
              "    <tr>\n",
              "      <th>4</th>\n",
              "      <td>4</td>\n",
              "      <td>economic turnaround started end term</td>\n",
              "      <td>charlie-crist</td>\n",
              "      <td>economy,jobs</td>\n",
              "      <td>half-true</td>\n",
              "    </tr>\n",
              "  </tbody>\n",
              "</table>\n",
              "</div>"
            ],
            "text/plain": [
              "   Unnamed: 0  ...     fakeness\n",
              "0           0  ...        FALSE\n",
              "1           1  ...    half-true\n",
              "2           2  ...  mostly-true\n",
              "3           3  ...        FALSE\n",
              "4           4  ...    half-true\n",
              "\n",
              "[5 rows x 5 columns]"
            ]
          },
          "metadata": {
            "tags": []
          },
          "execution_count": 38
        }
      ]
    },
    {
      "cell_type": "code",
      "metadata": {
        "id": "gW2DFJlQ7VTO",
        "colab_type": "code",
        "outputId": "ea9ad87e-b681-4b03-cb84-224363403a85",
        "colab": {
          "base_uri": "https://localhost:8080/",
          "height": 141
        }
      },
      "source": [
        "dftest['title'] = dftest.title.astype(str)"
      ],
      "execution_count": 0,
      "outputs": [
        {
          "output_type": "stream",
          "text": [
            "/usr/local/lib/python3.6/dist-packages/ipykernel_launcher.py:1: SettingWithCopyWarning: \n",
            "A value is trying to be set on a copy of a slice from a DataFrame.\n",
            "Try using .loc[row_indexer,col_indexer] = value instead\n",
            "\n",
            "See the caveats in the documentation: https://pandas.pydata.org/pandas-docs/stable/user_guide/indexing.html#returning-a-view-versus-a-copy\n",
            "  \"\"\"Entry point for launching an IPython kernel.\n"
          ],
          "name": "stderr"
        }
      ]
    },
    {
      "cell_type": "code",
      "metadata": {
        "id": "bNe0cq2w7h-5",
        "colab_type": "code",
        "outputId": "b2f8a287-3306-4138-a9c2-f7a492940255",
        "colab": {
          "base_uri": "https://localhost:8080/",
          "height": 141
        }
      },
      "source": [
        "dftest['body'] = dftest.body.astype(str)"
      ],
      "execution_count": 0,
      "outputs": [
        {
          "output_type": "stream",
          "text": [
            "/usr/local/lib/python3.6/dist-packages/ipykernel_launcher.py:1: SettingWithCopyWarning: \n",
            "A value is trying to be set on a copy of a slice from a DataFrame.\n",
            "Try using .loc[row_indexer,col_indexer] = value instead\n",
            "\n",
            "See the caveats in the documentation: https://pandas.pydata.org/pandas-docs/stable/user_guide/indexing.html#returning-a-view-versus-a-copy\n",
            "  \"\"\"Entry point for launching an IPython kernel.\n"
          ],
          "name": "stderr"
        }
      ]
    },
    {
      "cell_type": "code",
      "metadata": {
        "id": "USMf_u2S4zUA",
        "colab_type": "code",
        "outputId": "c4e8c91b-5812-4ad2-f602-f4d359120e55",
        "colab": {
          "base_uri": "https://localhost:8080/",
          "height": 34
        }
      },
      "source": [
        "dftest.shape"
      ],
      "execution_count": 0,
      "outputs": [
        {
          "output_type": "execute_result",
          "data": {
            "text/plain": [
              "(3000, 5)"
            ]
          },
          "metadata": {
            "tags": []
          },
          "execution_count": 41
        }
      ]
    },
    {
      "cell_type": "code",
      "metadata": {
        "id": "XdomwjP_axI7",
        "colab_type": "code",
        "outputId": "47908cdd-80aa-477b-beb2-9381b7a4a588",
        "colab": {
          "base_uri": "https://localhost:8080/",
          "height": 34
        }
      },
      "source": [
        "dftest.columns"
      ],
      "execution_count": 0,
      "outputs": [
        {
          "output_type": "execute_result",
          "data": {
            "text/plain": [
              "Index(['Unnamed: 0', 'body', 'author', 'title', 'fakeness'], dtype='object')"
            ]
          },
          "metadata": {
            "tags": []
          },
          "execution_count": 42
        }
      ]
    },
    {
      "cell_type": "code",
      "metadata": {
        "id": "gkPobmJoasFA",
        "colab_type": "code",
        "colab": {}
      },
      "source": [
        "dftest = dftest.drop('Unnamed: 0', axis=1)"
      ],
      "execution_count": 0,
      "outputs": []
    },
    {
      "cell_type": "code",
      "metadata": {
        "id": "I_V3wjlZazZd",
        "colab_type": "code",
        "outputId": "bd4d6d2d-a7fc-4af1-d927-3ac2786e654a",
        "colab": {
          "base_uri": "https://localhost:8080/",
          "height": 206
        }
      },
      "source": [
        "dftest.head()"
      ],
      "execution_count": 0,
      "outputs": [
        {
          "output_type": "execute_result",
          "data": {
            "text/html": [
              "<div>\n",
              "<style scoped>\n",
              "    .dataframe tbody tr th:only-of-type {\n",
              "        vertical-align: middle;\n",
              "    }\n",
              "\n",
              "    .dataframe tbody tr th {\n",
              "        vertical-align: top;\n",
              "    }\n",
              "\n",
              "    .dataframe thead th {\n",
              "        text-align: right;\n",
              "    }\n",
              "</style>\n",
              "<table border=\"1\" class=\"dataframe\">\n",
              "  <thead>\n",
              "    <tr style=\"text-align: right;\">\n",
              "      <th></th>\n",
              "      <th>body</th>\n",
              "      <th>author</th>\n",
              "      <th>title</th>\n",
              "      <th>fakeness</th>\n",
              "    </tr>\n",
              "  </thead>\n",
              "  <tbody>\n",
              "    <tr>\n",
              "      <th>0</th>\n",
              "      <td>says annies list political group supports thir...</td>\n",
              "      <td>dwayne-bohac</td>\n",
              "      <td>abortion</td>\n",
              "      <td>FALSE</td>\n",
              "    </tr>\n",
              "    <tr>\n",
              "      <th>1</th>\n",
              "      <td>decline coal start started natural gas took st...</td>\n",
              "      <td>scott-surovell</td>\n",
              "      <td>energy,history,job-accomplishments</td>\n",
              "      <td>half-true</td>\n",
              "    </tr>\n",
              "    <tr>\n",
              "      <th>2</th>\n",
              "      <td>hillary clinton agrees john mccain voting geor...</td>\n",
              "      <td>barack-obama</td>\n",
              "      <td>foreign-policy</td>\n",
              "      <td>mostly-true</td>\n",
              "    </tr>\n",
              "    <tr>\n",
              "      <th>3</th>\n",
              "      <td>health care reform legislation likely mandate ...</td>\n",
              "      <td>blog-posting</td>\n",
              "      <td>health-care</td>\n",
              "      <td>FALSE</td>\n",
              "    </tr>\n",
              "    <tr>\n",
              "      <th>4</th>\n",
              "      <td>economic turnaround started end term</td>\n",
              "      <td>charlie-crist</td>\n",
              "      <td>economy,jobs</td>\n",
              "      <td>half-true</td>\n",
              "    </tr>\n",
              "  </tbody>\n",
              "</table>\n",
              "</div>"
            ],
            "text/plain": [
              "                                                body  ...     fakeness\n",
              "0  says annies list political group supports thir...  ...        FALSE\n",
              "1  decline coal start started natural gas took st...  ...    half-true\n",
              "2  hillary clinton agrees john mccain voting geor...  ...  mostly-true\n",
              "3  health care reform legislation likely mandate ...  ...        FALSE\n",
              "4               economic turnaround started end term  ...    half-true\n",
              "\n",
              "[5 rows x 4 columns]"
            ]
          },
          "metadata": {
            "tags": []
          },
          "execution_count": 44
        }
      ]
    },
    {
      "cell_type": "code",
      "metadata": {
        "id": "bkXEzvP1a2E8",
        "colab_type": "code",
        "colab": {}
      },
      "source": [
        "dftest['similarity'] = [get_jaro_distance(x, y) for x, y in zip(dftest['body'], dftest['title'])]"
      ],
      "execution_count": 0,
      "outputs": []
    },
    {
      "cell_type": "code",
      "metadata": {
        "id": "ZSVhqNQba8du",
        "colab_type": "code",
        "outputId": "82f5fdf4-53b9-4441-e758-ed907720e0c5",
        "colab": {
          "base_uri": "https://localhost:8080/",
          "height": 206
        }
      },
      "source": [
        "dftest.head()"
      ],
      "execution_count": 0,
      "outputs": [
        {
          "output_type": "execute_result",
          "data": {
            "text/html": [
              "<div>\n",
              "<style scoped>\n",
              "    .dataframe tbody tr th:only-of-type {\n",
              "        vertical-align: middle;\n",
              "    }\n",
              "\n",
              "    .dataframe tbody tr th {\n",
              "        vertical-align: top;\n",
              "    }\n",
              "\n",
              "    .dataframe thead th {\n",
              "        text-align: right;\n",
              "    }\n",
              "</style>\n",
              "<table border=\"1\" class=\"dataframe\">\n",
              "  <thead>\n",
              "    <tr style=\"text-align: right;\">\n",
              "      <th></th>\n",
              "      <th>body</th>\n",
              "      <th>author</th>\n",
              "      <th>title</th>\n",
              "      <th>fakeness</th>\n",
              "      <th>similarity</th>\n",
              "    </tr>\n",
              "  </thead>\n",
              "  <tbody>\n",
              "    <tr>\n",
              "      <th>0</th>\n",
              "      <td>says annies list political group supports thir...</td>\n",
              "      <td>dwayne-bohac</td>\n",
              "      <td>abortion</td>\n",
              "      <td>FALSE</td>\n",
              "      <td>0.36</td>\n",
              "    </tr>\n",
              "    <tr>\n",
              "      <th>1</th>\n",
              "      <td>decline coal start started natural gas took st...</td>\n",
              "      <td>scott-surovell</td>\n",
              "      <td>energy,history,job-accomplishments</td>\n",
              "      <td>half-true</td>\n",
              "      <td>0.44</td>\n",
              "    </tr>\n",
              "    <tr>\n",
              "      <th>2</th>\n",
              "      <td>hillary clinton agrees john mccain voting geor...</td>\n",
              "      <td>barack-obama</td>\n",
              "      <td>foreign-policy</td>\n",
              "      <td>mostly-true</td>\n",
              "      <td>0.44</td>\n",
              "    </tr>\n",
              "    <tr>\n",
              "      <th>3</th>\n",
              "      <td>health care reform legislation likely mandate ...</td>\n",
              "      <td>blog-posting</td>\n",
              "      <td>health-care</td>\n",
              "      <td>FALSE</td>\n",
              "      <td>0.81</td>\n",
              "    </tr>\n",
              "    <tr>\n",
              "      <th>4</th>\n",
              "      <td>economic turnaround started end term</td>\n",
              "      <td>charlie-crist</td>\n",
              "      <td>economy,jobs</td>\n",
              "      <td>half-true</td>\n",
              "      <td>0.76</td>\n",
              "    </tr>\n",
              "  </tbody>\n",
              "</table>\n",
              "</div>"
            ],
            "text/plain": [
              "                                                body  ... similarity\n",
              "0  says annies list political group supports thir...  ...       0.36\n",
              "1  decline coal start started natural gas took st...  ...       0.44\n",
              "2  hillary clinton agrees john mccain voting geor...  ...       0.44\n",
              "3  health care reform legislation likely mandate ...  ...       0.81\n",
              "4               economic turnaround started end term  ...       0.76\n",
              "\n",
              "[5 rows x 5 columns]"
            ]
          },
          "metadata": {
            "tags": []
          },
          "execution_count": 46
        }
      ]
    },
    {
      "cell_type": "code",
      "metadata": {
        "id": "HbuDR3Vaa9o2",
        "colab_type": "code",
        "outputId": "9bbccbab-62a1-4d6a-ac49-892edf3ebc46",
        "colab": {
          "base_uri": "https://localhost:8080/",
          "height": 293
        }
      },
      "source": [
        "dftest.tail()"
      ],
      "execution_count": 0,
      "outputs": [
        {
          "output_type": "execute_result",
          "data": {
            "text/html": [
              "<div>\n",
              "<style scoped>\n",
              "    .dataframe tbody tr th:only-of-type {\n",
              "        vertical-align: middle;\n",
              "    }\n",
              "\n",
              "    .dataframe tbody tr th {\n",
              "        vertical-align: top;\n",
              "    }\n",
              "\n",
              "    .dataframe thead th {\n",
              "        text-align: right;\n",
              "    }\n",
              "</style>\n",
              "<table border=\"1\" class=\"dataframe\">\n",
              "  <thead>\n",
              "    <tr style=\"text-align: right;\">\n",
              "      <th></th>\n",
              "      <th>body</th>\n",
              "      <th>author</th>\n",
              "      <th>title</th>\n",
              "      <th>fakeness</th>\n",
              "      <th>similarity</th>\n",
              "    </tr>\n",
              "  </thead>\n",
              "  <tbody>\n",
              "    <tr>\n",
              "      <th>2995</th>\n",
              "      <td>percentage texas high school students meeting ...</td>\n",
              "      <td>don-willett</td>\n",
              "      <td>children,education</td>\n",
              "      <td>TRUE</td>\n",
              "      <td>0.41</td>\n",
              "    </tr>\n",
              "    <tr>\n",
              "      <th>2996</th>\n",
              "      <td>obamas liberal fiscal agenda billion new spending</td>\n",
              "      <td>republican-national-committee-republican</td>\n",
              "      <td>federal-budget</td>\n",
              "      <td>half-true</td>\n",
              "      <td>0.35</td>\n",
              "    </tr>\n",
              "    <tr>\n",
              "      <th>2997</th>\n",
              "      <td>tommy thompson millions corporations outsource...</td>\n",
              "      <td>majority-pac</td>\n",
              "      <td>corporations,jobs,message-machine-2012,workers</td>\n",
              "      <td>half-true</td>\n",
              "      <td>0.48</td>\n",
              "    </tr>\n",
              "    <tr>\n",
              "      <th>2998</th>\n",
              "      <td>georgia welldeserved reputation setting gold s...</td>\n",
              "      <td>kevin-levitas</td>\n",
              "      <td>food-safety</td>\n",
              "      <td>FALSE</td>\n",
              "      <td>0.44</td>\n",
              "    </tr>\n",
              "    <tr>\n",
              "      <th>2999</th>\n",
              "      <td>asked unions pay health care insurance said un...</td>\n",
              "      <td>scott-walker</td>\n",
              "      <td>health-care,labor,state-budget,state-finances</td>\n",
              "      <td>barely-true</td>\n",
              "      <td>0.50</td>\n",
              "    </tr>\n",
              "  </tbody>\n",
              "</table>\n",
              "</div>"
            ],
            "text/plain": [
              "                                                   body  ... similarity\n",
              "2995  percentage texas high school students meeting ...  ...       0.41\n",
              "2996  obamas liberal fiscal agenda billion new spending  ...       0.35\n",
              "2997  tommy thompson millions corporations outsource...  ...       0.48\n",
              "2998  georgia welldeserved reputation setting gold s...  ...       0.44\n",
              "2999  asked unions pay health care insurance said un...  ...       0.50\n",
              "\n",
              "[5 rows x 5 columns]"
            ]
          },
          "metadata": {
            "tags": []
          },
          "execution_count": 47
        }
      ]
    },
    {
      "cell_type": "code",
      "metadata": {
        "id": "tuo3I-4FdnTr",
        "colab_type": "code",
        "outputId": "0d32f41e-f0ad-4f08-931a-07e094ec0f15",
        "colab": {
          "base_uri": "https://localhost:8080/",
          "height": 34
        }
      },
      "source": [
        "from sklearn import preprocessing\n",
        "label_encoder = preprocessing.LabelEncoder()\n",
        "label_encoder.fit(messages['fakeness'])"
      ],
      "execution_count": 0,
      "outputs": [
        {
          "output_type": "execute_result",
          "data": {
            "text/plain": [
              "LabelEncoder()"
            ]
          },
          "metadata": {
            "tags": []
          },
          "execution_count": 48
        }
      ]
    },
    {
      "cell_type": "code",
      "metadata": {
        "id": "60rx5_x8dQb6",
        "colab_type": "code",
        "colab": {}
      },
      "source": [
        "label = label_encoder.transform(messages['fakeness'])\n"
      ],
      "execution_count": 0,
      "outputs": []
    },
    {
      "cell_type": "code",
      "metadata": {
        "id": "SAV5OTx5d1Ym",
        "colab_type": "code",
        "colab": {}
      },
      "source": [
        "messages['fakeness'] = label"
      ],
      "execution_count": 0,
      "outputs": []
    },
    {
      "cell_type": "code",
      "metadata": {
        "id": "vxNKzhrAtlZb",
        "colab_type": "code",
        "colab": {}
      },
      "source": [
        "label = label_encoder.transform(dftest['fakeness'])\n"
      ],
      "execution_count": 0,
      "outputs": []
    },
    {
      "cell_type": "code",
      "metadata": {
        "id": "PxYRFvlotnh3",
        "colab_type": "code",
        "colab": {}
      },
      "source": [
        "dftest['fakeness'] = label"
      ],
      "execution_count": 0,
      "outputs": []
    },
    {
      "cell_type": "code",
      "metadata": {
        "id": "U51BF6XXd5l3",
        "colab_type": "code",
        "outputId": "029218b3-6bf0-40e6-fceb-090183c1cb15",
        "colab": {
          "base_uri": "https://localhost:8080/",
          "height": 206
        }
      },
      "source": [
        "messages.head()"
      ],
      "execution_count": 0,
      "outputs": [
        {
          "output_type": "execute_result",
          "data": {
            "text/html": [
              "<div>\n",
              "<style scoped>\n",
              "    .dataframe tbody tr th:only-of-type {\n",
              "        vertical-align: middle;\n",
              "    }\n",
              "\n",
              "    .dataframe tbody tr th {\n",
              "        vertical-align: top;\n",
              "    }\n",
              "\n",
              "    .dataframe thead th {\n",
              "        text-align: right;\n",
              "    }\n",
              "</style>\n",
              "<table border=\"1\" class=\"dataframe\">\n",
              "  <thead>\n",
              "    <tr style=\"text-align: right;\">\n",
              "      <th></th>\n",
              "      <th>body</th>\n",
              "      <th>author</th>\n",
              "      <th>title</th>\n",
              "      <th>fakeness</th>\n",
              "      <th>similarity</th>\n",
              "    </tr>\n",
              "  </thead>\n",
              "  <tbody>\n",
              "    <tr>\n",
              "      <th>0</th>\n",
              "      <td>says annies list political group supports thir...</td>\n",
              "      <td>dwayne-bohac</td>\n",
              "      <td>abortion</td>\n",
              "      <td>0</td>\n",
              "      <td>0.36</td>\n",
              "    </tr>\n",
              "    <tr>\n",
              "      <th>1</th>\n",
              "      <td>decline coal start started natural gas took st...</td>\n",
              "      <td>scott-surovell</td>\n",
              "      <td>energy,history,job-accomplishments</td>\n",
              "      <td>3</td>\n",
              "      <td>0.44</td>\n",
              "    </tr>\n",
              "    <tr>\n",
              "      <th>2</th>\n",
              "      <td>hillary clinton agrees john mccain voting geor...</td>\n",
              "      <td>barack-obama</td>\n",
              "      <td>foreign-policy</td>\n",
              "      <td>4</td>\n",
              "      <td>0.44</td>\n",
              "    </tr>\n",
              "    <tr>\n",
              "      <th>3</th>\n",
              "      <td>health care reform legislation likely mandate ...</td>\n",
              "      <td>blog-posting</td>\n",
              "      <td>health-care</td>\n",
              "      <td>0</td>\n",
              "      <td>0.81</td>\n",
              "    </tr>\n",
              "    <tr>\n",
              "      <th>4</th>\n",
              "      <td>economic turnaround started end term</td>\n",
              "      <td>charlie-crist</td>\n",
              "      <td>economy,jobs</td>\n",
              "      <td>3</td>\n",
              "      <td>0.76</td>\n",
              "    </tr>\n",
              "  </tbody>\n",
              "</table>\n",
              "</div>"
            ],
            "text/plain": [
              "                                                body  ... similarity\n",
              "0  says annies list political group supports thir...  ...       0.36\n",
              "1  decline coal start started natural gas took st...  ...       0.44\n",
              "2  hillary clinton agrees john mccain voting geor...  ...       0.44\n",
              "3  health care reform legislation likely mandate ...  ...       0.81\n",
              "4               economic turnaround started end term  ...       0.76\n",
              "\n",
              "[5 rows x 5 columns]"
            ]
          },
          "metadata": {
            "tags": []
          },
          "execution_count": 53
        }
      ]
    },
    {
      "cell_type": "code",
      "metadata": {
        "id": "ICziAeKAtrRH",
        "colab_type": "code",
        "outputId": "016945b0-f5db-4d27-e3b8-99693a9e47a2",
        "colab": {
          "base_uri": "https://localhost:8080/",
          "height": 206
        }
      },
      "source": [
        "dftest.head()"
      ],
      "execution_count": 0,
      "outputs": [
        {
          "output_type": "execute_result",
          "data": {
            "text/html": [
              "<div>\n",
              "<style scoped>\n",
              "    .dataframe tbody tr th:only-of-type {\n",
              "        vertical-align: middle;\n",
              "    }\n",
              "\n",
              "    .dataframe tbody tr th {\n",
              "        vertical-align: top;\n",
              "    }\n",
              "\n",
              "    .dataframe thead th {\n",
              "        text-align: right;\n",
              "    }\n",
              "</style>\n",
              "<table border=\"1\" class=\"dataframe\">\n",
              "  <thead>\n",
              "    <tr style=\"text-align: right;\">\n",
              "      <th></th>\n",
              "      <th>body</th>\n",
              "      <th>author</th>\n",
              "      <th>title</th>\n",
              "      <th>fakeness</th>\n",
              "      <th>similarity</th>\n",
              "    </tr>\n",
              "  </thead>\n",
              "  <tbody>\n",
              "    <tr>\n",
              "      <th>0</th>\n",
              "      <td>says annies list political group supports thir...</td>\n",
              "      <td>dwayne-bohac</td>\n",
              "      <td>abortion</td>\n",
              "      <td>0</td>\n",
              "      <td>0.36</td>\n",
              "    </tr>\n",
              "    <tr>\n",
              "      <th>1</th>\n",
              "      <td>decline coal start started natural gas took st...</td>\n",
              "      <td>scott-surovell</td>\n",
              "      <td>energy,history,job-accomplishments</td>\n",
              "      <td>3</td>\n",
              "      <td>0.44</td>\n",
              "    </tr>\n",
              "    <tr>\n",
              "      <th>2</th>\n",
              "      <td>hillary clinton agrees john mccain voting geor...</td>\n",
              "      <td>barack-obama</td>\n",
              "      <td>foreign-policy</td>\n",
              "      <td>4</td>\n",
              "      <td>0.44</td>\n",
              "    </tr>\n",
              "    <tr>\n",
              "      <th>3</th>\n",
              "      <td>health care reform legislation likely mandate ...</td>\n",
              "      <td>blog-posting</td>\n",
              "      <td>health-care</td>\n",
              "      <td>0</td>\n",
              "      <td>0.81</td>\n",
              "    </tr>\n",
              "    <tr>\n",
              "      <th>4</th>\n",
              "      <td>economic turnaround started end term</td>\n",
              "      <td>charlie-crist</td>\n",
              "      <td>economy,jobs</td>\n",
              "      <td>3</td>\n",
              "      <td>0.76</td>\n",
              "    </tr>\n",
              "  </tbody>\n",
              "</table>\n",
              "</div>"
            ],
            "text/plain": [
              "                                                body  ... similarity\n",
              "0  says annies list political group supports thir...  ...       0.36\n",
              "1  decline coal start started natural gas took st...  ...       0.44\n",
              "2  hillary clinton agrees john mccain voting geor...  ...       0.44\n",
              "3  health care reform legislation likely mandate ...  ...       0.81\n",
              "4               economic turnaround started end term  ...       0.76\n",
              "\n",
              "[5 rows x 5 columns]"
            ]
          },
          "metadata": {
            "tags": []
          },
          "execution_count": 54
        }
      ]
    },
    {
      "cell_type": "code",
      "metadata": {
        "id": "B-xrYProcM4Q",
        "colab_type": "code",
        "colab": {}
      },
      "source": [
        "Xtrain = messages[['similarity']].values\n",
        "Ytrain = messages.fakeness"
      ],
      "execution_count": 0,
      "outputs": []
    },
    {
      "cell_type": "code",
      "metadata": {
        "id": "mWVJE3A4g43I",
        "colab_type": "code",
        "outputId": "9e862d98-3ed7-4366-def4-4250f591e839",
        "colab": {
          "base_uri": "https://localhost:8080/",
          "height": 34
        }
      },
      "source": [
        "Xtrain.shape"
      ],
      "execution_count": 0,
      "outputs": [
        {
          "output_type": "execute_result",
          "data": {
            "text/plain": [
              "(12789, 1)"
            ]
          },
          "metadata": {
            "tags": []
          },
          "execution_count": 56
        }
      ]
    },
    {
      "cell_type": "code",
      "metadata": {
        "id": "oBSuiJ5styfZ",
        "colab_type": "code",
        "outputId": "37b8291a-b1d2-4455-c3e7-3d7d0bc96fd7",
        "colab": {
          "base_uri": "https://localhost:8080/",
          "height": 34
        }
      },
      "source": [
        "Ytrain.shape"
      ],
      "execution_count": 0,
      "outputs": [
        {
          "output_type": "execute_result",
          "data": {
            "text/plain": [
              "(12789,)"
            ]
          },
          "metadata": {
            "tags": []
          },
          "execution_count": 57
        }
      ]
    },
    {
      "cell_type": "code",
      "metadata": {
        "id": "4xvILVDTcrBk",
        "colab_type": "code",
        "colab": {}
      },
      "source": [
        "Xtest = dftest[['similarity']].values\n",
        "Ytest = dftest.fakeness"
      ],
      "execution_count": 0,
      "outputs": []
    },
    {
      "cell_type": "code",
      "metadata": {
        "id": "ToKR11jjtY0V",
        "colab_type": "code",
        "outputId": "81d4abf0-6f32-4b13-f80f-f919858e901d",
        "colab": {
          "base_uri": "https://localhost:8080/",
          "height": 34
        }
      },
      "source": [
        "Xtest.shape"
      ],
      "execution_count": 0,
      "outputs": [
        {
          "output_type": "execute_result",
          "data": {
            "text/plain": [
              "(3000, 1)"
            ]
          },
          "metadata": {
            "tags": []
          },
          "execution_count": 59
        }
      ]
    },
    {
      "cell_type": "code",
      "metadata": {
        "id": "mQJTd4sHr_fZ",
        "colab_type": "code",
        "outputId": "68b419e6-74c3-4f1c-c901-86c961a2040d",
        "colab": {
          "base_uri": "https://localhost:8080/",
          "height": 34
        }
      },
      "source": [
        "Ytest.shape"
      ],
      "execution_count": 0,
      "outputs": [
        {
          "output_type": "execute_result",
          "data": {
            "text/plain": [
              "(3000,)"
            ]
          },
          "metadata": {
            "tags": []
          },
          "execution_count": 60
        }
      ]
    },
    {
      "cell_type": "code",
      "metadata": {
        "id": "nUVzSzHGg6oK",
        "colab_type": "code",
        "outputId": "2ed95079-b507-44ad-88d2-a56aaf7c451a",
        "colab": {
          "base_uri": "https://localhost:8080/",
          "height": 34
        }
      },
      "source": [
        "Xtest.shape"
      ],
      "execution_count": 0,
      "outputs": [
        {
          "output_type": "execute_result",
          "data": {
            "text/plain": [
              "(3000, 1)"
            ]
          },
          "metadata": {
            "tags": []
          },
          "execution_count": 61
        }
      ]
    },
    {
      "cell_type": "markdown",
      "metadata": {
        "id": "eEtNiyKvibyV",
        "colab_type": "text"
      },
      "source": [
        "###Random Forest"
      ]
    },
    {
      "cell_type": "code",
      "metadata": {
        "id": "uZYbNWWnh8U8",
        "colab_type": "code",
        "colab": {}
      },
      "source": [
        "from xgboost import XGBClassifier\n",
        "from sklearn.ensemble import RandomForestClassifier"
      ],
      "execution_count": 0,
      "outputs": []
    },
    {
      "cell_type": "code",
      "metadata": {
        "id": "Mp2YpQerj6Df",
        "colab_type": "code",
        "colab": {}
      },
      "source": [
        "from sklearn import  metrics"
      ],
      "execution_count": 0,
      "outputs": []
    },
    {
      "cell_type": "code",
      "metadata": {
        "id": "FVD5fcyajI7A",
        "colab_type": "code",
        "colab": {}
      },
      "source": [
        "rf = RandomForestClassifier(n_estimators=100,n_jobs=3)"
      ],
      "execution_count": 0,
      "outputs": []
    },
    {
      "cell_type": "code",
      "metadata": {
        "id": "k0PL32W2jPCR",
        "colab_type": "code",
        "colab": {}
      },
      "source": [
        "rf.fit(Xtrain, Ytrain)\n",
        "y_pred_rf = rf.predict(Xtest)"
      ],
      "execution_count": 0,
      "outputs": []
    },
    {
      "cell_type": "code",
      "metadata": {
        "id": "W1344J9fjivj",
        "colab_type": "code",
        "outputId": "1b7a4776-0629-4190-d074-7e34a88ea41b",
        "colab": {
          "base_uri": "https://localhost:8080/",
          "height": 34
        }
      },
      "source": [
        "y_pred_rf"
      ],
      "execution_count": 0,
      "outputs": [
        {
          "output_type": "execute_result",
          "data": {
            "text/plain": [
              "array([3, 3, 3, ..., 3, 3, 3])"
            ]
          },
          "metadata": {
            "tags": []
          },
          "execution_count": 66
        }
      ]
    },
    {
      "cell_type": "code",
      "metadata": {
        "id": "WmcneAjkkIP1",
        "colab_type": "code",
        "outputId": "68ca05cc-e87f-41ee-fa50-b4b1e0ddc4ab",
        "colab": {
          "base_uri": "https://localhost:8080/",
          "height": 34
        }
      },
      "source": [
        "np.unique(y_pred_rf)"
      ],
      "execution_count": 0,
      "outputs": [
        {
          "output_type": "execute_result",
          "data": {
            "text/plain": [
              "array([0, 1, 2, 3, 4, 5])"
            ]
          },
          "metadata": {
            "tags": []
          },
          "execution_count": 67
        }
      ]
    },
    {
      "cell_type": "code",
      "metadata": {
        "id": "jSEx07yFsJta",
        "colab_type": "code",
        "outputId": "6abf1b20-76a2-4f53-901b-fdf48cad3901",
        "colab": {
          "base_uri": "https://localhost:8080/",
          "height": 34
        }
      },
      "source": [
        "metrics.accuracy_score(Ytest, y_pred_rf)"
      ],
      "execution_count": 0,
      "outputs": [
        {
          "output_type": "execute_result",
          "data": {
            "text/plain": [
              "0.22966666666666666"
            ]
          },
          "metadata": {
            "tags": []
          },
          "execution_count": 68
        }
      ]
    },
    {
      "cell_type": "code",
      "metadata": {
        "id": "m7dHK7gNjjvr",
        "colab_type": "code",
        "outputId": "cbc4ad46-b0ee-4453-c84f-8ce6f96afe42",
        "colab": {
          "base_uri": "https://localhost:8080/",
          "height": 54
        }
      },
      "source": [
        "metrics.classification_report(Ytest, y_pred_rf)"
      ],
      "execution_count": 0,
      "outputs": [
        {
          "output_type": "execute_result",
          "data": {
            "text/plain": [
              "'              precision    recall  f1-score   support\\n\\n           0       0.25      0.28      0.26       618\\n           1       0.21      0.03      0.06       508\\n           2       0.24      0.08      0.12       462\\n           3       0.21      0.45      0.29       570\\n           4       0.24      0.36      0.29       583\\n           5       0.17      0.01      0.01       259\\n\\n    accuracy                           0.23      3000\\n   macro avg       0.22      0.20      0.17      3000\\nweighted avg       0.23      0.23      0.19      3000\\n'"
            ]
          },
          "metadata": {
            "tags": []
          },
          "execution_count": 69
        }
      ]
    },
    {
      "cell_type": "markdown",
      "metadata": {
        "id": "FIhcjfkImUB9",
        "colab_type": "text"
      },
      "source": [
        "###XGBOOST"
      ]
    },
    {
      "cell_type": "code",
      "metadata": {
        "id": "JQ5t0RQ2mPCv",
        "colab_type": "code",
        "colab": {}
      },
      "source": [
        "xgb = XGBClassifier()"
      ],
      "execution_count": 0,
      "outputs": []
    },
    {
      "cell_type": "code",
      "metadata": {
        "id": "zE_yj2n3maWu",
        "colab_type": "code",
        "colab": {}
      },
      "source": [
        "xgb.fit(Xtrain, Ytrain)\n",
        "ypred_xg = xgb.predict(Xtest)"
      ],
      "execution_count": 0,
      "outputs": []
    },
    {
      "cell_type": "code",
      "metadata": {
        "id": "Bbg1E48Ami8_",
        "colab_type": "code",
        "outputId": "3abdda31-2f06-4480-844e-de918e4a315b",
        "colab": {
          "base_uri": "https://localhost:8080/",
          "height": 34
        }
      },
      "source": [
        "metrics.accuracy_score(Ytest, ypred_xg)"
      ],
      "execution_count": 0,
      "outputs": [
        {
          "output_type": "execute_result",
          "data": {
            "text/plain": [
              "0.22066666666666668"
            ]
          },
          "metadata": {
            "tags": []
          },
          "execution_count": 72
        }
      ]
    },
    {
      "cell_type": "code",
      "metadata": {
        "id": "x4QIXxDUnIjU",
        "colab_type": "code",
        "outputId": "56edfa33-1ae1-4b78-8a25-cddbf3ea08bb",
        "colab": {
          "base_uri": "https://localhost:8080/",
          "height": 34
        }
      },
      "source": [
        "np.unique(ypred_xg)"
      ],
      "execution_count": 0,
      "outputs": [
        {
          "output_type": "execute_result",
          "data": {
            "text/plain": [
              "array([0, 1, 2, 3, 4])"
            ]
          },
          "metadata": {
            "tags": []
          },
          "execution_count": 73
        }
      ]
    },
    {
      "cell_type": "code",
      "metadata": {
        "id": "eAxfhfkxrVAP",
        "colab_type": "code",
        "colab": {}
      },
      "source": [
        ""
      ],
      "execution_count": 0,
      "outputs": []
    },
    {
      "cell_type": "code",
      "metadata": {
        "id": "yQyE4z35t_Np",
        "colab_type": "code",
        "colab": {}
      },
      "source": [
        "textlabel = label_encoder.inverse_transform(y_pred_rf)"
      ],
      "execution_count": 0,
      "outputs": []
    },
    {
      "cell_type": "code",
      "metadata": {
        "id": "cD68F2PR8Rzo",
        "colab_type": "code",
        "colab": {}
      },
      "source": [
        "textlabel1 = label_encoder.inverse_transform(Ytest)"
      ],
      "execution_count": 0,
      "outputs": []
    },
    {
      "cell_type": "code",
      "metadata": {
        "id": "bBi_190iud5P",
        "colab_type": "code",
        "outputId": "746acda5-6ea7-474a-f7af-41edbfd8c41d",
        "colab": {
          "base_uri": "https://localhost:8080/",
          "height": 52
        }
      },
      "source": [
        "np.unique(textlabel)"
      ],
      "execution_count": 0,
      "outputs": [
        {
          "output_type": "execute_result",
          "data": {
            "text/plain": [
              "array(['FALSE', 'TRUE', 'barely-true', 'half-true', 'mostly-true',\n",
              "       'pants-fire'], dtype=object)"
            ]
          },
          "metadata": {
            "tags": []
          },
          "execution_count": 76
        }
      ]
    },
    {
      "cell_type": "code",
      "metadata": {
        "id": "pXEudtr7vBX5",
        "colab_type": "code",
        "colab": {}
      },
      "source": [
        "noderankdf = pd.read_csv(base_dir+'/Alternus_vera/Classification_3.csv')"
      ],
      "execution_count": 0,
      "outputs": []
    },
    {
      "cell_type": "code",
      "metadata": {
        "id": "9L1WoratvBSd",
        "colab_type": "code",
        "outputId": "ee3e0ff1-7c22-49ca-9c0a-fd09414be2a6",
        "colab": {
          "base_uri": "https://localhost:8080/",
          "height": 206
        }
      },
      "source": [
        "noderankdf.head()"
      ],
      "execution_count": 0,
      "outputs": [
        {
          "output_type": "execute_result",
          "data": {
            "text/html": [
              "<div>\n",
              "<style scoped>\n",
              "    .dataframe tbody tr th:only-of-type {\n",
              "        vertical-align: middle;\n",
              "    }\n",
              "\n",
              "    .dataframe tbody tr th {\n",
              "        vertical-align: top;\n",
              "    }\n",
              "\n",
              "    .dataframe thead th {\n",
              "        text-align: right;\n",
              "    }\n",
              "</style>\n",
              "<table border=\"1\" class=\"dataframe\">\n",
              "  <thead>\n",
              "    <tr style=\"text-align: right;\">\n",
              "      <th></th>\n",
              "      <th>Unnamed: 0</th>\n",
              "      <th>Unnamed: 0.1</th>\n",
              "      <th>Unnamed: 0.1.1</th>\n",
              "      <th>NodeRankClass</th>\n",
              "      <th>politicalbiasClass</th>\n",
              "      <th>clickbaitclass</th>\n",
              "    </tr>\n",
              "  </thead>\n",
              "  <tbody>\n",
              "    <tr>\n",
              "      <th>0</th>\n",
              "      <td>0</td>\n",
              "      <td>0</td>\n",
              "      <td>0</td>\n",
              "      <td>FALSE</td>\n",
              "      <td>FALSE</td>\n",
              "      <td>FALSE</td>\n",
              "    </tr>\n",
              "    <tr>\n",
              "      <th>1</th>\n",
              "      <td>1</td>\n",
              "      <td>1</td>\n",
              "      <td>1</td>\n",
              "      <td>half-true</td>\n",
              "      <td>mostly-true</td>\n",
              "      <td>half-true</td>\n",
              "    </tr>\n",
              "    <tr>\n",
              "      <th>2</th>\n",
              "      <td>2</td>\n",
              "      <td>2</td>\n",
              "      <td>2</td>\n",
              "      <td>mostly-true</td>\n",
              "      <td>mostly-true</td>\n",
              "      <td>mostly-true</td>\n",
              "    </tr>\n",
              "    <tr>\n",
              "      <th>3</th>\n",
              "      <td>3</td>\n",
              "      <td>3</td>\n",
              "      <td>3</td>\n",
              "      <td>mostly-true</td>\n",
              "      <td>half-true</td>\n",
              "      <td>FALSE</td>\n",
              "    </tr>\n",
              "    <tr>\n",
              "      <th>4</th>\n",
              "      <td>4</td>\n",
              "      <td>4</td>\n",
              "      <td>4</td>\n",
              "      <td>FALSE</td>\n",
              "      <td>mostly-true</td>\n",
              "      <td>TRUE</td>\n",
              "    </tr>\n",
              "  </tbody>\n",
              "</table>\n",
              "</div>"
            ],
            "text/plain": [
              "   Unnamed: 0  Unnamed: 0.1  ...  politicalbiasClass clickbaitclass\n",
              "0           0             0  ...               FALSE          FALSE\n",
              "1           1             1  ...         mostly-true      half-true\n",
              "2           2             2  ...         mostly-true    mostly-true\n",
              "3           3             3  ...           half-true          FALSE\n",
              "4           4             4  ...         mostly-true           TRUE\n",
              "\n",
              "[5 rows x 6 columns]"
            ]
          },
          "metadata": {
            "tags": []
          },
          "execution_count": 78
        }
      ]
    },
    {
      "cell_type": "code",
      "metadata": {
        "id": "MKVX80I0vA_r",
        "colab_type": "code",
        "outputId": "e8a2a33b-64e1-4154-a47a-b2d200077735",
        "colab": {
          "base_uri": "https://localhost:8080/",
          "height": 69
        }
      },
      "source": [
        "noderankdf.columns"
      ],
      "execution_count": 0,
      "outputs": [
        {
          "output_type": "execute_result",
          "data": {
            "text/plain": [
              "Index(['Unnamed: 0', 'Unnamed: 0.1', 'Unnamed: 0.1.1', 'NodeRankClass',\n",
              "       'politicalbiasClass', 'clickbaitclass'],\n",
              "      dtype='object')"
            ]
          },
          "metadata": {
            "tags": []
          },
          "execution_count": 79
        }
      ]
    },
    {
      "cell_type": "code",
      "metadata": {
        "id": "wg_h6idAvKiX",
        "colab_type": "code",
        "colab": {}
      },
      "source": [
        "noderankdf = noderankdf.drop(['Unnamed: 0', 'Unnamed: 0.1', 'Unnamed: 0.1.1'], axis=1)"
      ],
      "execution_count": 0,
      "outputs": []
    },
    {
      "cell_type": "code",
      "metadata": {
        "id": "fyjADEksvTsX",
        "colab_type": "code",
        "outputId": "f44482da-dfd9-49dd-df56-56bbecc9a06e",
        "colab": {
          "base_uri": "https://localhost:8080/",
          "height": 206
        }
      },
      "source": [
        "noderankdf.head()"
      ],
      "execution_count": 0,
      "outputs": [
        {
          "output_type": "execute_result",
          "data": {
            "text/html": [
              "<div>\n",
              "<style scoped>\n",
              "    .dataframe tbody tr th:only-of-type {\n",
              "        vertical-align: middle;\n",
              "    }\n",
              "\n",
              "    .dataframe tbody tr th {\n",
              "        vertical-align: top;\n",
              "    }\n",
              "\n",
              "    .dataframe thead th {\n",
              "        text-align: right;\n",
              "    }\n",
              "</style>\n",
              "<table border=\"1\" class=\"dataframe\">\n",
              "  <thead>\n",
              "    <tr style=\"text-align: right;\">\n",
              "      <th></th>\n",
              "      <th>NodeRankClass</th>\n",
              "      <th>politicalbiasClass</th>\n",
              "      <th>clickbaitclass</th>\n",
              "    </tr>\n",
              "  </thead>\n",
              "  <tbody>\n",
              "    <tr>\n",
              "      <th>0</th>\n",
              "      <td>FALSE</td>\n",
              "      <td>FALSE</td>\n",
              "      <td>FALSE</td>\n",
              "    </tr>\n",
              "    <tr>\n",
              "      <th>1</th>\n",
              "      <td>half-true</td>\n",
              "      <td>mostly-true</td>\n",
              "      <td>half-true</td>\n",
              "    </tr>\n",
              "    <tr>\n",
              "      <th>2</th>\n",
              "      <td>mostly-true</td>\n",
              "      <td>mostly-true</td>\n",
              "      <td>mostly-true</td>\n",
              "    </tr>\n",
              "    <tr>\n",
              "      <th>3</th>\n",
              "      <td>mostly-true</td>\n",
              "      <td>half-true</td>\n",
              "      <td>FALSE</td>\n",
              "    </tr>\n",
              "    <tr>\n",
              "      <th>4</th>\n",
              "      <td>FALSE</td>\n",
              "      <td>mostly-true</td>\n",
              "      <td>TRUE</td>\n",
              "    </tr>\n",
              "  </tbody>\n",
              "</table>\n",
              "</div>"
            ],
            "text/plain": [
              "  NodeRankClass politicalbiasClass clickbaitclass\n",
              "0         FALSE              FALSE          FALSE\n",
              "1     half-true        mostly-true      half-true\n",
              "2   mostly-true        mostly-true    mostly-true\n",
              "3   mostly-true          half-true          FALSE\n",
              "4         FALSE        mostly-true           TRUE"
            ]
          },
          "metadata": {
            "tags": []
          },
          "execution_count": 81
        }
      ]
    },
    {
      "cell_type": "code",
      "metadata": {
        "id": "GixHnNua86uL",
        "colab_type": "code",
        "colab": {}
      },
      "source": [
        "noderankdf['ActualClass'] = textlabel1"
      ],
      "execution_count": 0,
      "outputs": []
    },
    {
      "cell_type": "code",
      "metadata": {
        "id": "rOJCUeZC9AXc",
        "colab_type": "code",
        "colab": {}
      },
      "source": [
        "noderankdf['titlebodyclass'] = textlabel"
      ],
      "execution_count": 0,
      "outputs": []
    },
    {
      "cell_type": "code",
      "metadata": {
        "id": "Bi_vbAUJ9Dvm",
        "colab_type": "code",
        "outputId": "fdcfbe00-37bc-45f6-9ccd-fae028cdd4c9",
        "colab": {
          "base_uri": "https://localhost:8080/",
          "height": 206
        }
      },
      "source": [
        "noderankdf.head()"
      ],
      "execution_count": 0,
      "outputs": [
        {
          "output_type": "execute_result",
          "data": {
            "text/html": [
              "<div>\n",
              "<style scoped>\n",
              "    .dataframe tbody tr th:only-of-type {\n",
              "        vertical-align: middle;\n",
              "    }\n",
              "\n",
              "    .dataframe tbody tr th {\n",
              "        vertical-align: top;\n",
              "    }\n",
              "\n",
              "    .dataframe thead th {\n",
              "        text-align: right;\n",
              "    }\n",
              "</style>\n",
              "<table border=\"1\" class=\"dataframe\">\n",
              "  <thead>\n",
              "    <tr style=\"text-align: right;\">\n",
              "      <th></th>\n",
              "      <th>NodeRankClass</th>\n",
              "      <th>politicalbiasClass</th>\n",
              "      <th>clickbaitclass</th>\n",
              "      <th>ActualClass</th>\n",
              "      <th>titlebodyclass</th>\n",
              "    </tr>\n",
              "  </thead>\n",
              "  <tbody>\n",
              "    <tr>\n",
              "      <th>0</th>\n",
              "      <td>FALSE</td>\n",
              "      <td>FALSE</td>\n",
              "      <td>FALSE</td>\n",
              "      <td>FALSE</td>\n",
              "      <td>half-true</td>\n",
              "    </tr>\n",
              "    <tr>\n",
              "      <th>1</th>\n",
              "      <td>half-true</td>\n",
              "      <td>mostly-true</td>\n",
              "      <td>half-true</td>\n",
              "      <td>half-true</td>\n",
              "      <td>half-true</td>\n",
              "    </tr>\n",
              "    <tr>\n",
              "      <th>2</th>\n",
              "      <td>mostly-true</td>\n",
              "      <td>mostly-true</td>\n",
              "      <td>mostly-true</td>\n",
              "      <td>mostly-true</td>\n",
              "      <td>half-true</td>\n",
              "    </tr>\n",
              "    <tr>\n",
              "      <th>3</th>\n",
              "      <td>mostly-true</td>\n",
              "      <td>half-true</td>\n",
              "      <td>FALSE</td>\n",
              "      <td>FALSE</td>\n",
              "      <td>half-true</td>\n",
              "    </tr>\n",
              "    <tr>\n",
              "      <th>4</th>\n",
              "      <td>FALSE</td>\n",
              "      <td>mostly-true</td>\n",
              "      <td>TRUE</td>\n",
              "      <td>half-true</td>\n",
              "      <td>half-true</td>\n",
              "    </tr>\n",
              "  </tbody>\n",
              "</table>\n",
              "</div>"
            ],
            "text/plain": [
              "  NodeRankClass politicalbiasClass clickbaitclass  ActualClass titlebodyclass\n",
              "0         FALSE              FALSE          FALSE        FALSE      half-true\n",
              "1     half-true        mostly-true      half-true    half-true      half-true\n",
              "2   mostly-true        mostly-true    mostly-true  mostly-true      half-true\n",
              "3   mostly-true          half-true          FALSE        FALSE      half-true\n",
              "4         FALSE        mostly-true           TRUE    half-true      half-true"
            ]
          },
          "metadata": {
            "tags": []
          },
          "execution_count": 84
        }
      ]
    },
    {
      "cell_type": "code",
      "metadata": {
        "id": "1qCXPAMhuoix",
        "colab_type": "code",
        "colab": {}
      },
      "source": [
        " with open(base_dir + '/Alternus_vera/Classification_4.csv', 'a') as f:\n",
        "      noderankdf.to_csv(f)"
      ],
      "execution_count": 0,
      "outputs": []
    },
    {
      "cell_type": "code",
      "metadata": {
        "id": "3sNUvW2o9GyY",
        "colab_type": "code",
        "outputId": "c0af4850-7d60-40b6-d1a4-710aec5f3848",
        "colab": {
          "base_uri": "https://localhost:8080/",
          "height": 206
        }
      },
      "source": [
        "noderankdf.head()"
      ],
      "execution_count": 0,
      "outputs": [
        {
          "output_type": "execute_result",
          "data": {
            "text/html": [
              "<div>\n",
              "<style scoped>\n",
              "    .dataframe tbody tr th:only-of-type {\n",
              "        vertical-align: middle;\n",
              "    }\n",
              "\n",
              "    .dataframe tbody tr th {\n",
              "        vertical-align: top;\n",
              "    }\n",
              "\n",
              "    .dataframe thead th {\n",
              "        text-align: right;\n",
              "    }\n",
              "</style>\n",
              "<table border=\"1\" class=\"dataframe\">\n",
              "  <thead>\n",
              "    <tr style=\"text-align: right;\">\n",
              "      <th></th>\n",
              "      <th>NodeRankClass</th>\n",
              "      <th>politicalbiasClass</th>\n",
              "      <th>clickbaitclass</th>\n",
              "      <th>ActualClass</th>\n",
              "      <th>titlebodyclass</th>\n",
              "    </tr>\n",
              "  </thead>\n",
              "  <tbody>\n",
              "    <tr>\n",
              "      <th>0</th>\n",
              "      <td>FALSE</td>\n",
              "      <td>FALSE</td>\n",
              "      <td>FALSE</td>\n",
              "      <td>FALSE</td>\n",
              "      <td>half-true</td>\n",
              "    </tr>\n",
              "    <tr>\n",
              "      <th>1</th>\n",
              "      <td>half-true</td>\n",
              "      <td>mostly-true</td>\n",
              "      <td>half-true</td>\n",
              "      <td>half-true</td>\n",
              "      <td>half-true</td>\n",
              "    </tr>\n",
              "    <tr>\n",
              "      <th>2</th>\n",
              "      <td>mostly-true</td>\n",
              "      <td>mostly-true</td>\n",
              "      <td>mostly-true</td>\n",
              "      <td>mostly-true</td>\n",
              "      <td>half-true</td>\n",
              "    </tr>\n",
              "    <tr>\n",
              "      <th>3</th>\n",
              "      <td>mostly-true</td>\n",
              "      <td>half-true</td>\n",
              "      <td>FALSE</td>\n",
              "      <td>FALSE</td>\n",
              "      <td>half-true</td>\n",
              "    </tr>\n",
              "    <tr>\n",
              "      <th>4</th>\n",
              "      <td>FALSE</td>\n",
              "      <td>mostly-true</td>\n",
              "      <td>TRUE</td>\n",
              "      <td>half-true</td>\n",
              "      <td>half-true</td>\n",
              "    </tr>\n",
              "  </tbody>\n",
              "</table>\n",
              "</div>"
            ],
            "text/plain": [
              "  NodeRankClass politicalbiasClass clickbaitclass  ActualClass titlebodyclass\n",
              "0         FALSE              FALSE          FALSE        FALSE      half-true\n",
              "1     half-true        mostly-true      half-true    half-true      half-true\n",
              "2   mostly-true        mostly-true    mostly-true  mostly-true      half-true\n",
              "3   mostly-true          half-true          FALSE        FALSE      half-true\n",
              "4         FALSE        mostly-true           TRUE    half-true      half-true"
            ]
          },
          "metadata": {
            "tags": []
          },
          "execution_count": 86
        }
      ]
    },
    {
      "cell_type": "code",
      "metadata": {
        "id": "HacDB1CbB705",
        "colab_type": "code",
        "colab": {}
      },
      "source": [
        "noderankdf = noderankdf[['NodeRankClass', 'politicalbiasClass', 'clickbaitclass', 'titlebodyclass']]"
      ],
      "execution_count": 0,
      "outputs": []
    },
    {
      "cell_type": "code",
      "metadata": {
        "id": "xFPPyXd-CUDe",
        "colab_type": "code",
        "outputId": "7401db46-980f-48c1-feb0-ac0a6af59ad3",
        "colab": {
          "base_uri": "https://localhost:8080/",
          "height": 206
        }
      },
      "source": [
        "noderankdf.head()"
      ],
      "execution_count": 0,
      "outputs": [
        {
          "output_type": "execute_result",
          "data": {
            "text/html": [
              "<div>\n",
              "<style scoped>\n",
              "    .dataframe tbody tr th:only-of-type {\n",
              "        vertical-align: middle;\n",
              "    }\n",
              "\n",
              "    .dataframe tbody tr th {\n",
              "        vertical-align: top;\n",
              "    }\n",
              "\n",
              "    .dataframe thead th {\n",
              "        text-align: right;\n",
              "    }\n",
              "</style>\n",
              "<table border=\"1\" class=\"dataframe\">\n",
              "  <thead>\n",
              "    <tr style=\"text-align: right;\">\n",
              "      <th></th>\n",
              "      <th>NodeRankClass</th>\n",
              "      <th>politicalbiasClass</th>\n",
              "      <th>clickbaitclass</th>\n",
              "      <th>titlebodyclass</th>\n",
              "    </tr>\n",
              "  </thead>\n",
              "  <tbody>\n",
              "    <tr>\n",
              "      <th>0</th>\n",
              "      <td>FALSE</td>\n",
              "      <td>FALSE</td>\n",
              "      <td>FALSE</td>\n",
              "      <td>half-true</td>\n",
              "    </tr>\n",
              "    <tr>\n",
              "      <th>1</th>\n",
              "      <td>half-true</td>\n",
              "      <td>mostly-true</td>\n",
              "      <td>half-true</td>\n",
              "      <td>half-true</td>\n",
              "    </tr>\n",
              "    <tr>\n",
              "      <th>2</th>\n",
              "      <td>mostly-true</td>\n",
              "      <td>mostly-true</td>\n",
              "      <td>mostly-true</td>\n",
              "      <td>half-true</td>\n",
              "    </tr>\n",
              "    <tr>\n",
              "      <th>3</th>\n",
              "      <td>mostly-true</td>\n",
              "      <td>half-true</td>\n",
              "      <td>FALSE</td>\n",
              "      <td>half-true</td>\n",
              "    </tr>\n",
              "    <tr>\n",
              "      <th>4</th>\n",
              "      <td>FALSE</td>\n",
              "      <td>mostly-true</td>\n",
              "      <td>TRUE</td>\n",
              "      <td>half-true</td>\n",
              "    </tr>\n",
              "  </tbody>\n",
              "</table>\n",
              "</div>"
            ],
            "text/plain": [
              "  NodeRankClass politicalbiasClass clickbaitclass titlebodyclass\n",
              "0         FALSE              FALSE          FALSE      half-true\n",
              "1     half-true        mostly-true      half-true      half-true\n",
              "2   mostly-true        mostly-true    mostly-true      half-true\n",
              "3   mostly-true          half-true          FALSE      half-true\n",
              "4         FALSE        mostly-true           TRUE      half-true"
            ]
          },
          "metadata": {
            "tags": []
          },
          "execution_count": 88
        }
      ]
    },
    {
      "cell_type": "code",
      "metadata": {
        "id": "UlvMj9opBzlK",
        "colab_type": "code",
        "colab": {}
      },
      "source": [
        "noderankdf['Finalclass'] = noderankdf.mode(axis=1)[0]"
      ],
      "execution_count": 0,
      "outputs": []
    },
    {
      "cell_type": "code",
      "metadata": {
        "id": "47uNG8N8CSZ5",
        "colab_type": "code",
        "outputId": "d6289e2a-b6cd-4439-d711-a4788dc74e5e",
        "colab": {
          "base_uri": "https://localhost:8080/",
          "height": 206
        }
      },
      "source": [
        "noderankdf.head()"
      ],
      "execution_count": 0,
      "outputs": [
        {
          "output_type": "execute_result",
          "data": {
            "text/html": [
              "<div>\n",
              "<style scoped>\n",
              "    .dataframe tbody tr th:only-of-type {\n",
              "        vertical-align: middle;\n",
              "    }\n",
              "\n",
              "    .dataframe tbody tr th {\n",
              "        vertical-align: top;\n",
              "    }\n",
              "\n",
              "    .dataframe thead th {\n",
              "        text-align: right;\n",
              "    }\n",
              "</style>\n",
              "<table border=\"1\" class=\"dataframe\">\n",
              "  <thead>\n",
              "    <tr style=\"text-align: right;\">\n",
              "      <th></th>\n",
              "      <th>NodeRankClass</th>\n",
              "      <th>politicalbiasClass</th>\n",
              "      <th>clickbaitclass</th>\n",
              "      <th>titlebodyclass</th>\n",
              "      <th>Finalclass</th>\n",
              "    </tr>\n",
              "  </thead>\n",
              "  <tbody>\n",
              "    <tr>\n",
              "      <th>0</th>\n",
              "      <td>FALSE</td>\n",
              "      <td>FALSE</td>\n",
              "      <td>FALSE</td>\n",
              "      <td>half-true</td>\n",
              "      <td>FALSE</td>\n",
              "    </tr>\n",
              "    <tr>\n",
              "      <th>1</th>\n",
              "      <td>half-true</td>\n",
              "      <td>mostly-true</td>\n",
              "      <td>half-true</td>\n",
              "      <td>half-true</td>\n",
              "      <td>half-true</td>\n",
              "    </tr>\n",
              "    <tr>\n",
              "      <th>2</th>\n",
              "      <td>mostly-true</td>\n",
              "      <td>mostly-true</td>\n",
              "      <td>mostly-true</td>\n",
              "      <td>half-true</td>\n",
              "      <td>mostly-true</td>\n",
              "    </tr>\n",
              "    <tr>\n",
              "      <th>3</th>\n",
              "      <td>mostly-true</td>\n",
              "      <td>half-true</td>\n",
              "      <td>FALSE</td>\n",
              "      <td>half-true</td>\n",
              "      <td>half-true</td>\n",
              "    </tr>\n",
              "    <tr>\n",
              "      <th>4</th>\n",
              "      <td>FALSE</td>\n",
              "      <td>mostly-true</td>\n",
              "      <td>TRUE</td>\n",
              "      <td>half-true</td>\n",
              "      <td>FALSE</td>\n",
              "    </tr>\n",
              "  </tbody>\n",
              "</table>\n",
              "</div>"
            ],
            "text/plain": [
              "  NodeRankClass politicalbiasClass clickbaitclass titlebodyclass   Finalclass\n",
              "0         FALSE              FALSE          FALSE      half-true        FALSE\n",
              "1     half-true        mostly-true      half-true      half-true    half-true\n",
              "2   mostly-true        mostly-true    mostly-true      half-true  mostly-true\n",
              "3   mostly-true          half-true          FALSE      half-true    half-true\n",
              "4         FALSE        mostly-true           TRUE      half-true        FALSE"
            ]
          },
          "metadata": {
            "tags": []
          },
          "execution_count": 90
        }
      ]
    },
    {
      "cell_type": "code",
      "metadata": {
        "id": "ukoy5vvFDecL",
        "colab_type": "code",
        "outputId": "48c8b818-758c-4c90-ae5a-5a43f47fb1ec",
        "colab": {
          "base_uri": "https://localhost:8080/",
          "height": 206
        }
      },
      "source": [
        "noderankdf.tail()"
      ],
      "execution_count": 0,
      "outputs": [
        {
          "output_type": "execute_result",
          "data": {
            "text/html": [
              "<div>\n",
              "<style scoped>\n",
              "    .dataframe tbody tr th:only-of-type {\n",
              "        vertical-align: middle;\n",
              "    }\n",
              "\n",
              "    .dataframe tbody tr th {\n",
              "        vertical-align: top;\n",
              "    }\n",
              "\n",
              "    .dataframe thead th {\n",
              "        text-align: right;\n",
              "    }\n",
              "</style>\n",
              "<table border=\"1\" class=\"dataframe\">\n",
              "  <thead>\n",
              "    <tr style=\"text-align: right;\">\n",
              "      <th></th>\n",
              "      <th>NodeRankClass</th>\n",
              "      <th>politicalbiasClass</th>\n",
              "      <th>clickbaitclass</th>\n",
              "      <th>titlebodyclass</th>\n",
              "      <th>Finalclass</th>\n",
              "    </tr>\n",
              "  </thead>\n",
              "  <tbody>\n",
              "    <tr>\n",
              "      <th>2995</th>\n",
              "      <td>FALSE</td>\n",
              "      <td>FALSE</td>\n",
              "      <td>TRUE</td>\n",
              "      <td>barely-true</td>\n",
              "      <td>FALSE</td>\n",
              "    </tr>\n",
              "    <tr>\n",
              "      <th>2996</th>\n",
              "      <td>mostly-true</td>\n",
              "      <td>FALSE</td>\n",
              "      <td>half-true</td>\n",
              "      <td>mostly-true</td>\n",
              "      <td>mostly-true</td>\n",
              "    </tr>\n",
              "    <tr>\n",
              "      <th>2997</th>\n",
              "      <td>FALSE</td>\n",
              "      <td>mostly-true</td>\n",
              "      <td>half-true</td>\n",
              "      <td>half-true</td>\n",
              "      <td>half-true</td>\n",
              "    </tr>\n",
              "    <tr>\n",
              "      <th>2998</th>\n",
              "      <td>mostly-true</td>\n",
              "      <td>mostly-true</td>\n",
              "      <td>TRUE</td>\n",
              "      <td>half-true</td>\n",
              "      <td>mostly-true</td>\n",
              "    </tr>\n",
              "    <tr>\n",
              "      <th>2999</th>\n",
              "      <td>FALSE</td>\n",
              "      <td>FALSE</td>\n",
              "      <td>barely-true</td>\n",
              "      <td>half-true</td>\n",
              "      <td>FALSE</td>\n",
              "    </tr>\n",
              "  </tbody>\n",
              "</table>\n",
              "</div>"
            ],
            "text/plain": [
              "     NodeRankClass politicalbiasClass  ... titlebodyclass   Finalclass\n",
              "2995         FALSE              FALSE  ...    barely-true        FALSE\n",
              "2996   mostly-true              FALSE  ...    mostly-true  mostly-true\n",
              "2997         FALSE        mostly-true  ...      half-true    half-true\n",
              "2998   mostly-true        mostly-true  ...      half-true  mostly-true\n",
              "2999         FALSE              FALSE  ...      half-true        FALSE\n",
              "\n",
              "[5 rows x 5 columns]"
            ]
          },
          "metadata": {
            "tags": []
          },
          "execution_count": 91
        }
      ]
    },
    {
      "cell_type": "code",
      "metadata": {
        "id": "o7gno9dFDiMj",
        "colab_type": "code",
        "colab": {}
      },
      "source": [
        "noderankdf['ActualClass'] = textlabel1"
      ],
      "execution_count": 0,
      "outputs": []
    },
    {
      "cell_type": "code",
      "metadata": {
        "id": "i0dZsDxADqWj",
        "colab_type": "code",
        "outputId": "71ee2bd1-cc68-4e6b-ce6f-e4e38ac6da04",
        "colab": {
          "base_uri": "https://localhost:8080/",
          "height": 206
        }
      },
      "source": [
        "noderankdf.head()"
      ],
      "execution_count": 0,
      "outputs": [
        {
          "output_type": "execute_result",
          "data": {
            "text/html": [
              "<div>\n",
              "<style scoped>\n",
              "    .dataframe tbody tr th:only-of-type {\n",
              "        vertical-align: middle;\n",
              "    }\n",
              "\n",
              "    .dataframe tbody tr th {\n",
              "        vertical-align: top;\n",
              "    }\n",
              "\n",
              "    .dataframe thead th {\n",
              "        text-align: right;\n",
              "    }\n",
              "</style>\n",
              "<table border=\"1\" class=\"dataframe\">\n",
              "  <thead>\n",
              "    <tr style=\"text-align: right;\">\n",
              "      <th></th>\n",
              "      <th>NodeRankClass</th>\n",
              "      <th>politicalbiasClass</th>\n",
              "      <th>clickbaitclass</th>\n",
              "      <th>titlebodyclass</th>\n",
              "      <th>Finalclass</th>\n",
              "      <th>ActualClass</th>\n",
              "    </tr>\n",
              "  </thead>\n",
              "  <tbody>\n",
              "    <tr>\n",
              "      <th>0</th>\n",
              "      <td>FALSE</td>\n",
              "      <td>FALSE</td>\n",
              "      <td>FALSE</td>\n",
              "      <td>half-true</td>\n",
              "      <td>FALSE</td>\n",
              "      <td>FALSE</td>\n",
              "    </tr>\n",
              "    <tr>\n",
              "      <th>1</th>\n",
              "      <td>half-true</td>\n",
              "      <td>mostly-true</td>\n",
              "      <td>half-true</td>\n",
              "      <td>half-true</td>\n",
              "      <td>half-true</td>\n",
              "      <td>half-true</td>\n",
              "    </tr>\n",
              "    <tr>\n",
              "      <th>2</th>\n",
              "      <td>mostly-true</td>\n",
              "      <td>mostly-true</td>\n",
              "      <td>mostly-true</td>\n",
              "      <td>half-true</td>\n",
              "      <td>mostly-true</td>\n",
              "      <td>mostly-true</td>\n",
              "    </tr>\n",
              "    <tr>\n",
              "      <th>3</th>\n",
              "      <td>mostly-true</td>\n",
              "      <td>half-true</td>\n",
              "      <td>FALSE</td>\n",
              "      <td>half-true</td>\n",
              "      <td>half-true</td>\n",
              "      <td>FALSE</td>\n",
              "    </tr>\n",
              "    <tr>\n",
              "      <th>4</th>\n",
              "      <td>FALSE</td>\n",
              "      <td>mostly-true</td>\n",
              "      <td>TRUE</td>\n",
              "      <td>half-true</td>\n",
              "      <td>FALSE</td>\n",
              "      <td>half-true</td>\n",
              "    </tr>\n",
              "  </tbody>\n",
              "</table>\n",
              "</div>"
            ],
            "text/plain": [
              "  NodeRankClass politicalbiasClass  ...   Finalclass  ActualClass\n",
              "0         FALSE              FALSE  ...        FALSE        FALSE\n",
              "1     half-true        mostly-true  ...    half-true    half-true\n",
              "2   mostly-true        mostly-true  ...  mostly-true  mostly-true\n",
              "3   mostly-true          half-true  ...    half-true        FALSE\n",
              "4         FALSE        mostly-true  ...        FALSE    half-true\n",
              "\n",
              "[5 rows x 6 columns]"
            ]
          },
          "metadata": {
            "tags": []
          },
          "execution_count": 93
        }
      ]
    },
    {
      "cell_type": "code",
      "metadata": {
        "id": "PRsuJKi6DrtZ",
        "colab_type": "code",
        "outputId": "8754c276-ecef-41ab-db96-4b6a8c5e21ec",
        "colab": {
          "base_uri": "https://localhost:8080/",
          "height": 34
        }
      },
      "source": [
        "metrics.accuracy_score(noderankdf['ActualClass'], noderankdf['Finalclass'])"
      ],
      "execution_count": 0,
      "outputs": [
        {
          "output_type": "execute_result",
          "data": {
            "text/plain": [
              "0.36433333333333334"
            ]
          },
          "metadata": {
            "tags": []
          },
          "execution_count": 94
        }
      ]
    },
    {
      "cell_type": "code",
      "metadata": {
        "id": "yjYcfOQcD7vF",
        "colab_type": "code",
        "colab": {}
      },
      "source": [
        ""
      ],
      "execution_count": 0,
      "outputs": []
    }
  ]
}